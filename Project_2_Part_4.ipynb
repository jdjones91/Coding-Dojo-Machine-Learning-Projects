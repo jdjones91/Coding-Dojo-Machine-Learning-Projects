{
  "nbformat": 4,
  "nbformat_minor": 0,
  "metadata": {
    "colab": {
      "provenance": [],
      "collapsed_sections": [],
      "mount_file_id": "1PF5oo415X73o-jHkNlX2ZKLpcDFljnqp",
      "authorship_tag": "ABX9TyO74aqrxQen8uso2sl+ZNJV",
      "include_colab_link": true
    },
    "kernelspec": {
      "name": "python3",
      "display_name": "Python 3"
    },
    "language_info": {
      "name": "python"
    }
  },
  "cells": [
    {
      "cell_type": "markdown",
      "metadata": {
        "id": "view-in-github",
        "colab_type": "text"
      },
      "source": [
        "<a href=\"https://colab.research.google.com/github/jdjones91/Coding-Dojo-Machine-Learning-Projects/blob/main/Project_2_Part_4.ipynb\" target=\"_parent\"><img src=\"https://colab.research.google.com/assets/colab-badge.svg\" alt=\"Open In Colab\"/></a>"
      ]
    },
    {
      "cell_type": "markdown",
      "source": [
        "# James Jones\n",
        "###10-20-2022\n"
      ],
      "metadata": {
        "id": "tcOsOb7Zbc9t"
      }
    },
    {
      "cell_type": "markdown",
      "source": [
        "# Project 2 - Part 4\n",
        "\n",
        "### Cleaning and exploration of of my data set"
      ],
      "metadata": {
        "id": "0mZWGRhVbo2D"
      }
    },
    {
      "cell_type": "code",
      "execution_count": 1,
      "metadata": {
        "id": "00jRyCmEXxmD"
      },
      "outputs": [],
      "source": [
        "# Import Libraries and load data for exploration\n",
        "import pandas as pd\n",
        "import numpy as np\n",
        "import matplotlib.pyplot as plt\n",
        "import seaborn as sns\n",
        "  # These are the only Libraries we need for now"
      ]
    },
    {
      "cell_type": "markdown",
      "source": [
        "# This data set comes from Kaggle\n",
        "  - https://www.kaggle.com/datasets/fedesoriano/cirrhosis-prediction-dataset?resource=download\n",
        "\n",
        "### This data set uses physiological markers to predict the stage of patient cirrhosis\n",
        "\n",
        "The target (y) is \"Stage\" (of cirrhosis)\n",
        "\n",
        "This is a multi-class *Classification* problem\n",
        "\n",
        "There are 19 Features (X) \n",
        "\n",
        "There are 418 rows (Approx 19 * 418 = 7,942 data points)\n",
        "\n",
        "## I am interested in this data set, because of my background B.S. in Emergency Medical Services. I would very much enjoy working with a healthcare company, hospital system, medical insurance company, etc. to kick off my new career."
      ],
      "metadata": {
        "id": "PVt-28a9qX8O"
      }
    },
    {
      "cell_type": "code",
      "source": [
        "# Load in data set and view df.head()\n",
        "df = pd.read_csv('/content/cirrhosis.csv')\n",
        "df.head()"
      ],
      "metadata": {
        "colab": {
          "base_uri": "https://localhost:8080/",
          "height": 204
        },
        "id": "2m3d1w_sqabh",
        "outputId": "7ee603fd-70b9-424e-9b01-5339bcdabf10"
      },
      "execution_count": 2,
      "outputs": [
        {
          "output_type": "execute_result",
          "data": {
            "text/plain": [
              "   ID  N_Days Status             Drug    Age Sex Ascites Hepatomegaly Spiders  \\\n",
              "0   1     400      D  D-penicillamine  21464   F       Y            Y       Y   \n",
              "1   2    4500      C  D-penicillamine  20617   F       N            Y       Y   \n",
              "2   3    1012      D  D-penicillamine  25594   M       N            N       N   \n",
              "3   4    1925      D  D-penicillamine  19994   F       N            Y       Y   \n",
              "4   5    1504     CL          Placebo  13918   F       N            Y       Y   \n",
              "\n",
              "  Edema  Bilirubin  Cholesterol  Albumin  Copper  Alk_Phos    SGOT  \\\n",
              "0     Y       14.5        261.0     2.60   156.0    1718.0  137.95   \n",
              "1     N        1.1        302.0     4.14    54.0    7394.8  113.52   \n",
              "2     S        1.4        176.0     3.48   210.0     516.0   96.10   \n",
              "3     S        1.8        244.0     2.54    64.0    6121.8   60.63   \n",
              "4     N        3.4        279.0     3.53   143.0     671.0  113.15   \n",
              "\n",
              "   Tryglicerides  Platelets  Prothrombin  Stage  \n",
              "0          172.0      190.0         12.2    4.0  \n",
              "1           88.0      221.0         10.6    3.0  \n",
              "2           55.0      151.0         12.0    4.0  \n",
              "3           92.0      183.0         10.3    4.0  \n",
              "4           72.0      136.0         10.9    3.0  "
            ],
            "text/html": [
              "\n",
              "  <div id=\"df-e2a93b73-a085-4dcc-a2ad-df674c893d4d\">\n",
              "    <div class=\"colab-df-container\">\n",
              "      <div>\n",
              "<style scoped>\n",
              "    .dataframe tbody tr th:only-of-type {\n",
              "        vertical-align: middle;\n",
              "    }\n",
              "\n",
              "    .dataframe tbody tr th {\n",
              "        vertical-align: top;\n",
              "    }\n",
              "\n",
              "    .dataframe thead th {\n",
              "        text-align: right;\n",
              "    }\n",
              "</style>\n",
              "<table border=\"1\" class=\"dataframe\">\n",
              "  <thead>\n",
              "    <tr style=\"text-align: right;\">\n",
              "      <th></th>\n",
              "      <th>ID</th>\n",
              "      <th>N_Days</th>\n",
              "      <th>Status</th>\n",
              "      <th>Drug</th>\n",
              "      <th>Age</th>\n",
              "      <th>Sex</th>\n",
              "      <th>Ascites</th>\n",
              "      <th>Hepatomegaly</th>\n",
              "      <th>Spiders</th>\n",
              "      <th>Edema</th>\n",
              "      <th>Bilirubin</th>\n",
              "      <th>Cholesterol</th>\n",
              "      <th>Albumin</th>\n",
              "      <th>Copper</th>\n",
              "      <th>Alk_Phos</th>\n",
              "      <th>SGOT</th>\n",
              "      <th>Tryglicerides</th>\n",
              "      <th>Platelets</th>\n",
              "      <th>Prothrombin</th>\n",
              "      <th>Stage</th>\n",
              "    </tr>\n",
              "  </thead>\n",
              "  <tbody>\n",
              "    <tr>\n",
              "      <th>0</th>\n",
              "      <td>1</td>\n",
              "      <td>400</td>\n",
              "      <td>D</td>\n",
              "      <td>D-penicillamine</td>\n",
              "      <td>21464</td>\n",
              "      <td>F</td>\n",
              "      <td>Y</td>\n",
              "      <td>Y</td>\n",
              "      <td>Y</td>\n",
              "      <td>Y</td>\n",
              "      <td>14.5</td>\n",
              "      <td>261.0</td>\n",
              "      <td>2.60</td>\n",
              "      <td>156.0</td>\n",
              "      <td>1718.0</td>\n",
              "      <td>137.95</td>\n",
              "      <td>172.0</td>\n",
              "      <td>190.0</td>\n",
              "      <td>12.2</td>\n",
              "      <td>4.0</td>\n",
              "    </tr>\n",
              "    <tr>\n",
              "      <th>1</th>\n",
              "      <td>2</td>\n",
              "      <td>4500</td>\n",
              "      <td>C</td>\n",
              "      <td>D-penicillamine</td>\n",
              "      <td>20617</td>\n",
              "      <td>F</td>\n",
              "      <td>N</td>\n",
              "      <td>Y</td>\n",
              "      <td>Y</td>\n",
              "      <td>N</td>\n",
              "      <td>1.1</td>\n",
              "      <td>302.0</td>\n",
              "      <td>4.14</td>\n",
              "      <td>54.0</td>\n",
              "      <td>7394.8</td>\n",
              "      <td>113.52</td>\n",
              "      <td>88.0</td>\n",
              "      <td>221.0</td>\n",
              "      <td>10.6</td>\n",
              "      <td>3.0</td>\n",
              "    </tr>\n",
              "    <tr>\n",
              "      <th>2</th>\n",
              "      <td>3</td>\n",
              "      <td>1012</td>\n",
              "      <td>D</td>\n",
              "      <td>D-penicillamine</td>\n",
              "      <td>25594</td>\n",
              "      <td>M</td>\n",
              "      <td>N</td>\n",
              "      <td>N</td>\n",
              "      <td>N</td>\n",
              "      <td>S</td>\n",
              "      <td>1.4</td>\n",
              "      <td>176.0</td>\n",
              "      <td>3.48</td>\n",
              "      <td>210.0</td>\n",
              "      <td>516.0</td>\n",
              "      <td>96.10</td>\n",
              "      <td>55.0</td>\n",
              "      <td>151.0</td>\n",
              "      <td>12.0</td>\n",
              "      <td>4.0</td>\n",
              "    </tr>\n",
              "    <tr>\n",
              "      <th>3</th>\n",
              "      <td>4</td>\n",
              "      <td>1925</td>\n",
              "      <td>D</td>\n",
              "      <td>D-penicillamine</td>\n",
              "      <td>19994</td>\n",
              "      <td>F</td>\n",
              "      <td>N</td>\n",
              "      <td>Y</td>\n",
              "      <td>Y</td>\n",
              "      <td>S</td>\n",
              "      <td>1.8</td>\n",
              "      <td>244.0</td>\n",
              "      <td>2.54</td>\n",
              "      <td>64.0</td>\n",
              "      <td>6121.8</td>\n",
              "      <td>60.63</td>\n",
              "      <td>92.0</td>\n",
              "      <td>183.0</td>\n",
              "      <td>10.3</td>\n",
              "      <td>4.0</td>\n",
              "    </tr>\n",
              "    <tr>\n",
              "      <th>4</th>\n",
              "      <td>5</td>\n",
              "      <td>1504</td>\n",
              "      <td>CL</td>\n",
              "      <td>Placebo</td>\n",
              "      <td>13918</td>\n",
              "      <td>F</td>\n",
              "      <td>N</td>\n",
              "      <td>Y</td>\n",
              "      <td>Y</td>\n",
              "      <td>N</td>\n",
              "      <td>3.4</td>\n",
              "      <td>279.0</td>\n",
              "      <td>3.53</td>\n",
              "      <td>143.0</td>\n",
              "      <td>671.0</td>\n",
              "      <td>113.15</td>\n",
              "      <td>72.0</td>\n",
              "      <td>136.0</td>\n",
              "      <td>10.9</td>\n",
              "      <td>3.0</td>\n",
              "    </tr>\n",
              "  </tbody>\n",
              "</table>\n",
              "</div>\n",
              "      <button class=\"colab-df-convert\" onclick=\"convertToInteractive('df-e2a93b73-a085-4dcc-a2ad-df674c893d4d')\"\n",
              "              title=\"Convert this dataframe to an interactive table.\"\n",
              "              style=\"display:none;\">\n",
              "        \n",
              "  <svg xmlns=\"http://www.w3.org/2000/svg\" height=\"24px\"viewBox=\"0 0 24 24\"\n",
              "       width=\"24px\">\n",
              "    <path d=\"M0 0h24v24H0V0z\" fill=\"none\"/>\n",
              "    <path d=\"M18.56 5.44l.94 2.06.94-2.06 2.06-.94-2.06-.94-.94-2.06-.94 2.06-2.06.94zm-11 1L8.5 8.5l.94-2.06 2.06-.94-2.06-.94L8.5 2.5l-.94 2.06-2.06.94zm10 10l.94 2.06.94-2.06 2.06-.94-2.06-.94-.94-2.06-.94 2.06-2.06.94z\"/><path d=\"M17.41 7.96l-1.37-1.37c-.4-.4-.92-.59-1.43-.59-.52 0-1.04.2-1.43.59L10.3 9.45l-7.72 7.72c-.78.78-.78 2.05 0 2.83L4 21.41c.39.39.9.59 1.41.59.51 0 1.02-.2 1.41-.59l7.78-7.78 2.81-2.81c.8-.78.8-2.07 0-2.86zM5.41 20L4 18.59l7.72-7.72 1.47 1.35L5.41 20z\"/>\n",
              "  </svg>\n",
              "      </button>\n",
              "      \n",
              "  <style>\n",
              "    .colab-df-container {\n",
              "      display:flex;\n",
              "      flex-wrap:wrap;\n",
              "      gap: 12px;\n",
              "    }\n",
              "\n",
              "    .colab-df-convert {\n",
              "      background-color: #E8F0FE;\n",
              "      border: none;\n",
              "      border-radius: 50%;\n",
              "      cursor: pointer;\n",
              "      display: none;\n",
              "      fill: #1967D2;\n",
              "      height: 32px;\n",
              "      padding: 0 0 0 0;\n",
              "      width: 32px;\n",
              "    }\n",
              "\n",
              "    .colab-df-convert:hover {\n",
              "      background-color: #E2EBFA;\n",
              "      box-shadow: 0px 1px 2px rgba(60, 64, 67, 0.3), 0px 1px 3px 1px rgba(60, 64, 67, 0.15);\n",
              "      fill: #174EA6;\n",
              "    }\n",
              "\n",
              "    [theme=dark] .colab-df-convert {\n",
              "      background-color: #3B4455;\n",
              "      fill: #D2E3FC;\n",
              "    }\n",
              "\n",
              "    [theme=dark] .colab-df-convert:hover {\n",
              "      background-color: #434B5C;\n",
              "      box-shadow: 0px 1px 3px 1px rgba(0, 0, 0, 0.15);\n",
              "      filter: drop-shadow(0px 1px 2px rgba(0, 0, 0, 0.3));\n",
              "      fill: #FFFFFF;\n",
              "    }\n",
              "  </style>\n",
              "\n",
              "      <script>\n",
              "        const buttonEl =\n",
              "          document.querySelector('#df-e2a93b73-a085-4dcc-a2ad-df674c893d4d button.colab-df-convert');\n",
              "        buttonEl.style.display =\n",
              "          google.colab.kernel.accessAllowed ? 'block' : 'none';\n",
              "\n",
              "        async function convertToInteractive(key) {\n",
              "          const element = document.querySelector('#df-e2a93b73-a085-4dcc-a2ad-df674c893d4d');\n",
              "          const dataTable =\n",
              "            await google.colab.kernel.invokeFunction('convertToInteractive',\n",
              "                                                     [key], {});\n",
              "          if (!dataTable) return;\n",
              "\n",
              "          const docLinkHtml = 'Like what you see? Visit the ' +\n",
              "            '<a target=\"_blank\" href=https://colab.research.google.com/notebooks/data_table.ipynb>data table notebook</a>'\n",
              "            + ' to learn more about interactive tables.';\n",
              "          element.innerHTML = '';\n",
              "          dataTable['output_type'] = 'display_data';\n",
              "          await google.colab.output.renderOutput(dataTable, element);\n",
              "          const docLink = document.createElement('div');\n",
              "          docLink.innerHTML = docLinkHtml;\n",
              "          element.appendChild(docLink);\n",
              "        }\n",
              "      </script>\n",
              "    </div>\n",
              "  </div>\n",
              "  "
            ]
          },
          "metadata": {},
          "execution_count": 2
        }
      ]
    },
    {
      "cell_type": "code",
      "source": [
        "# There are some modifications tha we need to make to our data set, so let's work with a copy\n",
        "c_df = df.copy()"
      ],
      "metadata": {
        "id": "2ywp3QNx1Iw4"
      },
      "execution_count": 3,
      "outputs": []
    },
    {
      "cell_type": "code",
      "source": [
        "# We can drop the ID rown, because it wont provide any useful information\n",
        "  # We will still have the index column for row location, etc\n",
        "c_df.drop(columns = 'ID', inplace = True)"
      ],
      "metadata": {
        "id": "IuMzhBSJ1zGn"
      },
      "execution_count": 4,
      "outputs": []
    },
    {
      "cell_type": "code",
      "source": [
        "# Take a general look at our data set\n",
        "c_df.info()\n",
        "  # We have a mix of object and numeric columns"
      ],
      "metadata": {
        "colab": {
          "base_uri": "https://localhost:8080/"
        },
        "id": "_Q4oadUte_Qa",
        "outputId": "5bb67601-fcb4-4540-ed50-2c025beb0473"
      },
      "execution_count": 5,
      "outputs": [
        {
          "output_type": "stream",
          "name": "stdout",
          "text": [
            "<class 'pandas.core.frame.DataFrame'>\n",
            "RangeIndex: 418 entries, 0 to 417\n",
            "Data columns (total 19 columns):\n",
            " #   Column         Non-Null Count  Dtype  \n",
            "---  ------         --------------  -----  \n",
            " 0   N_Days         418 non-null    int64  \n",
            " 1   Status         418 non-null    object \n",
            " 2   Drug           312 non-null    object \n",
            " 3   Age            418 non-null    int64  \n",
            " 4   Sex            418 non-null    object \n",
            " 5   Ascites        312 non-null    object \n",
            " 6   Hepatomegaly   312 non-null    object \n",
            " 7   Spiders        312 non-null    object \n",
            " 8   Edema          418 non-null    object \n",
            " 9   Bilirubin      418 non-null    float64\n",
            " 10  Cholesterol    284 non-null    float64\n",
            " 11  Albumin        418 non-null    float64\n",
            " 12  Copper         310 non-null    float64\n",
            " 13  Alk_Phos       312 non-null    float64\n",
            " 14  SGOT           312 non-null    float64\n",
            " 15  Tryglicerides  282 non-null    float64\n",
            " 16  Platelets      407 non-null    float64\n",
            " 17  Prothrombin    416 non-null    float64\n",
            " 18  Stage          412 non-null    float64\n",
            "dtypes: float64(10), int64(2), object(7)\n",
            "memory usage: 62.2+ KB\n"
          ]
        }
      ]
    },
    {
      "cell_type": "code",
      "source": [
        "# We will have a lot of imputing to do\n",
        "c_df.isna().sum().sum()"
      ],
      "metadata": {
        "colab": {
          "base_uri": "https://localhost:8080/"
        },
        "id": "DiFqiT9leIaJ",
        "outputId": "c207b57b-4e8f-4f8c-f351-b396643d073b"
      },
      "execution_count": 6,
      "outputs": [
        {
          "output_type": "execute_result",
          "data": {
            "text/plain": [
              "1033"
            ]
          },
          "metadata": {},
          "execution_count": 6
        }
      ]
    },
    {
      "cell_type": "code",
      "source": [
        "# No duplicates\n",
        "c_df.duplicated().sum()"
      ],
      "metadata": {
        "colab": {
          "base_uri": "https://localhost:8080/"
        },
        "id": "XOP9fBIztZ8L",
        "outputId": "0b9f881e-3536-4ece-f5e6-a98b3bb0ba75"
      },
      "execution_count": 7,
      "outputs": [
        {
          "output_type": "execute_result",
          "data": {
            "text/plain": [
              "0"
            ]
          },
          "metadata": {},
          "execution_count": 7
        }
      ]
    },
    {
      "cell_type": "code",
      "source": [
        "# Take a look at outlier and gather more information\n",
        "c_df.describe()"
      ],
      "metadata": {
        "colab": {
          "base_uri": "https://localhost:8080/",
          "height": 297
        },
        "id": "dq7qIER20fOA",
        "outputId": "3c42def0-d1ef-4354-ae56-da84be903d25"
      },
      "execution_count": 8,
      "outputs": [
        {
          "output_type": "execute_result",
          "data": {
            "text/plain": [
              "            N_Days           Age   Bilirubin  Cholesterol     Albumin  \\\n",
              "count   418.000000    418.000000  418.000000   284.000000  418.000000   \n",
              "mean   1917.782297  18533.351675    3.220813   369.510563    3.497440   \n",
              "std    1104.672992   3815.845055    4.407506   231.944545    0.424972   \n",
              "min      41.000000   9598.000000    0.300000   120.000000    1.960000   \n",
              "25%    1092.750000  15644.500000    0.800000   249.500000    3.242500   \n",
              "50%    1730.000000  18628.000000    1.400000   309.500000    3.530000   \n",
              "75%    2613.500000  21272.500000    3.400000   400.000000    3.770000   \n",
              "max    4795.000000  28650.000000   28.000000  1775.000000    4.640000   \n",
              "\n",
              "           Copper      Alk_Phos        SGOT  Tryglicerides   Platelets  \\\n",
              "count  310.000000    312.000000  312.000000     282.000000  407.000000   \n",
              "mean    97.648387   1982.655769  122.556346     124.702128  257.024570   \n",
              "std     85.613920   2140.388824   56.699525      65.148639   98.325585   \n",
              "min      4.000000    289.000000   26.350000      33.000000   62.000000   \n",
              "25%     41.250000    871.500000   80.600000      84.250000  188.500000   \n",
              "50%     73.000000   1259.000000  114.700000     108.000000  251.000000   \n",
              "75%    123.000000   1980.000000  151.900000     151.000000  318.000000   \n",
              "max    588.000000  13862.400000  457.250000     598.000000  721.000000   \n",
              "\n",
              "       Prothrombin       Stage  \n",
              "count   416.000000  412.000000  \n",
              "mean     10.731731    3.024272  \n",
              "std       1.022000    0.882042  \n",
              "min       9.000000    1.000000  \n",
              "25%      10.000000    2.000000  \n",
              "50%      10.600000    3.000000  \n",
              "75%      11.100000    4.000000  \n",
              "max      18.000000    4.000000  "
            ],
            "text/html": [
              "\n",
              "  <div id=\"df-67eefc33-80b0-428f-b071-d5601d1978a4\">\n",
              "    <div class=\"colab-df-container\">\n",
              "      <div>\n",
              "<style scoped>\n",
              "    .dataframe tbody tr th:only-of-type {\n",
              "        vertical-align: middle;\n",
              "    }\n",
              "\n",
              "    .dataframe tbody tr th {\n",
              "        vertical-align: top;\n",
              "    }\n",
              "\n",
              "    .dataframe thead th {\n",
              "        text-align: right;\n",
              "    }\n",
              "</style>\n",
              "<table border=\"1\" class=\"dataframe\">\n",
              "  <thead>\n",
              "    <tr style=\"text-align: right;\">\n",
              "      <th></th>\n",
              "      <th>N_Days</th>\n",
              "      <th>Age</th>\n",
              "      <th>Bilirubin</th>\n",
              "      <th>Cholesterol</th>\n",
              "      <th>Albumin</th>\n",
              "      <th>Copper</th>\n",
              "      <th>Alk_Phos</th>\n",
              "      <th>SGOT</th>\n",
              "      <th>Tryglicerides</th>\n",
              "      <th>Platelets</th>\n",
              "      <th>Prothrombin</th>\n",
              "      <th>Stage</th>\n",
              "    </tr>\n",
              "  </thead>\n",
              "  <tbody>\n",
              "    <tr>\n",
              "      <th>count</th>\n",
              "      <td>418.000000</td>\n",
              "      <td>418.000000</td>\n",
              "      <td>418.000000</td>\n",
              "      <td>284.000000</td>\n",
              "      <td>418.000000</td>\n",
              "      <td>310.000000</td>\n",
              "      <td>312.000000</td>\n",
              "      <td>312.000000</td>\n",
              "      <td>282.000000</td>\n",
              "      <td>407.000000</td>\n",
              "      <td>416.000000</td>\n",
              "      <td>412.000000</td>\n",
              "    </tr>\n",
              "    <tr>\n",
              "      <th>mean</th>\n",
              "      <td>1917.782297</td>\n",
              "      <td>18533.351675</td>\n",
              "      <td>3.220813</td>\n",
              "      <td>369.510563</td>\n",
              "      <td>3.497440</td>\n",
              "      <td>97.648387</td>\n",
              "      <td>1982.655769</td>\n",
              "      <td>122.556346</td>\n",
              "      <td>124.702128</td>\n",
              "      <td>257.024570</td>\n",
              "      <td>10.731731</td>\n",
              "      <td>3.024272</td>\n",
              "    </tr>\n",
              "    <tr>\n",
              "      <th>std</th>\n",
              "      <td>1104.672992</td>\n",
              "      <td>3815.845055</td>\n",
              "      <td>4.407506</td>\n",
              "      <td>231.944545</td>\n",
              "      <td>0.424972</td>\n",
              "      <td>85.613920</td>\n",
              "      <td>2140.388824</td>\n",
              "      <td>56.699525</td>\n",
              "      <td>65.148639</td>\n",
              "      <td>98.325585</td>\n",
              "      <td>1.022000</td>\n",
              "      <td>0.882042</td>\n",
              "    </tr>\n",
              "    <tr>\n",
              "      <th>min</th>\n",
              "      <td>41.000000</td>\n",
              "      <td>9598.000000</td>\n",
              "      <td>0.300000</td>\n",
              "      <td>120.000000</td>\n",
              "      <td>1.960000</td>\n",
              "      <td>4.000000</td>\n",
              "      <td>289.000000</td>\n",
              "      <td>26.350000</td>\n",
              "      <td>33.000000</td>\n",
              "      <td>62.000000</td>\n",
              "      <td>9.000000</td>\n",
              "      <td>1.000000</td>\n",
              "    </tr>\n",
              "    <tr>\n",
              "      <th>25%</th>\n",
              "      <td>1092.750000</td>\n",
              "      <td>15644.500000</td>\n",
              "      <td>0.800000</td>\n",
              "      <td>249.500000</td>\n",
              "      <td>3.242500</td>\n",
              "      <td>41.250000</td>\n",
              "      <td>871.500000</td>\n",
              "      <td>80.600000</td>\n",
              "      <td>84.250000</td>\n",
              "      <td>188.500000</td>\n",
              "      <td>10.000000</td>\n",
              "      <td>2.000000</td>\n",
              "    </tr>\n",
              "    <tr>\n",
              "      <th>50%</th>\n",
              "      <td>1730.000000</td>\n",
              "      <td>18628.000000</td>\n",
              "      <td>1.400000</td>\n",
              "      <td>309.500000</td>\n",
              "      <td>3.530000</td>\n",
              "      <td>73.000000</td>\n",
              "      <td>1259.000000</td>\n",
              "      <td>114.700000</td>\n",
              "      <td>108.000000</td>\n",
              "      <td>251.000000</td>\n",
              "      <td>10.600000</td>\n",
              "      <td>3.000000</td>\n",
              "    </tr>\n",
              "    <tr>\n",
              "      <th>75%</th>\n",
              "      <td>2613.500000</td>\n",
              "      <td>21272.500000</td>\n",
              "      <td>3.400000</td>\n",
              "      <td>400.000000</td>\n",
              "      <td>3.770000</td>\n",
              "      <td>123.000000</td>\n",
              "      <td>1980.000000</td>\n",
              "      <td>151.900000</td>\n",
              "      <td>151.000000</td>\n",
              "      <td>318.000000</td>\n",
              "      <td>11.100000</td>\n",
              "      <td>4.000000</td>\n",
              "    </tr>\n",
              "    <tr>\n",
              "      <th>max</th>\n",
              "      <td>4795.000000</td>\n",
              "      <td>28650.000000</td>\n",
              "      <td>28.000000</td>\n",
              "      <td>1775.000000</td>\n",
              "      <td>4.640000</td>\n",
              "      <td>588.000000</td>\n",
              "      <td>13862.400000</td>\n",
              "      <td>457.250000</td>\n",
              "      <td>598.000000</td>\n",
              "      <td>721.000000</td>\n",
              "      <td>18.000000</td>\n",
              "      <td>4.000000</td>\n",
              "    </tr>\n",
              "  </tbody>\n",
              "</table>\n",
              "</div>\n",
              "      <button class=\"colab-df-convert\" onclick=\"convertToInteractive('df-67eefc33-80b0-428f-b071-d5601d1978a4')\"\n",
              "              title=\"Convert this dataframe to an interactive table.\"\n",
              "              style=\"display:none;\">\n",
              "        \n",
              "  <svg xmlns=\"http://www.w3.org/2000/svg\" height=\"24px\"viewBox=\"0 0 24 24\"\n",
              "       width=\"24px\">\n",
              "    <path d=\"M0 0h24v24H0V0z\" fill=\"none\"/>\n",
              "    <path d=\"M18.56 5.44l.94 2.06.94-2.06 2.06-.94-2.06-.94-.94-2.06-.94 2.06-2.06.94zm-11 1L8.5 8.5l.94-2.06 2.06-.94-2.06-.94L8.5 2.5l-.94 2.06-2.06.94zm10 10l.94 2.06.94-2.06 2.06-.94-2.06-.94-.94-2.06-.94 2.06-2.06.94z\"/><path d=\"M17.41 7.96l-1.37-1.37c-.4-.4-.92-.59-1.43-.59-.52 0-1.04.2-1.43.59L10.3 9.45l-7.72 7.72c-.78.78-.78 2.05 0 2.83L4 21.41c.39.39.9.59 1.41.59.51 0 1.02-.2 1.41-.59l7.78-7.78 2.81-2.81c.8-.78.8-2.07 0-2.86zM5.41 20L4 18.59l7.72-7.72 1.47 1.35L5.41 20z\"/>\n",
              "  </svg>\n",
              "      </button>\n",
              "      \n",
              "  <style>\n",
              "    .colab-df-container {\n",
              "      display:flex;\n",
              "      flex-wrap:wrap;\n",
              "      gap: 12px;\n",
              "    }\n",
              "\n",
              "    .colab-df-convert {\n",
              "      background-color: #E8F0FE;\n",
              "      border: none;\n",
              "      border-radius: 50%;\n",
              "      cursor: pointer;\n",
              "      display: none;\n",
              "      fill: #1967D2;\n",
              "      height: 32px;\n",
              "      padding: 0 0 0 0;\n",
              "      width: 32px;\n",
              "    }\n",
              "\n",
              "    .colab-df-convert:hover {\n",
              "      background-color: #E2EBFA;\n",
              "      box-shadow: 0px 1px 2px rgba(60, 64, 67, 0.3), 0px 1px 3px 1px rgba(60, 64, 67, 0.15);\n",
              "      fill: #174EA6;\n",
              "    }\n",
              "\n",
              "    [theme=dark] .colab-df-convert {\n",
              "      background-color: #3B4455;\n",
              "      fill: #D2E3FC;\n",
              "    }\n",
              "\n",
              "    [theme=dark] .colab-df-convert:hover {\n",
              "      background-color: #434B5C;\n",
              "      box-shadow: 0px 1px 3px 1px rgba(0, 0, 0, 0.15);\n",
              "      filter: drop-shadow(0px 1px 2px rgba(0, 0, 0, 0.3));\n",
              "      fill: #FFFFFF;\n",
              "    }\n",
              "  </style>\n",
              "\n",
              "      <script>\n",
              "        const buttonEl =\n",
              "          document.querySelector('#df-67eefc33-80b0-428f-b071-d5601d1978a4 button.colab-df-convert');\n",
              "        buttonEl.style.display =\n",
              "          google.colab.kernel.accessAllowed ? 'block' : 'none';\n",
              "\n",
              "        async function convertToInteractive(key) {\n",
              "          const element = document.querySelector('#df-67eefc33-80b0-428f-b071-d5601d1978a4');\n",
              "          const dataTable =\n",
              "            await google.colab.kernel.invokeFunction('convertToInteractive',\n",
              "                                                     [key], {});\n",
              "          if (!dataTable) return;\n",
              "\n",
              "          const docLinkHtml = 'Like what you see? Visit the ' +\n",
              "            '<a target=\"_blank\" href=https://colab.research.google.com/notebooks/data_table.ipynb>data table notebook</a>'\n",
              "            + ' to learn more about interactive tables.';\n",
              "          element.innerHTML = '';\n",
              "          dataTable['output_type'] = 'display_data';\n",
              "          await google.colab.output.renderOutput(dataTable, element);\n",
              "          const docLink = document.createElement('div');\n",
              "          docLink.innerHTML = docLinkHtml;\n",
              "          element.appendChild(docLink);\n",
              "        }\n",
              "      </script>\n",
              "    </div>\n",
              "  </div>\n",
              "  "
            ]
          },
          "metadata": {},
          "execution_count": 8
        }
      ]
    },
    {
      "cell_type": "code",
      "source": [
        "# Age is listed as \"Days\", making our oldest patient 78 years old. This is normal\n",
        "   # Get info on our object columns\n",
        "c_df.dtypes "
      ],
      "metadata": {
        "colab": {
          "base_uri": "https://localhost:8080/"
        },
        "id": "_4Mh7CbnHai_",
        "outputId": "353d5717-c003-49a8-befd-ffcb73ca1838"
      },
      "execution_count": 9,
      "outputs": [
        {
          "output_type": "execute_result",
          "data": {
            "text/plain": [
              "N_Days             int64\n",
              "Status            object\n",
              "Drug              object\n",
              "Age                int64\n",
              "Sex               object\n",
              "Ascites           object\n",
              "Hepatomegaly      object\n",
              "Spiders           object\n",
              "Edema             object\n",
              "Bilirubin        float64\n",
              "Cholesterol      float64\n",
              "Albumin          float64\n",
              "Copper           float64\n",
              "Alk_Phos         float64\n",
              "SGOT             float64\n",
              "Tryglicerides    float64\n",
              "Platelets        float64\n",
              "Prothrombin      float64\n",
              "Stage            float64\n",
              "dtype: object"
            ]
          },
          "metadata": {},
          "execution_count": 9
        }
      ]
    },
    {
      "cell_type": "markdown",
      "source": [
        "### The next three cells were written AFTER I tried to build a Logistic Regression Model, and recieved an error\n",
        "- When fittiing the model on my training data, I recieved an error that my data contained NaN or infinite values. So I came back, checked my target (y) and viola, found the problem. I was clued in to the issue being in my target, because I did not recieved this erro when fitting the proprocessor to my X_train alone\n",
        "\n",
        "### *Note: NaN values in our 'X' set will be addressed by our imputers later on*"
      ],
      "metadata": {
        "id": "z0LMb31HDx__"
      }
    },
    {
      "cell_type": "code",
      "source": [
        "c_df['Stage'].value_counts(dropna = False)\n",
        "# All values are appropriate"
      ],
      "metadata": {
        "colab": {
          "base_uri": "https://localhost:8080/"
        },
        "id": "RgFr2lWFFzlK",
        "outputId": "11076338-4f73-4a5b-9db0-c95e742bd29f"
      },
      "execution_count": 10,
      "outputs": [
        {
          "output_type": "execute_result",
          "data": {
            "text/plain": [
              "3.0    155\n",
              "4.0    144\n",
              "2.0     92\n",
              "1.0     21\n",
              "NaN      6\n",
              "Name: Stage, dtype: int64"
            ]
          },
          "metadata": {},
          "execution_count": 10
        }
      ]
    },
    {
      "cell_type": "code",
      "source": [
        "# Drop NaN values\n",
        "c_df.dropna(subset = ['Stage'], inplace = True)"
      ],
      "metadata": {
        "id": "yN5FVWw79W4Z"
      },
      "execution_count": 11,
      "outputs": []
    },
    {
      "cell_type": "code",
      "source": [
        "# Check that they are indeed gone\n",
        "c_df['Stage'].value_counts(dropna = False)"
      ],
      "metadata": {
        "colab": {
          "base_uri": "https://localhost:8080/"
        },
        "id": "fOcVSWGW9sgj",
        "outputId": "1a3fe1bc-3137-480f-c713-761c4095d42d"
      },
      "execution_count": 12,
      "outputs": [
        {
          "output_type": "execute_result",
          "data": {
            "text/plain": [
              "3.0    155\n",
              "4.0    144\n",
              "2.0     92\n",
              "1.0     21\n",
              "Name: Stage, dtype: int64"
            ]
          },
          "metadata": {},
          "execution_count": 12
        }
      ]
    },
    {
      "cell_type": "code",
      "source": [
        "# No strange values here\n",
        "c_df['Sex'].value_counts()"
      ],
      "metadata": {
        "colab": {
          "base_uri": "https://localhost:8080/"
        },
        "id": "k036Wdb0GSvy",
        "outputId": "329f9b12-f5d3-43e7-d12c-58a71957fda0"
      },
      "execution_count": 13,
      "outputs": [
        {
          "output_type": "execute_result",
          "data": {
            "text/plain": [
              "F    368\n",
              "M     44\n",
              "Name: Sex, dtype: int64"
            ]
          },
          "metadata": {},
          "execution_count": 13
        }
      ]
    },
    {
      "cell_type": "code",
      "source": [
        "# All values are appropriate\n",
        "c_df['Status'].value_counts()"
      ],
      "metadata": {
        "colab": {
          "base_uri": "https://localhost:8080/"
        },
        "id": "1Hfu2UMkG6id",
        "outputId": "c7311c9d-6d14-4b2f-af7d-f2814cc2a39b"
      },
      "execution_count": 14,
      "outputs": [
        {
          "output_type": "execute_result",
          "data": {
            "text/plain": [
              "C     230\n",
              "D     157\n",
              "CL     25\n",
              "Name: Status, dtype: int64"
            ]
          },
          "metadata": {},
          "execution_count": 14
        }
      ]
    },
    {
      "cell_type": "code",
      "source": [
        "# All values are appropriate\n",
        "c_df['Drug'].value_counts()"
      ],
      "metadata": {
        "colab": {
          "base_uri": "https://localhost:8080/"
        },
        "id": "lX9NZvNhHMYa",
        "outputId": "ac4eabb3-832c-4552-91c3-2b358e8069c0"
      },
      "execution_count": 15,
      "outputs": [
        {
          "output_type": "execute_result",
          "data": {
            "text/plain": [
              "D-penicillamine    158\n",
              "Placebo            154\n",
              "Name: Drug, dtype: int64"
            ]
          },
          "metadata": {},
          "execution_count": 15
        }
      ]
    },
    {
      "cell_type": "code",
      "source": [
        "# All values are appropriate\n",
        "c_df['Ascites'].value_counts()"
      ],
      "metadata": {
        "colab": {
          "base_uri": "https://localhost:8080/"
        },
        "id": "Mwtq9VIbHS9u",
        "outputId": "7903bb47-c878-4938-9726-a5b197568517"
      },
      "execution_count": 16,
      "outputs": [
        {
          "output_type": "execute_result",
          "data": {
            "text/plain": [
              "N    288\n",
              "Y     24\n",
              "Name: Ascites, dtype: int64"
            ]
          },
          "metadata": {},
          "execution_count": 16
        }
      ]
    },
    {
      "cell_type": "code",
      "source": [
        "# All values are appropriate\n",
        "c_df['Hepatomegaly'].value_counts()"
      ],
      "metadata": {
        "colab": {
          "base_uri": "https://localhost:8080/"
        },
        "id": "i23fpGovHw7U",
        "outputId": "8d650589-755d-4e8e-8e60-ecb709c0ce7e"
      },
      "execution_count": 17,
      "outputs": [
        {
          "output_type": "execute_result",
          "data": {
            "text/plain": [
              "Y    160\n",
              "N    152\n",
              "Name: Hepatomegaly, dtype: int64"
            ]
          },
          "metadata": {},
          "execution_count": 17
        }
      ]
    },
    {
      "cell_type": "code",
      "source": [
        "# All values are appropriate\n",
        "c_df['Spiders'].value_counts()"
      ],
      "metadata": {
        "colab": {
          "base_uri": "https://localhost:8080/"
        },
        "id": "QvgulxmJH44L",
        "outputId": "44913123-4f41-4c7a-e2a1-8484f21c4042"
      },
      "execution_count": 18,
      "outputs": [
        {
          "output_type": "execute_result",
          "data": {
            "text/plain": [
              "N    222\n",
              "Y     90\n",
              "Name: Spiders, dtype: int64"
            ]
          },
          "metadata": {},
          "execution_count": 18
        }
      ]
    },
    {
      "cell_type": "code",
      "source": [
        "# All values are appropriate\n",
        "c_df['Edema'].value_counts()"
      ],
      "metadata": {
        "colab": {
          "base_uri": "https://localhost:8080/"
        },
        "id": "WZL1RkMDH9Vq",
        "outputId": "09b26cff-d02d-4fac-bc53-197a26a29eb1"
      },
      "execution_count": 19,
      "outputs": [
        {
          "output_type": "execute_result",
          "data": {
            "text/plain": [
              "N    348\n",
              "S     44\n",
              "Y     20\n",
              "Name: Edema, dtype: int64"
            ]
          },
          "metadata": {},
          "execution_count": 19
        }
      ]
    },
    {
      "cell_type": "markdown",
      "source": [
        "## All of our missing values can be handled in a preprocessor using imputers"
      ],
      "metadata": {
        "id": "xwTKsEoHJFTh"
      }
    },
    {
      "cell_type": "markdown",
      "source": [
        "# Below, we will explore our data with visualizations\n",
        "\n",
        "### Here is a key explaning our Columns\n",
        "\n",
        "1) ID: unique identifier - (*We dropped this column*)\n",
        "\n",
        "2) N_Days: number of days between registration and the earlier of death, transplantation, or study analysis time in July 1986\n",
        "\n",
        "3) Status: status of the patient C (censored), CL (censored due to liver tx), or D (death)\n",
        "\n",
        "4) Drug: type of drug D-penicillamine or placebo\n",
        "\n",
        "5) Age: age in [days]\n",
        "\n",
        "6) Sex: M (male) or F (female)\n",
        "\n",
        "7) Ascites: presence of ascites N (No) or Y (Yes)\n",
        "\n",
        "8) Hepatomegaly: presence of hepatomegaly N (No) or Y (Yes)\n",
        "\n",
        "9) Spiders: presence of spiders N (No) or Y (Yes)\n",
        "\n",
        "10) Edema: presence of edema N (no edema and no diuretic therapy for edema), S (edema present without diuretics, or edema resolved by diuretics), or Y (edema despite diuretic therapy)\n",
        "\n",
        "11) Bilirubin: serum bilirubin in [mg/dl]\n",
        "\n",
        "12) Cholesterol: serum cholesterol in [mg/dl]\n",
        "\n",
        "13) Albumin: albumin in [gm/dl]\n",
        "\n",
        "14) Copper: urine copper in [ug/day]\n",
        "\n",
        "15) Alk_Phos: alkaline phosphatase in [U/liter]\n",
        "\n",
        "16) SGOT: SGOT in [U/ml]\n",
        "\n",
        "17) Triglycerides: triglicerides in [mg/dl]\n",
        "\n",
        "18) Platelets: platelets per cubic [ml/1000]\n",
        "\n",
        "19) Prothrombin: prothrombin time in seconds [s]\n",
        "\n",
        "20) Stage: histologic stage of disease (1, 2, 3, or 4)"
      ],
      "metadata": {
        "id": "1PvZ32FRRqqX"
      }
    },
    {
      "cell_type": "code",
      "source": [
        "# Lest's visualize some our data to gather more understanding \n",
        "c_df[\"Stage\"].hist();\n",
        "  # We can see here, that of the patients recorded, we primarily see stage 3\n",
        "  # This shows some imbalance in our target (very small number of stage 1), which may need to be addressed later"
      ],
      "metadata": {
        "colab": {
          "base_uri": "https://localhost:8080/",
          "height": 266
        },
        "id": "tVHwFM6zICH-",
        "outputId": "87d7c0e4-2189-40c5-8f4d-9dd76c961c18"
      },
      "execution_count": 20,
      "outputs": [
        {
          "output_type": "display_data",
          "data": {
            "text/plain": [
              "<Figure size 432x288 with 1 Axes>"
            ],
            "image/png": "[encoded data removed]"
          },
          "metadata": {
            "needs_background": "light"
          }
        }
      ]
    },
    {
      "cell_type": "code",
      "source": [
        "# Let's explore the distribution of our cholesterol levels\n",
        "\n",
        "sns.boxplot(x = df[\"Cholesterol\"], notch = True);\n",
        "  # Our cholesterol levels are mostly between ~ 225 - 400"
      ],
      "metadata": {
        "colab": {
          "base_uri": "https://localhost:8080/",
          "height": 279
        },
        "id": "Rj925IDgHQdW",
        "outputId": "1b0de4ca-8c85-435a-9ebe-3eb45c337622"
      },
      "execution_count": 21,
      "outputs": [
        {
          "output_type": "display_data",
          "data": {
            "text/plain": [
              "<Figure size 432x288 with 1 Axes>"
            ],
            "image/png": "[encoded data removed]"
          },
          "metadata": {
            "needs_background": "light"
          }
        }
      ]
    },
    {
      "cell_type": "code",
      "source": [
        "# And a histogram of our age (in days)\n",
        "c_df[\"Age\"].hist();\n",
        "  # The age of our patients lies mostly between 15,000 - 22,500 days (41-61 years old)"
      ],
      "metadata": {
        "colab": {
          "base_uri": "https://localhost:8080/",
          "height": 265
        },
        "id": "ZZuVmo5xO4Qv",
        "outputId": "57d19e90-ba92-4904-a305-faef96a8a4e1"
      },
      "execution_count": 22,
      "outputs": [
        {
          "output_type": "display_data",
          "data": {
            "text/plain": [
              "<Figure size 432x288 with 1 Axes>"
            ],
            "image/png": "[encoded data removed]"
          },
          "metadata": {
            "needs_background": "light"
          }
        }
      ]
    },
    {
      "cell_type": "markdown",
      "source": [
        "### I want to add a couple multivariate visuals, because we can!"
      ],
      "metadata": {
        "id": "l9CsaIFOQhqs"
      }
    },
    {
      "cell_type": "code",
      "source": [
        "# Look at Sex and Tryglicerides\n",
        "sns.boxplot(x = 'Sex', y = 'Tryglicerides', data = c_df);\n",
        "  # This shows tha Males have higher median Trygliceride levels\n",
        "  # Females have higher Trygliceride outliers "
      ],
      "metadata": {
        "colab": {
          "base_uri": "https://localhost:8080/",
          "height": 279
        },
        "id": "eXeQgYCOQFeV",
        "outputId": "0dba9c1b-01f3-480b-d2e6-74b6b27cf188"
      },
      "execution_count": 23,
      "outputs": [
        {
          "output_type": "display_data",
          "data": {
            "text/plain": [
              "<Figure size 432x288 with 1 Axes>"
            ],
            "image/png": "[encoded data removed]"
          },
          "metadata": {
            "needs_background": "light"
          }
        }
      ]
    },
    {
      "cell_type": "code",
      "source": [
        "# Lastly, I am interested in seeing a relationship between Edema and Albumin\n",
        "sns.boxplot(x = 'Edema', y = 'Albumin', data = c_df);\n",
        "  # We can see that Albumin Levels are highest (Overall + highest Median) in patients with No Edema\n",
        "  # We can see that Albumin is lowest overall in patients who have Edema dispite diuretic therapy"
      ],
      "metadata": {
        "colab": {
          "base_uri": "https://localhost:8080/",
          "height": 279
        },
        "id": "UC7udXzXRbht",
        "outputId": "179ef0d7-61f7-4ce0-bc8d-2402ae534a33"
      },
      "execution_count": 24,
      "outputs": [
        {
          "output_type": "display_data",
          "data": {
            "text/plain": [
              "<Figure size 432x288 with 1 Axes>"
            ],
            "image/png": "[encoded data removed]"
          },
          "metadata": {
            "needs_background": "light"
          }
        }
      ]
    },
    {
      "cell_type": "code",
      "source": [
        "# Lastly, a heatmap, because they can be helpful\n",
        "corr = c_df.corr()\n",
        "fig, ax = plt.subplots(figsize=(20,11))\n",
        "sns.heatmap(corr, cmap = \"Blues\", annot = True);\n",
        "  # We do not see any strong correlations with our numerical data\n",
        "  # In fact, there is not a single correlation >= 0.5"
      ],
      "metadata": {
        "colab": {
          "base_uri": "https://localhost:8080/",
          "height": 651
        },
        "id": "c_aSAkzAS57o",
        "outputId": "c5dac602-82e3-480c-a4d3-bbb35a5692cb"
      },
      "execution_count": 25,
      "outputs": [
        {
          "output_type": "display_data",
          "data": {
            "text/plain": [
              "<Figure size 1440x792 with 2 Axes>"
            ],
            "image/png": "[encoded data removed]"
          },
          "metadata": {
            "needs_background": "light"
          }
        }
      ]
    },
    {
      "cell_type": "markdown",
      "source": [
        "##We don't have any strong standout correlations, but we will be looking at the strongest correlations we have\n",
        "###Let's continue our analysis and explore what correlations we do see\n",
        "\n",
        "Here are our top 5 most correlated (positive and negative) values with our target (Stage)\n",
        "  - N_Days (-0.37)\n",
        "  - Albumin (-0.31)\n",
        "  - Copper (0.27)\n",
        "  - Platelets (-0.25)\n",
        "  - Prothrombin (0.21)\n",
        "\n",
        "### This is a good example of requiring many differnt data points to make useful predictions. Since no single piece of data is strongly correlated with our target, we will need all points together to help us build a decent model"
      ],
      "metadata": {
        "id": "Sk8lN8hiUOd_"
      }
    },
    {
      "cell_type": "code",
      "source": [
        "# Let's further visualize a couple correlated data points\n",
        "sns.boxplot(x = 'Stage', y = 'N_Days', data = c_df);"
      ],
      "metadata": {
        "colab": {
          "base_uri": "https://localhost:8080/",
          "height": 282
        },
        "id": "O9A8qkmuiC44",
        "outputId": "5b8fd60c-d65b-472e-a688-3cd08c6ca1eb"
      },
      "execution_count": 26,
      "outputs": [
        {
          "output_type": "display_data",
          "data": {
            "text/plain": [
              "<Figure size 432x288 with 1 Axes>"
            ],
            "image/png": "[encoded data removed]"
          },
          "metadata": {
            "needs_background": "light"
          }
        }
      ]
    },
    {
      "cell_type": "markdown",
      "source": [
        "As the Stage (aka severity) of cirrhosis increases, the N_Days decreases. This is probably do to expediting care for those with a more sever condition, (transplant, etc) or, due to death of the more ill patients. Although the correlation is NEGATIVE, that does not mean it doesn't have a trend"
      ],
      "metadata": {
        "id": "7agbySS7i36X"
      }
    },
    {
      "cell_type": "code",
      "source": [
        "# Let's now view a positive correlation (although it isn't the strongest), just for comparison\n",
        "sns.barplot(data = c_df, x = \"Stage\", y = \"Copper\");\n",
        "plt.ylabel(\"Stage of Cirrhosis\")\n",
        "plt.xlabel(\"Urin Copper [ug/day]\");"
      ],
      "metadata": {
        "colab": {
          "base_uri": "https://localhost:8080/",
          "height": 279
        },
        "id": "8uEAlopOgHZE",
        "outputId": "7ba70bf7-c6e0-4df3-adf7-7f5069044084"
      },
      "execution_count": 27,
      "outputs": [
        {
          "output_type": "display_data",
          "data": {
            "text/plain": [
              "<Figure size 432x288 with 1 Axes>"
            ],
            "image/png": "[encoded data removed]"
          },
          "metadata": {
            "needs_background": "light"
          }
        }
      ]
    },
    {
      "cell_type": "markdown",
      "source": [
        "We can see that as the severity of cirrhosis increases, so does the amount of copper in patient's urine. Note: a POSITIVE correlation such as this, is NOT inherently beter than a negative correlation such as the one shown above\n",
        "\n",
        "## We will now demonstrate a couple of key finding form our data"
      ],
      "metadata": {
        "id": "KMa4tGgEk3sn"
      }
    },
    {
      "cell_type": "code",
      "source": [
        "fig, ax = plt.subplots(figsize = (12,8))\n",
        "sns.regplot(data = df, x = \"Albumin\", y = \"N_Days\",line_kws = {'color': 'black', 'ls': '-'})\n",
        "plt.ylabel('Number of days from diagnosis to treatment/death')\n",
        "plt.xlabel('Albumin concentration [gm/dl]');"
      ],
      "metadata": {
        "colab": {
          "base_uri": "https://localhost:8080/",
          "height": 497
        },
        "id": "1K344EQ6ky2m",
        "outputId": "375130c9-696d-4602-9aa0-b48cd7646852"
      },
      "execution_count": 28,
      "outputs": [
        {
          "output_type": "display_data",
          "data": {
            "text/plain": [
              "<Figure size 864x576 with 1 Axes>"
            ],
            "image/png": "[encoded data removed]"
          },
          "metadata": {
            "needs_background": "light"
          }
        }
      ]
    },
    {
      "cell_type": "markdown",
      "source": [
        "This shows how how Albumin concentrations increase as the number of days to treatment or death increases, with the black line showing our overall trend. Now, why is this interesting? Due to the correlation of these two data points, and the correlation of N_Days to Stage, we can see that early detection of decreased Albumin could be helpful in determining a need for other tests that are indicitive of cirrhosis. Low albumin levels could clue provisers in to running other tests. This could detect cirrhosis sooner, potentially saving patints from developing worsened cirrhosis."
      ],
      "metadata": {
        "id": "ze_Tn8DVqCLw"
      }
    },
    {
      "cell_type": "code",
      "source": [
        "fig, ax = plt.subplots(figsize=(12,8))\n",
        "sns.barplot(x = 'Stage',y = 'Copper', data = c_df,\n",
        "            hue = 'Sex')\n",
        "plt.xlabel('Stage of Cirrhosis')\n",
        "plt.ylabel('Urine Copper [ug/day]')\n",
        "plt.show()"
      ],
      "metadata": {
        "colab": {
          "base_uri": "https://localhost:8080/",
          "height": 497
        },
        "id": "35ClwjpFncOB",
        "outputId": "1dc87f51-7058-48d9-a59a-61f85ca3f957"
      },
      "execution_count": 29,
      "outputs": [
        {
          "output_type": "display_data",
          "data": {
            "text/plain": [
              "<Figure size 864x576 with 1 Axes>"
            ],
            "image/png": "[encoded data removed]"
          },
          "metadata": {
            "needs_background": "light"
          }
        }
      ]
    },
    {
      "cell_type": "markdown",
      "source": [
        "Above, we see how urine copper concentrations increase as the severity of Cirrhosis increases. This means that detecting elevated copper in patients early could helpm with cirrosis detection. Here, we can see the differnce between male an female patients, with ma,les having consistently higher levels of urinary copper. This could lead us to determine that either a. men show more excreated copper when cirrhotic and can be flagged as ill more easily, or, b. The baseline comparison of urinary copper can be set higher to avoid false negatives. This determination would require further investigation. Ultimately, increased urinary copper concentrations can help medical providers detect cirrosis, and potentially seveity of cirrhosis, ultimately leading to earlier treatment of patients saving time, money, and heartache on both sides (the Medical Providers and Patient/Family)"
      ],
      "metadata": {
        "id": "Sla_c7NZsAxI"
      }
    },
    {
      "cell_type": "markdown",
      "source": [
        "# Now, we will build and tune several predictive models and attemp to find our best model for deployment. This will have to strike a balance between accuracy and speed"
      ],
      "metadata": {
        "id": "rLnxHrwb-2T9"
      }
    },
    {
      "cell_type": "code",
      "source": [
        "# Load in necessary Libraries, keeping in mind we have already loaded several in above\n",
        "from sklearn.model_selection import train_test_split, GridSearchCV\n",
        "from sklearn.compose import make_column_transformer, make_column_selector\n",
        "from sklearn.preprocessing import StandardScaler, OneHotEncoder\n",
        "from sklearn.pipeline import make_pipeline\n",
        "from sklearn.impute import SimpleImputer\n",
        "from sklearn.ensemble import RandomForestClassifier\n",
        "from sklearn.neighbors import KNeighborsClassifier\n",
        "from sklearn.linear_model import LogisticRegression\n",
        "from sklearn.metrics import accuracy_score, precision_score, recall_score, classification_report\n",
        "from sklearn import set_config # To create simple diagrams showing our processing steps\n",
        "set_config(display='diagram')  # This is personal preference"
      ],
      "metadata": {
        "id": "IPn7TB-p_SSQ"
      },
      "execution_count": 30,
      "outputs": []
    },
    {
      "cell_type": "code",
      "source": [
        "# Instantiate all models, transformers, etc \n",
        "scaler = StandardScaler()\n",
        "ohe = OneHotEncoder(handle_unknown = 'ignore', sparse = False)\n",
        "most_freq_imputer = SimpleImputer(strategy = 'most_frequent')\n",
        "mean_imputer = SimpleImputer(strategy = 'mean')\n",
        "rf = RandomForestClassifier(random_state = 42)\n",
        "knn = KNeighborsClassifier()\n",
        "logreg = LogisticRegression(max_iter = 1000, random_state = 42)\n",
        "  # Choosing to stratify 'y' because of the imbalance in our targets"
      ],
      "metadata": {
        "id": "qh5rF7N9_9IM"
      },
      "execution_count": 31,
      "outputs": []
    },
    {
      "cell_type": "markdown",
      "source": [
        "We will build a Logistic Regression, K Nearest Neighbors, and Random Forest model. We will tune the models, then we will apply PCA to see if we can positively affect efficacy and/or speed of our model. We have pretty straight forward pre-processing steps to follow for this, so I don't see a necessity for further feature engineering (not datetime, overload operators, etc). \n",
        "### Note: Although we could apply an overload operator to our age column (x / 365) to find our age in days, this will not have an affect on our model since the data will be scaled"
      ],
      "metadata": {
        "id": "vCY-4y-PBTKR"
      }
    },
    {
      "cell_type": "code",
      "source": [
        "# Train Test Split our data\n",
        "X = c_df.drop(columns = 'Stage')\n",
        "y = c_df['Stage']\n",
        "\n",
        "X_train, X_test, y_train, y_test = train_test_split(X, y, random_state = 42, stratify = y)"
      ],
      "metadata": {
        "id": "CR3a1CeGBMMH"
      },
      "execution_count": 32,
      "outputs": []
    },
    {
      "cell_type": "code",
      "source": [
        "# Time to create a preprocessor to normalize our data. \n",
        "  # We will Impute, OneHotEncode, and Scale\n",
        "cat_selector = make_column_selector(dtype_include = 'object')\n",
        "num_selector = make_column_selector(dtype_include = 'number')"
      ],
      "metadata": {
        "id": "C-LqBk1jBN_8"
      },
      "execution_count": 33,
      "outputs": []
    },
    {
      "cell_type": "code",
      "source": [
        "# Instantiate numeric pipeline\n",
        "num_pipe = make_pipeline(mean_imputer, scaler)\n",
        "num_pipe"
      ],
      "metadata": {
        "colab": {
          "base_uri": "https://localhost:8080/",
          "height": 124
        },
        "id": "goHSeG-5JJ8c",
        "outputId": "3da68fda-bbaa-4692-c29c-9e94aee04261"
      },
      "execution_count": 34,
      "outputs": [
        {
          "output_type": "execute_result",
          "data": {
            "text/plain": [
              "Pipeline(steps=[('simpleimputer', SimpleImputer()),\n",
              "                ('standardscaler', StandardScaler())])"
            ],
            "text/html": [
              "<style>#sk-2b5522fc-96fe-448c-a096-7d121994e777 {color: black;background-color: white;}#sk-2b5522fc-96fe-448c-a096-7d121994e777 pre{padding: 0;}#sk-2b5522fc-96fe-448c-a096-7d121994e777 div.sk-toggleable {background-color: white;}#sk-2b5522fc-96fe-448c-a096-7d121994e777 label.sk-toggleable__label {cursor: pointer;display: block;width: 100%;margin-bottom: 0;padding: 0.3em;box-sizing: border-box;text-align: center;}#sk-2b5522fc-96fe-448c-a096-7d121994e777 label.sk-toggleable__label-arrow:before {content: \"▸\";float: left;margin-right: 0.25em;color: #696969;}#sk-2b5522fc-96fe-448c-a096-7d121994e777 label.sk-toggleable__label-arrow:hover:before {color: black;}#sk-2b5522fc-96fe-448c-a096-7d121994e777 div.sk-estimator:hover label.sk-toggleable__label-arrow:before {color: black;}#sk-2b5522fc-96fe-448c-a096-7d121994e777 div.sk-toggleable__content {max-height: 0;max-width: 0;overflow: hidden;text-align: left;background-color: #f0f8ff;}#sk-2b5522fc-96fe-448c-a096-7d121994e777 div.sk-toggleable__content pre {margin: 0.2em;color: black;border-radius: 0.25em;background-color: #f0f8ff;}#sk-2b5522fc-96fe-448c-a096-7d121994e777 input.sk-toggleable__control:checked~div.sk-toggleable__content {max-height: 200px;max-width: 100%;overflow: auto;}#sk-2b5522fc-96fe-448c-a096-7d121994e777 input.sk-toggleable__control:checked~label.sk-toggleable__label-arrow:before {content: \"▾\";}#sk-2b5522fc-96fe-448c-a096-7d121994e777 div.sk-estimator input.sk-toggleable__control:checked~label.sk-toggleable__label {background-color: #d4ebff;}#sk-2b5522fc-96fe-448c-a096-7d121994e777 div.sk-label input.sk-toggleable__control:checked~label.sk-toggleable__label {background-color: #d4ebff;}#sk-2b5522fc-96fe-448c-a096-7d121994e777 input.sk-hidden--visually {border: 0;clip: rect(1px 1px 1px 1px);clip: rect(1px, 1px, 1px, 1px);height: 1px;margin: -1px;overflow: hidden;padding: 0;position: absolute;width: 1px;}#sk-2b5522fc-96fe-448c-a096-7d121994e777 div.sk-estimator {font-family: monospace;background-color: #f0f8ff;border: 1px dotted black;border-radius: 0.25em;box-sizing: border-box;margin-bottom: 0.5em;}#sk-2b5522fc-96fe-448c-a096-7d121994e777 div.sk-estimator:hover {background-color: #d4ebff;}#sk-2b5522fc-96fe-448c-a096-7d121994e777 div.sk-parallel-item::after {content: \"\";width: 100%;border-bottom: 1px solid gray;flex-grow: 1;}#sk-2b5522fc-96fe-448c-a096-7d121994e777 div.sk-label:hover label.sk-toggleable__label {background-color: #d4ebff;}#sk-2b5522fc-96fe-448c-a096-7d121994e777 div.sk-serial::before {content: \"\";position: absolute;border-left: 1px solid gray;box-sizing: border-box;top: 2em;bottom: 0;left: 50%;}#sk-2b5522fc-96fe-448c-a096-7d121994e777 div.sk-serial {display: flex;flex-direction: column;align-items: center;background-color: white;padding-right: 0.2em;padding-left: 0.2em;}#sk-2b5522fc-96fe-448c-a096-7d121994e777 div.sk-item {z-index: 1;}#sk-2b5522fc-96fe-448c-a096-7d121994e777 div.sk-parallel {display: flex;align-items: stretch;justify-content: center;background-color: white;}#sk-2b5522fc-96fe-448c-a096-7d121994e777 div.sk-parallel::before {content: \"\";position: absolute;border-left: 1px solid gray;box-sizing: border-box;top: 2em;bottom: 0;left: 50%;}#sk-2b5522fc-96fe-448c-a096-7d121994e777 div.sk-parallel-item {display: flex;flex-direction: column;position: relative;background-color: white;}#sk-2b5522fc-96fe-448c-a096-7d121994e777 div.sk-parallel-item:first-child::after {align-self: flex-end;width: 50%;}#sk-2b5522fc-96fe-448c-a096-7d121994e777 div.sk-parallel-item:last-child::after {align-self: flex-start;width: 50%;}#sk-2b5522fc-96fe-448c-a096-7d121994e777 div.sk-parallel-item:only-child::after {width: 0;}#sk-2b5522fc-96fe-448c-a096-7d121994e777 div.sk-dashed-wrapped {border: 1px dashed gray;margin: 0 0.4em 0.5em 0.4em;box-sizing: border-box;padding-bottom: 0.4em;background-color: white;position: relative;}#sk-2b5522fc-96fe-448c-a096-7d121994e777 div.sk-label label {font-family: monospace;font-weight: bold;background-color: white;display: inline-block;line-height: 1.2em;}#sk-2b5522fc-96fe-448c-a096-7d121994e777 div.sk-label-container {position: relative;z-index: 2;text-align: center;}#sk-2b5522fc-96fe-448c-a096-7d121994e777 div.sk-container {/* jupyter's `normalize.less` sets `[hidden] { display: none; }` but bootstrap.min.css set `[hidden] { display: none !important; }` so we also need the `!important` here to be able to override the default hidden behavior on the sphinx rendered scikit-learn.org. See: https://github.com/scikit-learn/scikit-learn/issues/21755 */display: inline-block !important;position: relative;}#sk-2b5522fc-96fe-448c-a096-7d121994e777 div.sk-text-repr-fallback {display: none;}</style><div id=\"sk-2b5522fc-96fe-448c-a096-7d121994e777\" class=\"sk-top-container\"><div class=\"sk-text-repr-fallback\"><pre>Pipeline(steps=[(&#x27;simpleimputer&#x27;, SimpleImputer()),\n",
              "                (&#x27;standardscaler&#x27;, StandardScaler())])</pre><b>Please rerun this cell to show the HTML repr or trust the notebook.</b></div><div class=\"sk-container\" hidden><div class=\"sk-item sk-dashed-wrapped\"><div class=\"sk-label-container\"><div class=\"sk-label sk-toggleable\"><input class=\"sk-toggleable__control sk-hidden--visually\" id=\"2bfe6496-9f2c-4e1b-8cbb-e2b930ac8ae3\" type=\"checkbox\" ><label for=\"2bfe6496-9f2c-4e1b-8cbb-e2b930ac8ae3\" class=\"sk-toggleable__label sk-toggleable__label-arrow\">Pipeline</label><div class=\"sk-toggleable__content\"><pre>Pipeline(steps=[(&#x27;simpleimputer&#x27;, SimpleImputer()),\n",
              "                (&#x27;standardscaler&#x27;, StandardScaler())])</pre></div></div></div><div class=\"sk-serial\"><div class=\"sk-item\"><div class=\"sk-estimator sk-toggleable\"><input class=\"sk-toggleable__control sk-hidden--visually\" id=\"b9fe2d46-f9c4-4a79-8c09-03b40a969586\" type=\"checkbox\" ><label for=\"b9fe2d46-f9c4-4a79-8c09-03b40a969586\" class=\"sk-toggleable__label sk-toggleable__label-arrow\">SimpleImputer</label><div class=\"sk-toggleable__content\"><pre>SimpleImputer()</pre></div></div></div><div class=\"sk-item\"><div class=\"sk-estimator sk-toggleable\"><input class=\"sk-toggleable__control sk-hidden--visually\" id=\"538614b6-308a-4d63-acfe-6224663dd59f\" type=\"checkbox\" ><label for=\"538614b6-308a-4d63-acfe-6224663dd59f\" class=\"sk-toggleable__label sk-toggleable__label-arrow\">StandardScaler</label><div class=\"sk-toggleable__content\"><pre>StandardScaler()</pre></div></div></div></div></div></div></div>"
            ]
          },
          "metadata": {},
          "execution_count": 34
        }
      ]
    },
    {
      "cell_type": "code",
      "source": [
        "# Instantiate categorical pipeline\n",
        "cat_pipe = make_pipeline(most_freq_imputer,ohe)\n",
        "cat_pipe"
      ],
      "metadata": {
        "colab": {
          "base_uri": "https://localhost:8080/",
          "height": 124
        },
        "id": "s9DzQ7xSJwhc",
        "outputId": "7087e325-84c8-4e49-f95b-dc28510081e6"
      },
      "execution_count": 35,
      "outputs": [
        {
          "output_type": "execute_result",
          "data": {
            "text/plain": [
              "Pipeline(steps=[('simpleimputer', SimpleImputer(strategy='most_frequent')),\n",
              "                ('onehotencoder',\n",
              "                 OneHotEncoder(handle_unknown='ignore', sparse=False))])"
            ],
            "text/html": [
              "<style>#sk-cc240287-a90a-429f-82fa-c4f4a6759b1d {color: black;background-color: white;}#sk-cc240287-a90a-429f-82fa-c4f4a6759b1d pre{padding: 0;}#sk-cc240287-a90a-429f-82fa-c4f4a6759b1d div.sk-toggleable {background-color: white;}#sk-cc240287-a90a-429f-82fa-c4f4a6759b1d label.sk-toggleable__label {cursor: pointer;display: block;width: 100%;margin-bottom: 0;padding: 0.3em;box-sizing: border-box;text-align: center;}#sk-cc240287-a90a-429f-82fa-c4f4a6759b1d label.sk-toggleable__label-arrow:before {content: \"▸\";float: left;margin-right: 0.25em;color: #696969;}#sk-cc240287-a90a-429f-82fa-c4f4a6759b1d label.sk-toggleable__label-arrow:hover:before {color: black;}#sk-cc240287-a90a-429f-82fa-c4f4a6759b1d div.sk-estimator:hover label.sk-toggleable__label-arrow:before {color: black;}#sk-cc240287-a90a-429f-82fa-c4f4a6759b1d div.sk-toggleable__content {max-height: 0;max-width: 0;overflow: hidden;text-align: left;background-color: #f0f8ff;}#sk-cc240287-a90a-429f-82fa-c4f4a6759b1d div.sk-toggleable__content pre {margin: 0.2em;color: black;border-radius: 0.25em;background-color: #f0f8ff;}#sk-cc240287-a90a-429f-82fa-c4f4a6759b1d input.sk-toggleable__control:checked~div.sk-toggleable__content {max-height: 200px;max-width: 100%;overflow: auto;}#sk-cc240287-a90a-429f-82fa-c4f4a6759b1d input.sk-toggleable__control:checked~label.sk-toggleable__label-arrow:before {content: \"▾\";}#sk-cc240287-a90a-429f-82fa-c4f4a6759b1d div.sk-estimator input.sk-toggleable__control:checked~label.sk-toggleable__label {background-color: #d4ebff;}#sk-cc240287-a90a-429f-82fa-c4f4a6759b1d div.sk-label input.sk-toggleable__control:checked~label.sk-toggleable__label {background-color: #d4ebff;}#sk-cc240287-a90a-429f-82fa-c4f4a6759b1d input.sk-hidden--visually {border: 0;clip: rect(1px 1px 1px 1px);clip: rect(1px, 1px, 1px, 1px);height: 1px;margin: -1px;overflow: hidden;padding: 0;position: absolute;width: 1px;}#sk-cc240287-a90a-429f-82fa-c4f4a6759b1d div.sk-estimator {font-family: monospace;background-color: #f0f8ff;border: 1px dotted black;border-radius: 0.25em;box-sizing: border-box;margin-bottom: 0.5em;}#sk-cc240287-a90a-429f-82fa-c4f4a6759b1d div.sk-estimator:hover {background-color: #d4ebff;}#sk-cc240287-a90a-429f-82fa-c4f4a6759b1d div.sk-parallel-item::after {content: \"\";width: 100%;border-bottom: 1px solid gray;flex-grow: 1;}#sk-cc240287-a90a-429f-82fa-c4f4a6759b1d div.sk-label:hover label.sk-toggleable__label {background-color: #d4ebff;}#sk-cc240287-a90a-429f-82fa-c4f4a6759b1d div.sk-serial::before {content: \"\";position: absolute;border-left: 1px solid gray;box-sizing: border-box;top: 2em;bottom: 0;left: 50%;}#sk-cc240287-a90a-429f-82fa-c4f4a6759b1d div.sk-serial {display: flex;flex-direction: column;align-items: center;background-color: white;padding-right: 0.2em;padding-left: 0.2em;}#sk-cc240287-a90a-429f-82fa-c4f4a6759b1d div.sk-item {z-index: 1;}#sk-cc240287-a90a-429f-82fa-c4f4a6759b1d div.sk-parallel {display: flex;align-items: stretch;justify-content: center;background-color: white;}#sk-cc240287-a90a-429f-82fa-c4f4a6759b1d div.sk-parallel::before {content: \"\";position: absolute;border-left: 1px solid gray;box-sizing: border-box;top: 2em;bottom: 0;left: 50%;}#sk-cc240287-a90a-429f-82fa-c4f4a6759b1d div.sk-parallel-item {display: flex;flex-direction: column;position: relative;background-color: white;}#sk-cc240287-a90a-429f-82fa-c4f4a6759b1d div.sk-parallel-item:first-child::after {align-self: flex-end;width: 50%;}#sk-cc240287-a90a-429f-82fa-c4f4a6759b1d div.sk-parallel-item:last-child::after {align-self: flex-start;width: 50%;}#sk-cc240287-a90a-429f-82fa-c4f4a6759b1d div.sk-parallel-item:only-child::after {width: 0;}#sk-cc240287-a90a-429f-82fa-c4f4a6759b1d div.sk-dashed-wrapped {border: 1px dashed gray;margin: 0 0.4em 0.5em 0.4em;box-sizing: border-box;padding-bottom: 0.4em;background-color: white;position: relative;}#sk-cc240287-a90a-429f-82fa-c4f4a6759b1d div.sk-label label {font-family: monospace;font-weight: bold;background-color: white;display: inline-block;line-height: 1.2em;}#sk-cc240287-a90a-429f-82fa-c4f4a6759b1d div.sk-label-container {position: relative;z-index: 2;text-align: center;}#sk-cc240287-a90a-429f-82fa-c4f4a6759b1d div.sk-container {/* jupyter's `normalize.less` sets `[hidden] { display: none; }` but bootstrap.min.css set `[hidden] { display: none !important; }` so we also need the `!important` here to be able to override the default hidden behavior on the sphinx rendered scikit-learn.org. See: https://github.com/scikit-learn/scikit-learn/issues/21755 */display: inline-block !important;position: relative;}#sk-cc240287-a90a-429f-82fa-c4f4a6759b1d div.sk-text-repr-fallback {display: none;}</style><div id=\"sk-cc240287-a90a-429f-82fa-c4f4a6759b1d\" class=\"sk-top-container\"><div class=\"sk-text-repr-fallback\"><pre>Pipeline(steps=[(&#x27;simpleimputer&#x27;, SimpleImputer(strategy=&#x27;most_frequent&#x27;)),\n",
              "                (&#x27;onehotencoder&#x27;,\n",
              "                 OneHotEncoder(handle_unknown=&#x27;ignore&#x27;, sparse=False))])</pre><b>Please rerun this cell to show the HTML repr or trust the notebook.</b></div><div class=\"sk-container\" hidden><div class=\"sk-item sk-dashed-wrapped\"><div class=\"sk-label-container\"><div class=\"sk-label sk-toggleable\"><input class=\"sk-toggleable__control sk-hidden--visually\" id=\"77ff99f0-629f-4531-9d6b-c7f7dd6ccd8c\" type=\"checkbox\" ><label for=\"77ff99f0-629f-4531-9d6b-c7f7dd6ccd8c\" class=\"sk-toggleable__label sk-toggleable__label-arrow\">Pipeline</label><div class=\"sk-toggleable__content\"><pre>Pipeline(steps=[(&#x27;simpleimputer&#x27;, SimpleImputer(strategy=&#x27;most_frequent&#x27;)),\n",
              "                (&#x27;onehotencoder&#x27;,\n",
              "                 OneHotEncoder(handle_unknown=&#x27;ignore&#x27;, sparse=False))])</pre></div></div></div><div class=\"sk-serial\"><div class=\"sk-item\"><div class=\"sk-estimator sk-toggleable\"><input class=\"sk-toggleable__control sk-hidden--visually\" id=\"a69736c0-c0a7-4922-a9d6-853674dec9d2\" type=\"checkbox\" ><label for=\"a69736c0-c0a7-4922-a9d6-853674dec9d2\" class=\"sk-toggleable__label sk-toggleable__label-arrow\">SimpleImputer</label><div class=\"sk-toggleable__content\"><pre>SimpleImputer(strategy=&#x27;most_frequent&#x27;)</pre></div></div></div><div class=\"sk-item\"><div class=\"sk-estimator sk-toggleable\"><input class=\"sk-toggleable__control sk-hidden--visually\" id=\"c4a3e802-1d8b-4341-8fab-71beb4a0e1b7\" type=\"checkbox\" ><label for=\"c4a3e802-1d8b-4341-8fab-71beb4a0e1b7\" class=\"sk-toggleable__label sk-toggleable__label-arrow\">OneHotEncoder</label><div class=\"sk-toggleable__content\"><pre>OneHotEncoder(handle_unknown=&#x27;ignore&#x27;, sparse=False)</pre></div></div></div></div></div></div></div>"
            ]
          },
          "metadata": {},
          "execution_count": 35
        }
      ]
    },
    {
      "cell_type": "code",
      "source": [
        "# Create two tuples to insert in the column transformer\n",
        "num_tuple = (num_pipe, num_selector)\n",
        "cat_tuple = (cat_pipe, cat_selector)"
      ],
      "metadata": {
        "id": "1LnSlAsnKSJo"
      },
      "execution_count": 36,
      "outputs": []
    },
    {
      "cell_type": "code",
      "source": [
        "# Create a column transformer and name it (for consistency, I'll name it 'preproccessor)\n",
        "preprocessor = make_column_transformer(num_tuple, cat_tuple, remainder = 'drop')\n",
        "preprocessor"
      ],
      "metadata": {
        "colab": {
          "base_uri": "https://localhost:8080/",
          "height": 149
        },
        "id": "rZeAa3CFKC-X",
        "outputId": "66ab3a21-bd5c-40e1-d11a-18eaded167fe"
      },
      "execution_count": 37,
      "outputs": [
        {
          "output_type": "execute_result",
          "data": {
            "text/plain": [
              "ColumnTransformer(transformers=[('pipeline-1',\n",
              "                                 Pipeline(steps=[('simpleimputer',\n",
              "                                                  SimpleImputer()),\n",
              "                                                 ('standardscaler',\n",
              "                                                  StandardScaler())]),\n",
              "                                 <sklearn.compose._column_transformer.make_column_selector object at 0x7f6e26f8d490>),\n",
              "                                ('pipeline-2',\n",
              "                                 Pipeline(steps=[('simpleimputer',\n",
              "                                                  SimpleImputer(strategy='most_frequent')),\n",
              "                                                 ('onehotencoder',\n",
              "                                                  OneHotEncoder(handle_unknown='ignore',\n",
              "                                                                sparse=False))]),\n",
              "                                 <sklearn.compose._column_transformer.make_column_selector object at 0x7f6e26f5c190>)])"
            ],
            "text/html": [
              "<style>#sk-1983f28f-6095-45b4-80c7-cbe71a66ed27 {color: black;background-color: white;}#sk-1983f28f-6095-45b4-80c7-cbe71a66ed27 pre{padding: 0;}#sk-1983f28f-6095-45b4-80c7-cbe71a66ed27 div.sk-toggleable {background-color: white;}#sk-1983f28f-6095-45b4-80c7-cbe71a66ed27 label.sk-toggleable__label {cursor: pointer;display: block;width: 100%;margin-bottom: 0;padding: 0.3em;box-sizing: border-box;text-align: center;}#sk-1983f28f-6095-45b4-80c7-cbe71a66ed27 label.sk-toggleable__label-arrow:before {content: \"▸\";float: left;margin-right: 0.25em;color: #696969;}#sk-1983f28f-6095-45b4-80c7-cbe71a66ed27 label.sk-toggleable__label-arrow:hover:before {color: black;}#sk-1983f28f-6095-45b4-80c7-cbe71a66ed27 div.sk-estimator:hover label.sk-toggleable__label-arrow:before {color: black;}#sk-1983f28f-6095-45b4-80c7-cbe71a66ed27 div.sk-toggleable__content {max-height: 0;max-width: 0;overflow: hidden;text-align: left;background-color: #f0f8ff;}#sk-1983f28f-6095-45b4-80c7-cbe71a66ed27 div.sk-toggleable__content pre {margin: 0.2em;color: black;border-radius: 0.25em;background-color: #f0f8ff;}#sk-1983f28f-6095-45b4-80c7-cbe71a66ed27 input.sk-toggleable__control:checked~div.sk-toggleable__content {max-height: 200px;max-width: 100%;overflow: auto;}#sk-1983f28f-6095-45b4-80c7-cbe71a66ed27 input.sk-toggleable__control:checked~label.sk-toggleable__label-arrow:before {content: \"▾\";}#sk-1983f28f-6095-45b4-80c7-cbe71a66ed27 div.sk-estimator input.sk-toggleable__control:checked~label.sk-toggleable__label {background-color: #d4ebff;}#sk-1983f28f-6095-45b4-80c7-cbe71a66ed27 div.sk-label input.sk-toggleable__control:checked~label.sk-toggleable__label {background-color: #d4ebff;}#sk-1983f28f-6095-45b4-80c7-cbe71a66ed27 input.sk-hidden--visually {border: 0;clip: rect(1px 1px 1px 1px);clip: rect(1px, 1px, 1px, 1px);height: 1px;margin: -1px;overflow: hidden;padding: 0;position: absolute;width: 1px;}#sk-1983f28f-6095-45b4-80c7-cbe71a66ed27 div.sk-estimator {font-family: monospace;background-color: #f0f8ff;border: 1px dotted black;border-radius: 0.25em;box-sizing: border-box;margin-bottom: 0.5em;}#sk-1983f28f-6095-45b4-80c7-cbe71a66ed27 div.sk-estimator:hover {background-color: #d4ebff;}#sk-1983f28f-6095-45b4-80c7-cbe71a66ed27 div.sk-parallel-item::after {content: \"\";width: 100%;border-bottom: 1px solid gray;flex-grow: 1;}#sk-1983f28f-6095-45b4-80c7-cbe71a66ed27 div.sk-label:hover label.sk-toggleable__label {background-color: #d4ebff;}#sk-1983f28f-6095-45b4-80c7-cbe71a66ed27 div.sk-serial::before {content: \"\";position: absolute;border-left: 1px solid gray;box-sizing: border-box;top: 2em;bottom: 0;left: 50%;}#sk-1983f28f-6095-45b4-80c7-cbe71a66ed27 div.sk-serial {display: flex;flex-direction: column;align-items: center;background-color: white;padding-right: 0.2em;padding-left: 0.2em;}#sk-1983f28f-6095-45b4-80c7-cbe71a66ed27 div.sk-item {z-index: 1;}#sk-1983f28f-6095-45b4-80c7-cbe71a66ed27 div.sk-parallel {display: flex;align-items: stretch;justify-content: center;background-color: white;}#sk-1983f28f-6095-45b4-80c7-cbe71a66ed27 div.sk-parallel::before {content: \"\";position: absolute;border-left: 1px solid gray;box-sizing: border-box;top: 2em;bottom: 0;left: 50%;}#sk-1983f28f-6095-45b4-80c7-cbe71a66ed27 div.sk-parallel-item {display: flex;flex-direction: column;position: relative;background-color: white;}#sk-1983f28f-6095-45b4-80c7-cbe71a66ed27 div.sk-parallel-item:first-child::after {align-self: flex-end;width: 50%;}#sk-1983f28f-6095-45b4-80c7-cbe71a66ed27 div.sk-parallel-item:last-child::after {align-self: flex-start;width: 50%;}#sk-1983f28f-6095-45b4-80c7-cbe71a66ed27 div.sk-parallel-item:only-child::after {width: 0;}#sk-1983f28f-6095-45b4-80c7-cbe71a66ed27 div.sk-dashed-wrapped {border: 1px dashed gray;margin: 0 0.4em 0.5em 0.4em;box-sizing: border-box;padding-bottom: 0.4em;background-color: white;position: relative;}#sk-1983f28f-6095-45b4-80c7-cbe71a66ed27 div.sk-label label {font-family: monospace;font-weight: bold;background-color: white;display: inline-block;line-height: 1.2em;}#sk-1983f28f-6095-45b4-80c7-cbe71a66ed27 div.sk-label-container {position: relative;z-index: 2;text-align: center;}#sk-1983f28f-6095-45b4-80c7-cbe71a66ed27 div.sk-container {/* jupyter's `normalize.less` sets `[hidden] { display: none; }` but bootstrap.min.css set `[hidden] { display: none !important; }` so we also need the `!important` here to be able to override the default hidden behavior on the sphinx rendered scikit-learn.org. See: https://github.com/scikit-learn/scikit-learn/issues/21755 */display: inline-block !important;position: relative;}#sk-1983f28f-6095-45b4-80c7-cbe71a66ed27 div.sk-text-repr-fallback {display: none;}</style><div id=\"sk-1983f28f-6095-45b4-80c7-cbe71a66ed27\" class=\"sk-top-container\"><div class=\"sk-text-repr-fallback\"><pre>ColumnTransformer(transformers=[(&#x27;pipeline-1&#x27;,\n",
              "                                 Pipeline(steps=[(&#x27;simpleimputer&#x27;,\n",
              "                                                  SimpleImputer()),\n",
              "                                                 (&#x27;standardscaler&#x27;,\n",
              "                                                  StandardScaler())]),\n",
              "                                 &lt;sklearn.compose._column_transformer.make_column_selector object at 0x7f6e26f8d490&gt;),\n",
              "                                (&#x27;pipeline-2&#x27;,\n",
              "                                 Pipeline(steps=[(&#x27;simpleimputer&#x27;,\n",
              "                                                  SimpleImputer(strategy=&#x27;most_frequent&#x27;)),\n",
              "                                                 (&#x27;onehotencoder&#x27;,\n",
              "                                                  OneHotEncoder(handle_unknown=&#x27;ignore&#x27;,\n",
              "                                                                sparse=False))]),\n",
              "                                 &lt;sklearn.compose._column_transformer.make_column_selector object at 0x7f6e26f5c190&gt;)])</pre><b>Please rerun this cell to show the HTML repr or trust the notebook.</b></div><div class=\"sk-container\" hidden><div class=\"sk-item sk-dashed-wrapped\"><div class=\"sk-label-container\"><div class=\"sk-label sk-toggleable\"><input class=\"sk-toggleable__control sk-hidden--visually\" id=\"bf325598-72b8-45c6-9dce-8c0a888452ca\" type=\"checkbox\" ><label for=\"bf325598-72b8-45c6-9dce-8c0a888452ca\" class=\"sk-toggleable__label sk-toggleable__label-arrow\">ColumnTransformer</label><div class=\"sk-toggleable__content\"><pre>ColumnTransformer(transformers=[(&#x27;pipeline-1&#x27;,\n",
              "                                 Pipeline(steps=[(&#x27;simpleimputer&#x27;,\n",
              "                                                  SimpleImputer()),\n",
              "                                                 (&#x27;standardscaler&#x27;,\n",
              "                                                  StandardScaler())]),\n",
              "                                 &lt;sklearn.compose._column_transformer.make_column_selector object at 0x7f6e26f8d490&gt;),\n",
              "                                (&#x27;pipeline-2&#x27;,\n",
              "                                 Pipeline(steps=[(&#x27;simpleimputer&#x27;,\n",
              "                                                  SimpleImputer(strategy=&#x27;most_frequent&#x27;)),\n",
              "                                                 (&#x27;onehotencoder&#x27;,\n",
              "                                                  OneHotEncoder(handle_unknown=&#x27;ignore&#x27;,\n",
              "                                                                sparse=False))]),\n",
              "                                 &lt;sklearn.compose._column_transformer.make_column_selector object at 0x7f6e26f5c190&gt;)])</pre></div></div></div><div class=\"sk-parallel\"><div class=\"sk-parallel-item\"><div class=\"sk-item\"><div class=\"sk-label-container\"><div class=\"sk-label sk-toggleable\"><input class=\"sk-toggleable__control sk-hidden--visually\" id=\"ebc09b41-d364-418b-b8d7-d8a078c748c1\" type=\"checkbox\" ><label for=\"ebc09b41-d364-418b-b8d7-d8a078c748c1\" class=\"sk-toggleable__label sk-toggleable__label-arrow\">pipeline-1</label><div class=\"sk-toggleable__content\"><pre>&lt;sklearn.compose._column_transformer.make_column_selector object at 0x7f6e26f8d490&gt;</pre></div></div></div><div class=\"sk-serial\"><div class=\"sk-item\"><div class=\"sk-serial\"><div class=\"sk-item\"><div class=\"sk-estimator sk-toggleable\"><input class=\"sk-toggleable__control sk-hidden--visually\" id=\"1371063e-8845-4958-824c-751793ab84a3\" type=\"checkbox\" ><label for=\"1371063e-8845-4958-824c-751793ab84a3\" class=\"sk-toggleable__label sk-toggleable__label-arrow\">SimpleImputer</label><div class=\"sk-toggleable__content\"><pre>SimpleImputer()</pre></div></div></div><div class=\"sk-item\"><div class=\"sk-estimator sk-toggleable\"><input class=\"sk-toggleable__control sk-hidden--visually\" id=\"0b99a724-74a1-40af-bb1b-11e76ae9627b\" type=\"checkbox\" ><label for=\"0b99a724-74a1-40af-bb1b-11e76ae9627b\" class=\"sk-toggleable__label sk-toggleable__label-arrow\">StandardScaler</label><div class=\"sk-toggleable__content\"><pre>StandardScaler()</pre></div></div></div></div></div></div></div></div><div class=\"sk-parallel-item\"><div class=\"sk-item\"><div class=\"sk-label-container\"><div class=\"sk-label sk-toggleable\"><input class=\"sk-toggleable__control sk-hidden--visually\" id=\"6359bbbe-f24c-42bb-b597-2e1abe7f0869\" type=\"checkbox\" ><label for=\"6359bbbe-f24c-42bb-b597-2e1abe7f0869\" class=\"sk-toggleable__label sk-toggleable__label-arrow\">pipeline-2</label><div class=\"sk-toggleable__content\"><pre>&lt;sklearn.compose._column_transformer.make_column_selector object at 0x7f6e26f5c190&gt;</pre></div></div></div><div class=\"sk-serial\"><div class=\"sk-item\"><div class=\"sk-serial\"><div class=\"sk-item\"><div class=\"sk-estimator sk-toggleable\"><input class=\"sk-toggleable__control sk-hidden--visually\" id=\"f0e7e152-adff-456e-aaa1-589f5c6ffb32\" type=\"checkbox\" ><label for=\"f0e7e152-adff-456e-aaa1-589f5c6ffb32\" class=\"sk-toggleable__label sk-toggleable__label-arrow\">SimpleImputer</label><div class=\"sk-toggleable__content\"><pre>SimpleImputer(strategy=&#x27;most_frequent&#x27;)</pre></div></div></div><div class=\"sk-item\"><div class=\"sk-estimator sk-toggleable\"><input class=\"sk-toggleable__control sk-hidden--visually\" id=\"3a11daa7-5e53-4698-b41f-a055a0c1f586\" type=\"checkbox\" ><label for=\"3a11daa7-5e53-4698-b41f-a055a0c1f586\" class=\"sk-toggleable__label sk-toggleable__label-arrow\">OneHotEncoder</label><div class=\"sk-toggleable__content\"><pre>OneHotEncoder(handle_unknown=&#x27;ignore&#x27;, sparse=False)</pre></div></div></div></div></div></div></div></div></div></div></div></div>"
            ]
          },
          "metadata": {},
          "execution_count": 37
        }
      ]
    },
    {
      "cell_type": "code",
      "source": [
        "# Now will will fit the preprocessor to our data, and transform it\n",
        "preprocessor.fit(X_train)"
      ],
      "metadata": {
        "colab": {
          "base_uri": "https://localhost:8080/",
          "height": 149
        },
        "id": "J_LPLsX5LXX4",
        "outputId": "7b5918f5-1140-4d11-fb60-26efe265d1f6"
      },
      "execution_count": 38,
      "outputs": [
        {
          "output_type": "execute_result",
          "data": {
            "text/plain": [
              "ColumnTransformer(transformers=[('pipeline-1',\n",
              "                                 Pipeline(steps=[('simpleimputer',\n",
              "                                                  SimpleImputer()),\n",
              "                                                 ('standardscaler',\n",
              "                                                  StandardScaler())]),\n",
              "                                 <sklearn.compose._column_transformer.make_column_selector object at 0x7f6e26f8d490>),\n",
              "                                ('pipeline-2',\n",
              "                                 Pipeline(steps=[('simpleimputer',\n",
              "                                                  SimpleImputer(strategy='most_frequent')),\n",
              "                                                 ('onehotencoder',\n",
              "                                                  OneHotEncoder(handle_unknown='ignore',\n",
              "                                                                sparse=False))]),\n",
              "                                 <sklearn.compose._column_transformer.make_column_selector object at 0x7f6e26f5c190>)])"
            ],
            "text/html": [
              "<style>#sk-fc3a54fc-4c0e-4ad6-904c-92f55b7ff3e0 {color: black;background-color: white;}#sk-fc3a54fc-4c0e-4ad6-904c-92f55b7ff3e0 pre{padding: 0;}#sk-fc3a54fc-4c0e-4ad6-904c-92f55b7ff3e0 div.sk-toggleable {background-color: white;}#sk-fc3a54fc-4c0e-4ad6-904c-92f55b7ff3e0 label.sk-toggleable__label {cursor: pointer;display: block;width: 100%;margin-bottom: 0;padding: 0.3em;box-sizing: border-box;text-align: center;}#sk-fc3a54fc-4c0e-4ad6-904c-92f55b7ff3e0 label.sk-toggleable__label-arrow:before {content: \"▸\";float: left;margin-right: 0.25em;color: #696969;}#sk-fc3a54fc-4c0e-4ad6-904c-92f55b7ff3e0 label.sk-toggleable__label-arrow:hover:before {color: black;}#sk-fc3a54fc-4c0e-4ad6-904c-92f55b7ff3e0 div.sk-estimator:hover label.sk-toggleable__label-arrow:before {color: black;}#sk-fc3a54fc-4c0e-4ad6-904c-92f55b7ff3e0 div.sk-toggleable__content {max-height: 0;max-width: 0;overflow: hidden;text-align: left;background-color: #f0f8ff;}#sk-fc3a54fc-4c0e-4ad6-904c-92f55b7ff3e0 div.sk-toggleable__content pre {margin: 0.2em;color: black;border-radius: 0.25em;background-color: #f0f8ff;}#sk-fc3a54fc-4c0e-4ad6-904c-92f55b7ff3e0 input.sk-toggleable__control:checked~div.sk-toggleable__content {max-height: 200px;max-width: 100%;overflow: auto;}#sk-fc3a54fc-4c0e-4ad6-904c-92f55b7ff3e0 input.sk-toggleable__control:checked~label.sk-toggleable__label-arrow:before {content: \"▾\";}#sk-fc3a54fc-4c0e-4ad6-904c-92f55b7ff3e0 div.sk-estimator input.sk-toggleable__control:checked~label.sk-toggleable__label {background-color: #d4ebff;}#sk-fc3a54fc-4c0e-4ad6-904c-92f55b7ff3e0 div.sk-label input.sk-toggleable__control:checked~label.sk-toggleable__label {background-color: #d4ebff;}#sk-fc3a54fc-4c0e-4ad6-904c-92f55b7ff3e0 input.sk-hidden--visually {border: 0;clip: rect(1px 1px 1px 1px);clip: rect(1px, 1px, 1px, 1px);height: 1px;margin: -1px;overflow: hidden;padding: 0;position: absolute;width: 1px;}#sk-fc3a54fc-4c0e-4ad6-904c-92f55b7ff3e0 div.sk-estimator {font-family: monospace;background-color: #f0f8ff;border: 1px dotted black;border-radius: 0.25em;box-sizing: border-box;margin-bottom: 0.5em;}#sk-fc3a54fc-4c0e-4ad6-904c-92f55b7ff3e0 div.sk-estimator:hover {background-color: #d4ebff;}#sk-fc3a54fc-4c0e-4ad6-904c-92f55b7ff3e0 div.sk-parallel-item::after {content: \"\";width: 100%;border-bottom: 1px solid gray;flex-grow: 1;}#sk-fc3a54fc-4c0e-4ad6-904c-92f55b7ff3e0 div.sk-label:hover label.sk-toggleable__label {background-color: #d4ebff;}#sk-fc3a54fc-4c0e-4ad6-904c-92f55b7ff3e0 div.sk-serial::before {content: \"\";position: absolute;border-left: 1px solid gray;box-sizing: border-box;top: 2em;bottom: 0;left: 50%;}#sk-fc3a54fc-4c0e-4ad6-904c-92f55b7ff3e0 div.sk-serial {display: flex;flex-direction: column;align-items: center;background-color: white;padding-right: 0.2em;padding-left: 0.2em;}#sk-fc3a54fc-4c0e-4ad6-904c-92f55b7ff3e0 div.sk-item {z-index: 1;}#sk-fc3a54fc-4c0e-4ad6-904c-92f55b7ff3e0 div.sk-parallel {display: flex;align-items: stretch;justify-content: center;background-color: white;}#sk-fc3a54fc-4c0e-4ad6-904c-92f55b7ff3e0 div.sk-parallel::before {content: \"\";position: absolute;border-left: 1px solid gray;box-sizing: border-box;top: 2em;bottom: 0;left: 50%;}#sk-fc3a54fc-4c0e-4ad6-904c-92f55b7ff3e0 div.sk-parallel-item {display: flex;flex-direction: column;position: relative;background-color: white;}#sk-fc3a54fc-4c0e-4ad6-904c-92f55b7ff3e0 div.sk-parallel-item:first-child::after {align-self: flex-end;width: 50%;}#sk-fc3a54fc-4c0e-4ad6-904c-92f55b7ff3e0 div.sk-parallel-item:last-child::after {align-self: flex-start;width: 50%;}#sk-fc3a54fc-4c0e-4ad6-904c-92f55b7ff3e0 div.sk-parallel-item:only-child::after {width: 0;}#sk-fc3a54fc-4c0e-4ad6-904c-92f55b7ff3e0 div.sk-dashed-wrapped {border: 1px dashed gray;margin: 0 0.4em 0.5em 0.4em;box-sizing: border-box;padding-bottom: 0.4em;background-color: white;position: relative;}#sk-fc3a54fc-4c0e-4ad6-904c-92f55b7ff3e0 div.sk-label label {font-family: monospace;font-weight: bold;background-color: white;display: inline-block;line-height: 1.2em;}#sk-fc3a54fc-4c0e-4ad6-904c-92f55b7ff3e0 div.sk-label-container {position: relative;z-index: 2;text-align: center;}#sk-fc3a54fc-4c0e-4ad6-904c-92f55b7ff3e0 div.sk-container {/* jupyter's `normalize.less` sets `[hidden] { display: none; }` but bootstrap.min.css set `[hidden] { display: none !important; }` so we also need the `!important` here to be able to override the default hidden behavior on the sphinx rendered scikit-learn.org. See: https://github.com/scikit-learn/scikit-learn/issues/21755 */display: inline-block !important;position: relative;}#sk-fc3a54fc-4c0e-4ad6-904c-92f55b7ff3e0 div.sk-text-repr-fallback {display: none;}</style><div id=\"sk-fc3a54fc-4c0e-4ad6-904c-92f55b7ff3e0\" class=\"sk-top-container\"><div class=\"sk-text-repr-fallback\"><pre>ColumnTransformer(transformers=[(&#x27;pipeline-1&#x27;,\n",
              "                                 Pipeline(steps=[(&#x27;simpleimputer&#x27;,\n",
              "                                                  SimpleImputer()),\n",
              "                                                 (&#x27;standardscaler&#x27;,\n",
              "                                                  StandardScaler())]),\n",
              "                                 &lt;sklearn.compose._column_transformer.make_column_selector object at 0x7f6e26f8d490&gt;),\n",
              "                                (&#x27;pipeline-2&#x27;,\n",
              "                                 Pipeline(steps=[(&#x27;simpleimputer&#x27;,\n",
              "                                                  SimpleImputer(strategy=&#x27;most_frequent&#x27;)),\n",
              "                                                 (&#x27;onehotencoder&#x27;,\n",
              "                                                  OneHotEncoder(handle_unknown=&#x27;ignore&#x27;,\n",
              "                                                                sparse=False))]),\n",
              "                                 &lt;sklearn.compose._column_transformer.make_column_selector object at 0x7f6e26f5c190&gt;)])</pre><b>Please rerun this cell to show the HTML repr or trust the notebook.</b></div><div class=\"sk-container\" hidden><div class=\"sk-item sk-dashed-wrapped\"><div class=\"sk-label-container\"><div class=\"sk-label sk-toggleable\"><input class=\"sk-toggleable__control sk-hidden--visually\" id=\"981b857e-9360-4cbb-86d8-a0f08f21d431\" type=\"checkbox\" ><label for=\"981b857e-9360-4cbb-86d8-a0f08f21d431\" class=\"sk-toggleable__label sk-toggleable__label-arrow\">ColumnTransformer</label><div class=\"sk-toggleable__content\"><pre>ColumnTransformer(transformers=[(&#x27;pipeline-1&#x27;,\n",
              "                                 Pipeline(steps=[(&#x27;simpleimputer&#x27;,\n",
              "                                                  SimpleImputer()),\n",
              "                                                 (&#x27;standardscaler&#x27;,\n",
              "                                                  StandardScaler())]),\n",
              "                                 &lt;sklearn.compose._column_transformer.make_column_selector object at 0x7f6e26f8d490&gt;),\n",
              "                                (&#x27;pipeline-2&#x27;,\n",
              "                                 Pipeline(steps=[(&#x27;simpleimputer&#x27;,\n",
              "                                                  SimpleImputer(strategy=&#x27;most_frequent&#x27;)),\n",
              "                                                 (&#x27;onehotencoder&#x27;,\n",
              "                                                  OneHotEncoder(handle_unknown=&#x27;ignore&#x27;,\n",
              "                                                                sparse=False))]),\n",
              "                                 &lt;sklearn.compose._column_transformer.make_column_selector object at 0x7f6e26f5c190&gt;)])</pre></div></div></div><div class=\"sk-parallel\"><div class=\"sk-parallel-item\"><div class=\"sk-item\"><div class=\"sk-label-container\"><div class=\"sk-label sk-toggleable\"><input class=\"sk-toggleable__control sk-hidden--visually\" id=\"46a6c2a6-c6ca-4434-b372-0ba4b1476542\" type=\"checkbox\" ><label for=\"46a6c2a6-c6ca-4434-b372-0ba4b1476542\" class=\"sk-toggleable__label sk-toggleable__label-arrow\">pipeline-1</label><div class=\"sk-toggleable__content\"><pre>&lt;sklearn.compose._column_transformer.make_column_selector object at 0x7f6e26f8d490&gt;</pre></div></div></div><div class=\"sk-serial\"><div class=\"sk-item\"><div class=\"sk-serial\"><div class=\"sk-item\"><div class=\"sk-estimator sk-toggleable\"><input class=\"sk-toggleable__control sk-hidden--visually\" id=\"be05b782-d45e-4813-b3b1-d95ee2f48a2e\" type=\"checkbox\" ><label for=\"be05b782-d45e-4813-b3b1-d95ee2f48a2e\" class=\"sk-toggleable__label sk-toggleable__label-arrow\">SimpleImputer</label><div class=\"sk-toggleable__content\"><pre>SimpleImputer()</pre></div></div></div><div class=\"sk-item\"><div class=\"sk-estimator sk-toggleable\"><input class=\"sk-toggleable__control sk-hidden--visually\" id=\"dba0131f-da5d-4e86-b2f2-3ad4ee6b4096\" type=\"checkbox\" ><label for=\"dba0131f-da5d-4e86-b2f2-3ad4ee6b4096\" class=\"sk-toggleable__label sk-toggleable__label-arrow\">StandardScaler</label><div class=\"sk-toggleable__content\"><pre>StandardScaler()</pre></div></div></div></div></div></div></div></div><div class=\"sk-parallel-item\"><div class=\"sk-item\"><div class=\"sk-label-container\"><div class=\"sk-label sk-toggleable\"><input class=\"sk-toggleable__control sk-hidden--visually\" id=\"06e3689b-63b3-447c-b59e-c51e7475f285\" type=\"checkbox\" ><label for=\"06e3689b-63b3-447c-b59e-c51e7475f285\" class=\"sk-toggleable__label sk-toggleable__label-arrow\">pipeline-2</label><div class=\"sk-toggleable__content\"><pre>&lt;sklearn.compose._column_transformer.make_column_selector object at 0x7f6e26f5c190&gt;</pre></div></div></div><div class=\"sk-serial\"><div class=\"sk-item\"><div class=\"sk-serial\"><div class=\"sk-item\"><div class=\"sk-estimator sk-toggleable\"><input class=\"sk-toggleable__control sk-hidden--visually\" id=\"1c4246b4-15e8-4ba1-ac5c-436b506893f3\" type=\"checkbox\" ><label for=\"1c4246b4-15e8-4ba1-ac5c-436b506893f3\" class=\"sk-toggleable__label sk-toggleable__label-arrow\">SimpleImputer</label><div class=\"sk-toggleable__content\"><pre>SimpleImputer(strategy=&#x27;most_frequent&#x27;)</pre></div></div></div><div class=\"sk-item\"><div class=\"sk-estimator sk-toggleable\"><input class=\"sk-toggleable__control sk-hidden--visually\" id=\"172c6ebf-bd34-4f7a-8c0c-c96c37b5e839\" type=\"checkbox\" ><label for=\"172c6ebf-bd34-4f7a-8c0c-c96c37b5e839\" class=\"sk-toggleable__label sk-toggleable__label-arrow\">OneHotEncoder</label><div class=\"sk-toggleable__content\"><pre>OneHotEncoder(handle_unknown=&#x27;ignore&#x27;, sparse=False)</pre></div></div></div></div></div></div></div></div></div></div></div></div>"
            ]
          },
          "metadata": {},
          "execution_count": 38
        }
      ]
    },
    {
      "cell_type": "code",
      "source": [
        "# I just like to check the shape to make sure I'm on track\n",
        "X_train_transformed = preprocessor.fit_transform(X_train)\n",
        "X_train_transformed.shape"
      ],
      "metadata": {
        "colab": {
          "base_uri": "https://localhost:8080/"
        },
        "id": "dXpI0FtJDlqL",
        "outputId": "9df095ed-bf11-40a7-eef5-3daeaea8e61e"
      },
      "execution_count": 39,
      "outputs": [
        {
          "output_type": "execute_result",
          "data": {
            "text/plain": [
              "(309, 27)"
            ]
          },
          "metadata": {},
          "execution_count": 39
        }
      ]
    },
    {
      "cell_type": "markdown",
      "source": [
        "###The Above shows some values from the data set, and we can see that it is now scaled\n",
        "## We will now build and tune our 3 models. Models were chosen because they all operate differently"
      ],
      "metadata": {
        "id": "fLL4A-7XRvRC"
      }
    },
    {
      "cell_type": "code",
      "source": [
        "# Logistic Regression\n",
        "logreg_pipe = make_pipeline(preprocessor, logreg)\n",
        "logreg_pipe"
      ],
      "metadata": {
        "colab": {
          "base_uri": "https://localhost:8080/",
          "height": 222
        },
        "id": "zOA1ACicSVb8",
        "outputId": "bcbd7ee0-da12-4e07-8e9a-a1265dcfd64f"
      },
      "execution_count": 40,
      "outputs": [
        {
          "output_type": "execute_result",
          "data": {
            "text/plain": [
              "Pipeline(steps=[('columntransformer',\n",
              "                 ColumnTransformer(transformers=[('pipeline-1',\n",
              "                                                  Pipeline(steps=[('simpleimputer',\n",
              "                                                                   SimpleImputer()),\n",
              "                                                                  ('standardscaler',\n",
              "                                                                   StandardScaler())]),\n",
              "                                                  <sklearn.compose._column_transformer.make_column_selector object at 0x7f6e26f8d490>),\n",
              "                                                 ('pipeline-2',\n",
              "                                                  Pipeline(steps=[('simpleimputer',\n",
              "                                                                   SimpleImputer(strategy='most_frequent')),\n",
              "                                                                  ('onehotencoder',\n",
              "                                                                   OneHotEncoder(handle_unknown='ignore',\n",
              "                                                                                 sparse=False))]),\n",
              "                                                  <sklearn.compose._column_transformer.make_column_selector object at 0x7f6e26f5c190>)])),\n",
              "                ('logisticregression',\n",
              "                 LogisticRegression(max_iter=1000, random_state=42))])"
            ],
            "text/html": [
              "<style>#sk-b8b86c39-3819-42e9-a510-f674a9875682 {color: black;background-color: white;}#sk-b8b86c39-3819-42e9-a510-f674a9875682 pre{padding: 0;}#sk-b8b86c39-3819-42e9-a510-f674a9875682 div.sk-toggleable {background-color: white;}#sk-b8b86c39-3819-42e9-a510-f674a9875682 label.sk-toggleable__label {cursor: pointer;display: block;width: 100%;margin-bottom: 0;padding: 0.3em;box-sizing: border-box;text-align: center;}#sk-b8b86c39-3819-42e9-a510-f674a9875682 label.sk-toggleable__label-arrow:before {content: \"▸\";float: left;margin-right: 0.25em;color: #696969;}#sk-b8b86c39-3819-42e9-a510-f674a9875682 label.sk-toggleable__label-arrow:hover:before {color: black;}#sk-b8b86c39-3819-42e9-a510-f674a9875682 div.sk-estimator:hover label.sk-toggleable__label-arrow:before {color: black;}#sk-b8b86c39-3819-42e9-a510-f674a9875682 div.sk-toggleable__content {max-height: 0;max-width: 0;overflow: hidden;text-align: left;background-color: #f0f8ff;}#sk-b8b86c39-3819-42e9-a510-f674a9875682 div.sk-toggleable__content pre {margin: 0.2em;color: black;border-radius: 0.25em;background-color: #f0f8ff;}#sk-b8b86c39-3819-42e9-a510-f674a9875682 input.sk-toggleable__control:checked~div.sk-toggleable__content {max-height: 200px;max-width: 100%;overflow: auto;}#sk-b8b86c39-3819-42e9-a510-f674a9875682 input.sk-toggleable__control:checked~label.sk-toggleable__label-arrow:before {content: \"▾\";}#sk-b8b86c39-3819-42e9-a510-f674a9875682 div.sk-estimator input.sk-toggleable__control:checked~label.sk-toggleable__label {background-color: #d4ebff;}#sk-b8b86c39-3819-42e9-a510-f674a9875682 div.sk-label input.sk-toggleable__control:checked~label.sk-toggleable__label {background-color: #d4ebff;}#sk-b8b86c39-3819-42e9-a510-f674a9875682 input.sk-hidden--visually {border: 0;clip: rect(1px 1px 1px 1px);clip: rect(1px, 1px, 1px, 1px);height: 1px;margin: -1px;overflow: hidden;padding: 0;position: absolute;width: 1px;}#sk-b8b86c39-3819-42e9-a510-f674a9875682 div.sk-estimator {font-family: monospace;background-color: #f0f8ff;border: 1px dotted black;border-radius: 0.25em;box-sizing: border-box;margin-bottom: 0.5em;}#sk-b8b86c39-3819-42e9-a510-f674a9875682 div.sk-estimator:hover {background-color: #d4ebff;}#sk-b8b86c39-3819-42e9-a510-f674a9875682 div.sk-parallel-item::after {content: \"\";width: 100%;border-bottom: 1px solid gray;flex-grow: 1;}#sk-b8b86c39-3819-42e9-a510-f674a9875682 div.sk-label:hover label.sk-toggleable__label {background-color: #d4ebff;}#sk-b8b86c39-3819-42e9-a510-f674a9875682 div.sk-serial::before {content: \"\";position: absolute;border-left: 1px solid gray;box-sizing: border-box;top: 2em;bottom: 0;left: 50%;}#sk-b8b86c39-3819-42e9-a510-f674a9875682 div.sk-serial {display: flex;flex-direction: column;align-items: center;background-color: white;padding-right: 0.2em;padding-left: 0.2em;}#sk-b8b86c39-3819-42e9-a510-f674a9875682 div.sk-item {z-index: 1;}#sk-b8b86c39-3819-42e9-a510-f674a9875682 div.sk-parallel {display: flex;align-items: stretch;justify-content: center;background-color: white;}#sk-b8b86c39-3819-42e9-a510-f674a9875682 div.sk-parallel::before {content: \"\";position: absolute;border-left: 1px solid gray;box-sizing: border-box;top: 2em;bottom: 0;left: 50%;}#sk-b8b86c39-3819-42e9-a510-f674a9875682 div.sk-parallel-item {display: flex;flex-direction: column;position: relative;background-color: white;}#sk-b8b86c39-3819-42e9-a510-f674a9875682 div.sk-parallel-item:first-child::after {align-self: flex-end;width: 50%;}#sk-b8b86c39-3819-42e9-a510-f674a9875682 div.sk-parallel-item:last-child::after {align-self: flex-start;width: 50%;}#sk-b8b86c39-3819-42e9-a510-f674a9875682 div.sk-parallel-item:only-child::after {width: 0;}#sk-b8b86c39-3819-42e9-a510-f674a9875682 div.sk-dashed-wrapped {border: 1px dashed gray;margin: 0 0.4em 0.5em 0.4em;box-sizing: border-box;padding-bottom: 0.4em;background-color: white;position: relative;}#sk-b8b86c39-3819-42e9-a510-f674a9875682 div.sk-label label {font-family: monospace;font-weight: bold;background-color: white;display: inline-block;line-height: 1.2em;}#sk-b8b86c39-3819-42e9-a510-f674a9875682 div.sk-label-container {position: relative;z-index: 2;text-align: center;}#sk-b8b86c39-3819-42e9-a510-f674a9875682 div.sk-container {/* jupyter's `normalize.less` sets `[hidden] { display: none; }` but bootstrap.min.css set `[hidden] { display: none !important; }` so we also need the `!important` here to be able to override the default hidden behavior on the sphinx rendered scikit-learn.org. See: https://github.com/scikit-learn/scikit-learn/issues/21755 */display: inline-block !important;position: relative;}#sk-b8b86c39-3819-42e9-a510-f674a9875682 div.sk-text-repr-fallback {display: none;}</style><div id=\"sk-b8b86c39-3819-42e9-a510-f674a9875682\" class=\"sk-top-container\"><div class=\"sk-text-repr-fallback\"><pre>Pipeline(steps=[(&#x27;columntransformer&#x27;,\n",
              "                 ColumnTransformer(transformers=[(&#x27;pipeline-1&#x27;,\n",
              "                                                  Pipeline(steps=[(&#x27;simpleimputer&#x27;,\n",
              "                                                                   SimpleImputer()),\n",
              "                                                                  (&#x27;standardscaler&#x27;,\n",
              "                                                                   StandardScaler())]),\n",
              "                                                  &lt;sklearn.compose._column_transformer.make_column_selector object at 0x7f6e26f8d490&gt;),\n",
              "                                                 (&#x27;pipeline-2&#x27;,\n",
              "                                                  Pipeline(steps=[(&#x27;simpleimputer&#x27;,\n",
              "                                                                   SimpleImputer(strategy=&#x27;most_frequent&#x27;)),\n",
              "                                                                  (&#x27;onehotencoder&#x27;,\n",
              "                                                                   OneHotEncoder(handle_unknown=&#x27;ignore&#x27;,\n",
              "                                                                                 sparse=False))]),\n",
              "                                                  &lt;sklearn.compose._column_transformer.make_column_selector object at 0x7f6e26f5c190&gt;)])),\n",
              "                (&#x27;logisticregression&#x27;,\n",
              "                 LogisticRegression(max_iter=1000, random_state=42))])</pre><b>Please rerun this cell to show the HTML repr or trust the notebook.</b></div><div class=\"sk-container\" hidden><div class=\"sk-item sk-dashed-wrapped\"><div class=\"sk-label-container\"><div class=\"sk-label sk-toggleable\"><input class=\"sk-toggleable__control sk-hidden--visually\" id=\"0bef8ddb-587e-46d9-b008-a3282ea36182\" type=\"checkbox\" ><label for=\"0bef8ddb-587e-46d9-b008-a3282ea36182\" class=\"sk-toggleable__label sk-toggleable__label-arrow\">Pipeline</label><div class=\"sk-toggleable__content\"><pre>Pipeline(steps=[(&#x27;columntransformer&#x27;,\n",
              "                 ColumnTransformer(transformers=[(&#x27;pipeline-1&#x27;,\n",
              "                                                  Pipeline(steps=[(&#x27;simpleimputer&#x27;,\n",
              "                                                                   SimpleImputer()),\n",
              "                                                                  (&#x27;standardscaler&#x27;,\n",
              "                                                                   StandardScaler())]),\n",
              "                                                  &lt;sklearn.compose._column_transformer.make_column_selector object at 0x7f6e26f8d490&gt;),\n",
              "                                                 (&#x27;pipeline-2&#x27;,\n",
              "                                                  Pipeline(steps=[(&#x27;simpleimputer&#x27;,\n",
              "                                                                   SimpleImputer(strategy=&#x27;most_frequent&#x27;)),\n",
              "                                                                  (&#x27;onehotencoder&#x27;,\n",
              "                                                                   OneHotEncoder(handle_unknown=&#x27;ignore&#x27;,\n",
              "                                                                                 sparse=False))]),\n",
              "                                                  &lt;sklearn.compose._column_transformer.make_column_selector object at 0x7f6e26f5c190&gt;)])),\n",
              "                (&#x27;logisticregression&#x27;,\n",
              "                 LogisticRegression(max_iter=1000, random_state=42))])</pre></div></div></div><div class=\"sk-serial\"><div class=\"sk-item sk-dashed-wrapped\"><div class=\"sk-label-container\"><div class=\"sk-label sk-toggleable\"><input class=\"sk-toggleable__control sk-hidden--visually\" id=\"bdb76cf6-f605-4e2e-bdf6-a552d4f1b4ce\" type=\"checkbox\" ><label for=\"bdb76cf6-f605-4e2e-bdf6-a552d4f1b4ce\" class=\"sk-toggleable__label sk-toggleable__label-arrow\">columntransformer: ColumnTransformer</label><div class=\"sk-toggleable__content\"><pre>ColumnTransformer(transformers=[(&#x27;pipeline-1&#x27;,\n",
              "                                 Pipeline(steps=[(&#x27;simpleimputer&#x27;,\n",
              "                                                  SimpleImputer()),\n",
              "                                                 (&#x27;standardscaler&#x27;,\n",
              "                                                  StandardScaler())]),\n",
              "                                 &lt;sklearn.compose._column_transformer.make_column_selector object at 0x7f6e26f8d490&gt;),\n",
              "                                (&#x27;pipeline-2&#x27;,\n",
              "                                 Pipeline(steps=[(&#x27;simpleimputer&#x27;,\n",
              "                                                  SimpleImputer(strategy=&#x27;most_frequent&#x27;)),\n",
              "                                                 (&#x27;onehotencoder&#x27;,\n",
              "                                                  OneHotEncoder(handle_unknown=&#x27;ignore&#x27;,\n",
              "                                                                sparse=False))]),\n",
              "                                 &lt;sklearn.compose._column_transformer.make_column_selector object at 0x7f6e26f5c190&gt;)])</pre></div></div></div><div class=\"sk-parallel\"><div class=\"sk-parallel-item\"><div class=\"sk-item\"><div class=\"sk-label-container\"><div class=\"sk-label sk-toggleable\"><input class=\"sk-toggleable__control sk-hidden--visually\" id=\"9dc6fe49-4f97-4bc3-ab5f-d0d47956da9e\" type=\"checkbox\" ><label for=\"9dc6fe49-4f97-4bc3-ab5f-d0d47956da9e\" class=\"sk-toggleable__label sk-toggleable__label-arrow\">pipeline-1</label><div class=\"sk-toggleable__content\"><pre>&lt;sklearn.compose._column_transformer.make_column_selector object at 0x7f6e26f8d490&gt;</pre></div></div></div><div class=\"sk-serial\"><div class=\"sk-item\"><div class=\"sk-serial\"><div class=\"sk-item\"><div class=\"sk-estimator sk-toggleable\"><input class=\"sk-toggleable__control sk-hidden--visually\" id=\"5c77d8c6-a5a4-462c-876b-8acf2642055a\" type=\"checkbox\" ><label for=\"5c77d8c6-a5a4-462c-876b-8acf2642055a\" class=\"sk-toggleable__label sk-toggleable__label-arrow\">SimpleImputer</label><div class=\"sk-toggleable__content\"><pre>SimpleImputer()</pre></div></div></div><div class=\"sk-item\"><div class=\"sk-estimator sk-toggleable\"><input class=\"sk-toggleable__control sk-hidden--visually\" id=\"d25f26fe-a2a0-4416-a8f7-09daf2c7d640\" type=\"checkbox\" ><label for=\"d25f26fe-a2a0-4416-a8f7-09daf2c7d640\" class=\"sk-toggleable__label sk-toggleable__label-arrow\">StandardScaler</label><div class=\"sk-toggleable__content\"><pre>StandardScaler()</pre></div></div></div></div></div></div></div></div><div class=\"sk-parallel-item\"><div class=\"sk-item\"><div class=\"sk-label-container\"><div class=\"sk-label sk-toggleable\"><input class=\"sk-toggleable__control sk-hidden--visually\" id=\"c7b3d980-a3e9-449e-95ba-d22efc76b7f3\" type=\"checkbox\" ><label for=\"c7b3d980-a3e9-449e-95ba-d22efc76b7f3\" class=\"sk-toggleable__label sk-toggleable__label-arrow\">pipeline-2</label><div class=\"sk-toggleable__content\"><pre>&lt;sklearn.compose._column_transformer.make_column_selector object at 0x7f6e26f5c190&gt;</pre></div></div></div><div class=\"sk-serial\"><div class=\"sk-item\"><div class=\"sk-serial\"><div class=\"sk-item\"><div class=\"sk-estimator sk-toggleable\"><input class=\"sk-toggleable__control sk-hidden--visually\" id=\"3ed47bb7-7689-4361-8700-e250f5e30294\" type=\"checkbox\" ><label for=\"3ed47bb7-7689-4361-8700-e250f5e30294\" class=\"sk-toggleable__label sk-toggleable__label-arrow\">SimpleImputer</label><div class=\"sk-toggleable__content\"><pre>SimpleImputer(strategy=&#x27;most_frequent&#x27;)</pre></div></div></div><div class=\"sk-item\"><div class=\"sk-estimator sk-toggleable\"><input class=\"sk-toggleable__control sk-hidden--visually\" id=\"2b5bde8b-2326-46b8-8b85-f7261849987a\" type=\"checkbox\" ><label for=\"2b5bde8b-2326-46b8-8b85-f7261849987a\" class=\"sk-toggleable__label sk-toggleable__label-arrow\">OneHotEncoder</label><div class=\"sk-toggleable__content\"><pre>OneHotEncoder(handle_unknown=&#x27;ignore&#x27;, sparse=False)</pre></div></div></div></div></div></div></div></div></div></div><div class=\"sk-item\"><div class=\"sk-estimator sk-toggleable\"><input class=\"sk-toggleable__control sk-hidden--visually\" id=\"cb8a14e9-4bef-493d-9209-b0761a48cb3d\" type=\"checkbox\" ><label for=\"cb8a14e9-4bef-493d-9209-b0761a48cb3d\" class=\"sk-toggleable__label sk-toggleable__label-arrow\">LogisticRegression</label><div class=\"sk-toggleable__content\"><pre>LogisticRegression(max_iter=1000, random_state=42)</pre></div></div></div></div></div></div></div>"
            ]
          },
          "metadata": {},
          "execution_count": 40
        }
      ]
    },
    {
      "cell_type": "code",
      "source": [
        "# Fit and assess scores\n",
        "logreg_pipe.fit(X_train, y_train)\n",
        "print(logreg_pipe.score(X_train, y_train))\n",
        "print(logreg_pipe.score(X_test, y_test))"
      ],
      "metadata": {
        "colab": {
          "base_uri": "https://localhost:8080/"
        },
        "id": "QQwKEA_xJJ_N",
        "outputId": "e871d6d3-1ad2-4621-f0fb-1a36cb504a37"
      },
      "execution_count": 41,
      "outputs": [
        {
          "output_type": "stream",
          "name": "stdout",
          "text": [
            "0.5889967637540453\n",
            "0.5145631067961165\n"
          ]
        }
      ]
    },
    {
      "cell_type": "code",
      "source": [
        "# K Nearest Neighbors\n",
        "knn_pipe = make_pipeline(preprocessor, knn)\n",
        "knn_pipe.fit(X_train, y_train)\n",
        "print(knn_pipe.score(X_train, y_train))\n",
        "print(knn_pipe.score(X_test, y_test))"
      ],
      "metadata": {
        "id": "8Ad-UMzzcBsR",
        "colab": {
          "base_uri": "https://localhost:8080/"
        },
        "outputId": "93e9ac24-389c-49c7-dfd2-66e480e497e5"
      },
      "execution_count": 42,
      "outputs": [
        {
          "output_type": "stream",
          "name": "stdout",
          "text": [
            "0.6407766990291263\n",
            "0.4563106796116505\n"
          ]
        }
      ]
    },
    {
      "cell_type": "code",
      "source": [
        "# Random Forest\n",
        "rf_pipe = make_pipeline(preprocessor, rf)\n",
        "rf_pipe.fit(X_train, y_train)\n",
        "print(rf_pipe.score(X_train, y_train))\n",
        "print(rf_pipe.score(X_test, y_test))"
      ],
      "metadata": {
        "colab": {
          "base_uri": "https://localhost:8080/"
        },
        "id": "ot1Lw7B7v4go",
        "outputId": "978ee8a2-3a1d-4ae1-a381-d4c9e239dfb1"
      },
      "execution_count": 43,
      "outputs": [
        {
          "output_type": "stream",
          "name": "stdout",
          "text": [
            "1.0\n",
            "0.46601941747572817\n"
          ]
        }
      ]
    },
    {
      "cell_type": "markdown",
      "source": [
        "### Interestingly, Logistic Regression, while having the lowest training score, actually has the highest testing score\n",
        "\n",
        "- Let's tune our models to determine which is the best"
      ],
      "metadata": {
        "id": "uwKO2nX1GFJo"
      }
    },
    {
      "cell_type": "code",
      "source": [
        "logreg_pipe.get_params()"
      ],
      "metadata": {
        "id": "4PHOdHveMMsn"
      },
      "execution_count": null,
      "outputs": []
    },
    {
      "cell_type": "code",
      "source": [
        "# This was addapted from \"Enrique Benito Casado\" on Stack Overflow:\n",
        "  # https://stackoverflow.com/questions/19018333/gridsearchcv-on-logisticregression-in-scikit-learn\n",
        "\n",
        "logreg_pipe_2 = make_pipeline(preprocessor, LogisticRegression(max_iter = 10000, random_state = 42))\n",
        "  # Max iteration were reached when initially running this model at 'max_iter= 1000', \n",
        "    # Therefore, I increased it to '10,000'\n",
        "logreg_params = [{'logisticregression__solver': ['saga'], # 'saga' chosen because it handles both 'l1', and 'l2'\n",
        "                  'logisticregression__penalty':['l1', 'l2'],\n",
        "                  'logisticregression__C':[0.001, 0.01, 0.1, 1, 10, 100]}]\n",
        "\n",
        "\n",
        "\n",
        "logreg_grid_search = GridSearchCV(estimator = logreg_pipe_2,  \n",
        "                           param_grid = logreg_params,\n",
        "                           scoring = 'accuracy')\n",
        "\n",
        "# Get oput our best parameters for our Logistical Regression Model\n",
        "logreg_grid_search.fit(X_train, y_train)\n",
        "logreg_grid_search.best_params_"
      ],
      "metadata": {
        "colab": {
          "base_uri": "https://localhost:8080/"
        },
        "id": "C1OPKo_VJKC0",
        "outputId": "b83944e8-f681-41d5-ac67-e5dc6109c0b5"
      },
      "execution_count": 45,
      "outputs": [
        {
          "output_type": "execute_result",
          "data": {
            "text/plain": [
              "{'logisticregression__C': 1,\n",
              " 'logisticregression__penalty': 'l1',\n",
              " 'logisticregression__solver': 'saga'}"
            ]
          },
          "metadata": {},
          "execution_count": 45
        }
      ]
    },
    {
      "cell_type": "code",
      "source": [
        "# Make, fit, and generate scores for our best Logistic Regression model\n",
        "logreg_best = LogisticRegression(C = 1, solver = 'saga', penalty = 'l1', random_state = 42, max_iter = 10000)\n",
        "logreg_best_pipe = make_pipeline(preprocessor, logreg_best)\n",
        "logreg_best_pipe.fit(X_train, y_train)\n",
        "print(logreg_best_pipe.score(X_train, y_train))\n",
        "print(logreg_best_pipe.score(X_test, y_test))"
      ],
      "metadata": {
        "colab": {
          "base_uri": "https://localhost:8080/"
        },
        "id": "tuopeDCXOZc-",
        "outputId": "cb81c62c-b636-498d-cf0a-892ec23d49ec"
      },
      "execution_count": 46,
      "outputs": [
        {
          "output_type": "stream",
          "name": "stdout",
          "text": [
            "0.5922330097087378\n",
            "0.5242718446601942\n"
          ]
        }
      ]
    },
    {
      "cell_type": "markdown",
      "source": [
        "## We successfully increased our testing accuracy by whopping 1%\n",
        "### Perhaps we'll have have better luck hyperparameter tuning our other 2 models"
      ],
      "metadata": {
        "id": "VrgEYAW0NKaL"
      }
    },
    {
      "cell_type": "code",
      "source": [
        "# Get knn parameters\n",
        "knn_pipe.get_params()"
      ],
      "metadata": {
        "id": "O6QNiLnUN1iO"
      },
      "execution_count": null,
      "outputs": []
    },
    {
      "cell_type": "code",
      "source": [
        "# Let's tune weight, n_neighbors, and p\n",
        "knn_params = {'kneighborsclassifier__n_neighbors': range(1,10),\n",
        "              'kneighborsclassifier__p': range(1,5),\n",
        "              'kneighborsclassifier__leaf_size': [10,20,30,40,50],\n",
        "              'kneighborsclassifier__weights': ['distance','uniform']}"
      ],
      "metadata": {
        "id": "b7Mxp5GEOAR7"
      },
      "execution_count": 48,
      "outputs": []
    },
    {
      "cell_type": "code",
      "source": [
        "# We will find our best parameters using the Scikit_Learn Grid Search\n",
        "knn_grid_search = GridSearchCV(knn_pipe, knn_params)\n",
        "\n",
        "# This is a slightly different approach\n",
        "knn_grid_search.fit(X_train, y_train)\n",
        "print('Best KNN Parameters:')\n",
        "print(knn_grid_search.best_params_)\n",
        "knn_best = knn_grid_search.best_estimator_\n",
        "print(f'Accuracy of best KNN model is: {knn_best.score(X_test, y_test)}')"
      ],
      "metadata": {
        "colab": {
          "base_uri": "https://localhost:8080/"
        },
        "id": "OKsgY2I0OAUh",
        "outputId": "473e58d0-29ed-4e80-dc83-c7f695c8e75b"
      },
      "execution_count": 49,
      "outputs": [
        {
          "output_type": "stream",
          "name": "stdout",
          "text": [
            "Best KNN Parameters:\n",
            "{'kneighborsclassifier__leaf_size': 10, 'kneighborsclassifier__n_neighbors': 8, 'kneighborsclassifier__p': 3, 'kneighborsclassifier__weights': 'distance'}\n",
            "Accuracy of best KNN model is: 0.4368932038834951\n"
          ]
        }
      ]
    },
    {
      "cell_type": "markdown",
      "source": [
        "### Our deafualt KNN model is our best, so we will stay with that"
      ],
      "metadata": {
        "id": "vX4HUjwkTPp0"
      }
    },
    {
      "cell_type": "code",
      "source": [
        "# Get parameters for Random Forest\n",
        "rf_pipe.get_params()"
      ],
      "metadata": {
        "id": "GBrEAC0-OAWR"
      },
      "execution_count": null,
      "outputs": []
    },
    {
      "cell_type": "code",
      "source": [
        "# Let's try tuning our n_estimators, depth, and min_samples_leaf\n",
        "rf_params = {'randomforestclassifier__max_depth': [1,2,3],\n",
        "             'randomforestclassifier__min_samples_leaf': [1,3,5],\n",
        "             'randomforestclassifier__min_samples_split': [2,3,4],\n",
        "             'randomforestclassifier__n_estimators': [50, 100, 150]}\n",
        "\n",
        "# Instantiate GridSearchCV and get best parameters\n",
        "rf_grid_search = GridSearchCV(rf_pipe, rf_params)\n",
        "rf_grid_search.fit(X_train, y_train)\n",
        "rf_grid_search.best_params_"
      ],
      "metadata": {
        "colab": {
          "base_uri": "https://localhost:8080/"
        },
        "id": "VgBdN4KeUE9N",
        "outputId": "0e8f7e38-70e5-4595-8f40-7af8f132a13e"
      },
      "execution_count": 51,
      "outputs": [
        {
          "output_type": "execute_result",
          "data": {
            "text/plain": [
              "{'randomforestclassifier__max_depth': 1,\n",
              " 'randomforestclassifier__min_samples_leaf': 1,\n",
              " 'randomforestclassifier__min_samples_split': 2,\n",
              " 'randomforestclassifier__n_estimators': 100}"
            ]
          },
          "metadata": {},
          "execution_count": 51
        }
      ]
    },
    {
      "cell_type": "code",
      "source": [
        "rf_best = RandomForestClassifier(random_state = 42, max_depth = 1, min_samples_leaf = 1, n_estimators = 100, min_samples_split = 2)\n",
        "rf_best_pipe = make_pipeline(preprocessor, rf_best)\n",
        "rf_best_pipe.fit(X_train, y_train)\n",
        "print(rf_best_pipe.score(X_test, y_test))"
      ],
      "metadata": {
        "colab": {
          "base_uri": "https://localhost:8080/"
        },
        "id": "Q0jxDj2dTCoB",
        "outputId": "3d1c83ed-58bb-48a5-948c-432d496bf1fb"
      },
      "execution_count": 52,
      "outputs": [
        {
          "output_type": "stream",
          "name": "stdout",
          "text": [
            "0.5242718446601942\n"
          ]
        }
      ]
    },
    {
      "cell_type": "markdown",
      "source": [
        "## Our Random Forest model accuracy increased significantly compared to our other two models, BUT, it has the same score as our logistic regression\n",
        "\n",
        "### Let's apply PCA to both our Random Forest, and Logistic Regression, and see which is best"
      ],
      "metadata": {
        "id": "FgkhvUVgYHPS"
      }
    },
    {
      "cell_type": "code",
      "source": [
        "# Load in PCA librarie\n",
        "from sklearn.decomposition import PCA\n",
        "\n",
        "# Now we need to fit PCA on our pre-processed data\n",
        "pca = PCA()\n",
        "pca.fit(X_train_transformed)  # This was done prior to our model building"
      ],
      "metadata": {
        "colab": {
          "base_uri": "https://localhost:8080/",
          "height": 74
        },
        "id": "FqXRXbdJTCqs",
        "outputId": "d66a0aa9-0009-4e35-d39b-566ef20ac95f"
      },
      "execution_count": 53,
      "outputs": [
        {
          "output_type": "execute_result",
          "data": {
            "text/plain": [
              "PCA()"
            ],
            "text/html": [
              "<style>#sk-ed97f2da-26b9-436b-9b75-9c4a56cb7b24 {color: black;background-color: white;}#sk-ed97f2da-26b9-436b-9b75-9c4a56cb7b24 pre{padding: 0;}#sk-ed97f2da-26b9-436b-9b75-9c4a56cb7b24 div.sk-toggleable {background-color: white;}#sk-ed97f2da-26b9-436b-9b75-9c4a56cb7b24 label.sk-toggleable__label {cursor: pointer;display: block;width: 100%;margin-bottom: 0;padding: 0.3em;box-sizing: border-box;text-align: center;}#sk-ed97f2da-26b9-436b-9b75-9c4a56cb7b24 label.sk-toggleable__label-arrow:before {content: \"▸\";float: left;margin-right: 0.25em;color: #696969;}#sk-ed97f2da-26b9-436b-9b75-9c4a56cb7b24 label.sk-toggleable__label-arrow:hover:before {color: black;}#sk-ed97f2da-26b9-436b-9b75-9c4a56cb7b24 div.sk-estimator:hover label.sk-toggleable__label-arrow:before {color: black;}#sk-ed97f2da-26b9-436b-9b75-9c4a56cb7b24 div.sk-toggleable__content {max-height: 0;max-width: 0;overflow: hidden;text-align: left;background-color: #f0f8ff;}#sk-ed97f2da-26b9-436b-9b75-9c4a56cb7b24 div.sk-toggleable__content pre {margin: 0.2em;color: black;border-radius: 0.25em;background-color: #f0f8ff;}#sk-ed97f2da-26b9-436b-9b75-9c4a56cb7b24 input.sk-toggleable__control:checked~div.sk-toggleable__content {max-height: 200px;max-width: 100%;overflow: auto;}#sk-ed97f2da-26b9-436b-9b75-9c4a56cb7b24 input.sk-toggleable__control:checked~label.sk-toggleable__label-arrow:before {content: \"▾\";}#sk-ed97f2da-26b9-436b-9b75-9c4a56cb7b24 div.sk-estimator input.sk-toggleable__control:checked~label.sk-toggleable__label {background-color: #d4ebff;}#sk-ed97f2da-26b9-436b-9b75-9c4a56cb7b24 div.sk-label input.sk-toggleable__control:checked~label.sk-toggleable__label {background-color: #d4ebff;}#sk-ed97f2da-26b9-436b-9b75-9c4a56cb7b24 input.sk-hidden--visually {border: 0;clip: rect(1px 1px 1px 1px);clip: rect(1px, 1px, 1px, 1px);height: 1px;margin: -1px;overflow: hidden;padding: 0;position: absolute;width: 1px;}#sk-ed97f2da-26b9-436b-9b75-9c4a56cb7b24 div.sk-estimator {font-family: monospace;background-color: #f0f8ff;border: 1px dotted black;border-radius: 0.25em;box-sizing: border-box;margin-bottom: 0.5em;}#sk-ed97f2da-26b9-436b-9b75-9c4a56cb7b24 div.sk-estimator:hover {background-color: #d4ebff;}#sk-ed97f2da-26b9-436b-9b75-9c4a56cb7b24 div.sk-parallel-item::after {content: \"\";width: 100%;border-bottom: 1px solid gray;flex-grow: 1;}#sk-ed97f2da-26b9-436b-9b75-9c4a56cb7b24 div.sk-label:hover label.sk-toggleable__label {background-color: #d4ebff;}#sk-ed97f2da-26b9-436b-9b75-9c4a56cb7b24 div.sk-serial::before {content: \"\";position: absolute;border-left: 1px solid gray;box-sizing: border-box;top: 2em;bottom: 0;left: 50%;}#sk-ed97f2da-26b9-436b-9b75-9c4a56cb7b24 div.sk-serial {display: flex;flex-direction: column;align-items: center;background-color: white;padding-right: 0.2em;padding-left: 0.2em;}#sk-ed97f2da-26b9-436b-9b75-9c4a56cb7b24 div.sk-item {z-index: 1;}#sk-ed97f2da-26b9-436b-9b75-9c4a56cb7b24 div.sk-parallel {display: flex;align-items: stretch;justify-content: center;background-color: white;}#sk-ed97f2da-26b9-436b-9b75-9c4a56cb7b24 div.sk-parallel::before {content: \"\";position: absolute;border-left: 1px solid gray;box-sizing: border-box;top: 2em;bottom: 0;left: 50%;}#sk-ed97f2da-26b9-436b-9b75-9c4a56cb7b24 div.sk-parallel-item {display: flex;flex-direction: column;position: relative;background-color: white;}#sk-ed97f2da-26b9-436b-9b75-9c4a56cb7b24 div.sk-parallel-item:first-child::after {align-self: flex-end;width: 50%;}#sk-ed97f2da-26b9-436b-9b75-9c4a56cb7b24 div.sk-parallel-item:last-child::after {align-self: flex-start;width: 50%;}#sk-ed97f2da-26b9-436b-9b75-9c4a56cb7b24 div.sk-parallel-item:only-child::after {width: 0;}#sk-ed97f2da-26b9-436b-9b75-9c4a56cb7b24 div.sk-dashed-wrapped {border: 1px dashed gray;margin: 0 0.4em 0.5em 0.4em;box-sizing: border-box;padding-bottom: 0.4em;background-color: white;position: relative;}#sk-ed97f2da-26b9-436b-9b75-9c4a56cb7b24 div.sk-label label {font-family: monospace;font-weight: bold;background-color: white;display: inline-block;line-height: 1.2em;}#sk-ed97f2da-26b9-436b-9b75-9c4a56cb7b24 div.sk-label-container {position: relative;z-index: 2;text-align: center;}#sk-ed97f2da-26b9-436b-9b75-9c4a56cb7b24 div.sk-container {/* jupyter's `normalize.less` sets `[hidden] { display: none; }` but bootstrap.min.css set `[hidden] { display: none !important; }` so we also need the `!important` here to be able to override the default hidden behavior on the sphinx rendered scikit-learn.org. See: https://github.com/scikit-learn/scikit-learn/issues/21755 */display: inline-block !important;position: relative;}#sk-ed97f2da-26b9-436b-9b75-9c4a56cb7b24 div.sk-text-repr-fallback {display: none;}</style><div id=\"sk-ed97f2da-26b9-436b-9b75-9c4a56cb7b24\" class=\"sk-top-container\"><div class=\"sk-text-repr-fallback\"><pre>PCA()</pre><b>Please rerun this cell to show the HTML repr or trust the notebook.</b></div><div class=\"sk-container\" hidden><div class=\"sk-item\"><div class=\"sk-estimator sk-toggleable\"><input class=\"sk-toggleable__control sk-hidden--visually\" id=\"aa72078d-1595-46e0-917b-2c0664f38f60\" type=\"checkbox\" checked><label for=\"aa72078d-1595-46e0-917b-2c0664f38f60\" class=\"sk-toggleable__label sk-toggleable__label-arrow\">PCA</label><div class=\"sk-toggleable__content\"><pre>PCA()</pre></div></div></div></div></div>"
            ]
          },
          "metadata": {},
          "execution_count": 53
        }
      ]
    },
    {
      "cell_type": "code",
      "source": [
        "# Make a plot to determine our best number of principal components\n",
        "plt.plot(range(1, 28), pca.explained_variance_ratio_, marker = '.')\n",
        "  # We have 27 columns in our features (X)\n",
        "plt.xticks(ticks = range(1, 28), fontsize = 8)\n",
        "plt.xlabel('Principal Component')\n",
        "plt.ylabel('Proportion of Explained Variance');"
      ],
      "metadata": {
        "colab": {
          "base_uri": "https://localhost:8080/",
          "height": 278
        },
        "id": "5GnZG-13ezzS",
        "outputId": "a37cdcf7-9008-44d3-f33c-99bce62c6ea2"
      },
      "execution_count": 54,
      "outputs": [
        {
          "output_type": "display_data",
          "data": {
            "text/plain": [
              "<Figure size 432x288 with 1 Axes>"
            ],
            "image/png": "[encoded data removed]"
          },
          "metadata": {
            "needs_background": "light"
          }
        }
      ]
    },
    {
      "cell_type": "markdown",
      "source": [
        "We are looking for an \"elbow\", or bend in the graph where the explained variance begins to level out. In this graph seems like we could call this 5, 10, 12, or 16. For our purposes here, we will call it 16. This will reduce our components, but not lose a ton of potentially useful data (since these models really needs everything we can give them)"
      ],
      "metadata": {
        "id": "QvPBCMsgffcZ"
      }
    },
    {
      "cell_type": "code",
      "source": [
        "# Instantiate best PCA\n",
        "pca_best = PCA(n_components = 16)\n",
        "\n",
        "# Insert it in a transformer\n",
        "transformer = make_pipeline(preprocessor, pca_best)"
      ],
      "metadata": {
        "id": "CN7nZjBrTC4B"
      },
      "execution_count": 55,
      "outputs": []
    },
    {
      "cell_type": "code",
      "source": [
        "# Run Logistic Regression (with our best parameters) with our transforemer (PCA) addition\n",
        "%%time\n",
        "\n",
        "logreg_pca_pipe = make_pipeline(transformer, logreg_best)\n",
        "logreg_pca_pipe.fit(X_train, y_train)\n",
        "print(logreg_pca_pipe.score(X_train, y_train))\n",
        "print(logreg_pca_pipe.score(X_test, y_test))"
      ],
      "metadata": {
        "colab": {
          "base_uri": "https://localhost:8080/"
        },
        "id": "V41a1gM_hnd_",
        "outputId": "6a475bef-a5da-448f-d604-7c71c350a681"
      },
      "execution_count": 56,
      "outputs": [
        {
          "output_type": "stream",
          "name": "stdout",
          "text": [
            "0.5728155339805825\n",
            "0.5339805825242718\n",
            "CPU times: user 85 ms, sys: 878 µs, total: 85.9 ms\n",
            "Wall time: 88.6 ms\n"
          ]
        }
      ]
    },
    {
      "cell_type": "markdown",
      "source": [
        "###This marginally improved our accuracy, and it performed very quickly"
      ],
      "metadata": {
        "id": "3-HBVRNQi2rd"
      }
    },
    {
      "cell_type": "code",
      "source": [
        "# Repeat with our Random Forest Model\n",
        "%%time\n",
        "\n",
        "rf_pca_pipe = make_pipeline(transformer, rf_best)\n",
        "rf_pca_pipe.fit(X_train, y_train)\n",
        "print(rf_pca_pipe.score(X_train, y_train))\n",
        "print(rf_pca_pipe.score(X_test, y_test))"
      ],
      "metadata": {
        "colab": {
          "base_uri": "https://localhost:8080/"
        },
        "id": "GT5wbe9qhaWx",
        "outputId": "f7e87241-53b4-4b38-d5d4-75885a556cb2"
      },
      "execution_count": 57,
      "outputs": [
        {
          "output_type": "stream",
          "name": "stdout",
          "text": [
            "0.5307443365695793\n",
            "0.5533980582524272\n",
            "CPU times: user 244 ms, sys: 7.73 ms, total: 252 ms\n",
            "Wall time: 255 ms\n"
          ]
        }
      ]
    },
    {
      "cell_type": "markdown",
      "source": [
        "### This increased our score a little more than it did for Logistic Regression. Although slower, it is only by milliseconds\n",
        "- We will run a full classification report on both to get a better idea of which is trul better. Keep in mind that things like false positives and false negatives have a roll to play, especially in medical diagnosis models. "
      ],
      "metadata": {
        "id": "X3BB2BeJjw9m"
      }
    },
    {
      "cell_type": "code",
      "source": [
        "# Generate predictions and classification reports\n",
        "logreg_preds = logreg_pca_pipe.predict(X_test)\n",
        "rf_preds = rf_pca_pipe.predict(X_test)\n",
        "\n",
        "# Collect our classification reports\n",
        "print('Classification report for best Logistic Regression:')\n",
        "print('\\n')\n",
        "print(classification_report(y_test, logreg_preds))\n",
        "print('\\n')\n",
        "print('Classification report for best Random Forest Model:')\n",
        "print('\\n')\n",
        "print(classification_report(y_test, rf_preds))"
      ],
      "metadata": {
        "colab": {
          "base_uri": "https://localhost:8080/"
        },
        "id": "-D6xsTiphaZ0",
        "outputId": "dc44d19d-5014-43dd-d7e3-2b8127459678"
      },
      "execution_count": 58,
      "outputs": [
        {
          "output_type": "stream",
          "name": "stdout",
          "text": [
            "Classification report for best Logistic Regression:\n",
            "\n",
            "\n",
            "              precision    recall  f1-score   support\n",
            "\n",
            "         1.0       0.00      0.00      0.00         5\n",
            "         2.0       0.33      0.17      0.23        23\n",
            "         3.0       0.45      0.64      0.53        39\n",
            "         4.0       0.72      0.72      0.72        36\n",
            "\n",
            "    accuracy                           0.53       103\n",
            "   macro avg       0.38      0.38      0.37       103\n",
            "weighted avg       0.50      0.53      0.50       103\n",
            "\n",
            "\n",
            "\n",
            "Classification report for best Random Forest Model:\n",
            "\n",
            "\n",
            "              precision    recall  f1-score   support\n",
            "\n",
            "         1.0       0.00      0.00      0.00         5\n",
            "         2.0       0.00      0.00      0.00        23\n",
            "         3.0       0.49      0.92      0.64        39\n",
            "         4.0       0.72      0.58      0.65        36\n",
            "\n",
            "    accuracy                           0.55       103\n",
            "   macro avg       0.30      0.38      0.32       103\n",
            "weighted avg       0.44      0.55      0.47       103\n",
            "\n"
          ]
        },
        {
          "output_type": "stream",
          "name": "stderr",
          "text": [
            "/usr/local/lib/python3.7/dist-packages/sklearn/metrics/_classification.py:1318: UndefinedMetricWarning: Precision and F-score are ill-defined and being set to 0.0 in labels with no predicted samples. Use `zero_division` parameter to control this behavior.\n",
            "  _warn_prf(average, modifier, msg_start, len(result))\n",
            "/usr/local/lib/python3.7/dist-packages/sklearn/metrics/_classification.py:1318: UndefinedMetricWarning: Precision and F-score are ill-defined and being set to 0.0 in labels with no predicted samples. Use `zero_division` parameter to control this behavior.\n",
            "  _warn_prf(average, modifier, msg_start, len(result))\n",
            "/usr/local/lib/python3.7/dist-packages/sklearn/metrics/_classification.py:1318: UndefinedMetricWarning: Precision and F-score are ill-defined and being set to 0.0 in labels with no predicted samples. Use `zero_division` parameter to control this behavior.\n",
            "  _warn_prf(average, modifier, msg_start, len(result))\n",
            "/usr/local/lib/python3.7/dist-packages/sklearn/metrics/_classification.py:1318: UndefinedMetricWarning: Precision and F-score are ill-defined and being set to 0.0 in labels with no predicted samples. Use `zero_division` parameter to control this behavior.\n",
            "  _warn_prf(average, modifier, msg_start, len(result))\n",
            "/usr/local/lib/python3.7/dist-packages/sklearn/metrics/_classification.py:1318: UndefinedMetricWarning: Precision and F-score are ill-defined and being set to 0.0 in labels with no predicted samples. Use `zero_division` parameter to control this behavior.\n",
            "  _warn_prf(average, modifier, msg_start, len(result))\n",
            "/usr/local/lib/python3.7/dist-packages/sklearn/metrics/_classification.py:1318: UndefinedMetricWarning: Precision and F-score are ill-defined and being set to 0.0 in labels with no predicted samples. Use `zero_division` parameter to control this behavior.\n",
            "  _warn_prf(average, modifier, msg_start, len(result))\n"
          ]
        }
      ]
    },
    {
      "cell_type": "markdown",
      "source": [
        "# Final model to put into production: Logistical Regression:\n",
        "  - Hyperparameters: C = 1, solver = 'saga', penalty = 'l1', random_state = 42, max_iter = 10000\n",
        "    - With the addition of PCA(n_components = 16)\n"
      ],
      "metadata": {
        "id": "9Xdlq-JRnKo8"
      }
    },
    {
      "cell_type": "markdown",
      "source": [
        "## The reason behind this is simple: this generates the most balanced predictions.\n",
        "## While accuracy was higher in our Random Forest, and it did show a great recall score of 92% when predicting stage 3 cirrhosis, it did NOT have any predictive data for stage 1 or 2 cirrhosis.\n",
        "## This implies that this model miss-predicted all stage 1 and stage 2 patients, leaving a large gap. \n",
        "## While the Logistic Regression model is still poor, it has the most balance in predictions, and is incredibly quick. \n",
        "# This model could be put into practice only as a way to increase the amount of data fed into the model, and to increase it's reliability over time. This should NOT be relied on to make clinical predictions.\n",
        "### This models performance can be improved by gathering more data, and adding more highly correlated data points (chemical blood concentrations, co-morbidities, etc), with the help of a subject matter expert.\n",
        "- ## This model, to be truly successful, needs more information correlated to stage 1 and stage 2 cirrhosis. As is the case with all medical condition, the earlier the diagnosis, the better."
      ],
      "metadata": {
        "id": "UtZgXCVDnkXc"
      }
    }
  ]
}