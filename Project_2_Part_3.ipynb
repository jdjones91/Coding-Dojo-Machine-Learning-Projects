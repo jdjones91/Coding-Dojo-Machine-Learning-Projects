{
  "nbformat": 4,
  "nbformat_minor": 0,
  "metadata": {
    "colab": {
      "provenance": [],
      "collapsed_sections": [],
      "mount_file_id": "1PF5oo415X73o-jHkNlX2ZKLpcDFljnqp",
      "authorship_tag": "ABX9TyNiGLi1EIS/7HDuttqqihg+",
      "include_colab_link": true
    },
    "kernelspec": {
      "name": "python3",
      "display_name": "Python 3"
    },
    "language_info": {
      "name": "python"
    }
  },
  "cells": [
    {
      "cell_type": "markdown",
      "metadata": {
        "id": "view-in-github",
        "colab_type": "text"
      },
      "source": [
        "<a href=\"https://colab.research.google.com/github/jdjones91/Coding-Dojo-Machine-Learning-Projects/blob/main/Project_2_Part_3.ipynb\" target=\"_parent\"><img src=\"https://colab.research.google.com/assets/colab-badge.svg\" alt=\"Open In Colab\"/></a>"
      ]
    },
    {
      "cell_type": "markdown",
      "source": [
        "# James Jones\n",
        "###10-12-2022\n"
      ],
      "metadata": {
        "id": "tcOsOb7Zbc9t"
      }
    },
    {
      "cell_type": "markdown",
      "source": [
        "# Project 2 - Part 3\n",
        "\n",
        "### Cleaning and exploration of of my data set"
      ],
      "metadata": {
        "id": "0mZWGRhVbo2D"
      }
    },
    {
      "cell_type": "code",
      "execution_count": null,
      "metadata": {
        "id": "00jRyCmEXxmD"
      },
      "outputs": [],
      "source": [
        "# Import Libraries and load data for exploration\n",
        "import pandas as pd\n",
        "import numpy as np\n",
        "import matplotlib.pyplot as plt\n",
        "import seaborn as sns\n",
        "  # These are the only Libraries we need for now"
      ]
    },
    {
      "cell_type": "markdown",
      "source": [
        "# This data set comes from Kaggle\n",
        "  - https://www.kaggle.com/datasets/fedesoriano/cirrhosis-prediction-dataset?resource=download\n",
        "\n",
        "### This data set uses physiological markers to predict the stage of patient cirrhosis\n",
        "\n",
        "The target (y) is \"Stage\" (of cirrhosis)\n",
        "\n",
        "This is a multi-class *Classification* problem\n",
        "\n",
        "There are 19 Features (X) \n",
        "\n",
        "There are 418 rows (Approx 19 * 418 = 7,942 data points)\n",
        "\n",
        "## I am interested in this data set, because of my background B.S. in Emergency Medical Services. I would very much enjoy working with a healthcare company, hospital system, medical insurance company, etc. to kick off my new career."
      ],
      "metadata": {
        "id": "PVt-28a9qX8O"
      }
    },
    {
      "cell_type": "code",
      "source": [
        "# Load in data set and view df.head()\n",
        "df = pd.read_csv('/content/cirrhosis.csv')\n",
        "df.head()"
      ],
      "metadata": {
        "colab": {
          "base_uri": "https://localhost:8080/",
          "height": 204
        },
        "id": "2m3d1w_sqabh",
        "outputId": "68000e06-f31e-4b5a-d35b-6d81ad35501a"
      },
      "execution_count": null,
      "outputs": [
        {
          "output_type": "execute_result",
          "data": {
            "text/plain": [
              "   ID  N_Days Status             Drug    Age Sex Ascites Hepatomegaly Spiders  \\\n",
              "0   1     400      D  D-penicillamine  21464   F       Y            Y       Y   \n",
              "1   2    4500      C  D-penicillamine  20617   F       N            Y       Y   \n",
              "2   3    1012      D  D-penicillamine  25594   M       N            N       N   \n",
              "3   4    1925      D  D-penicillamine  19994   F       N            Y       Y   \n",
              "4   5    1504     CL          Placebo  13918   F       N            Y       Y   \n",
              "\n",
              "  Edema  Bilirubin  Cholesterol  Albumin  Copper  Alk_Phos    SGOT  \\\n",
              "0     Y       14.5        261.0     2.60   156.0    1718.0  137.95   \n",
              "1     N        1.1        302.0     4.14    54.0    7394.8  113.52   \n",
              "2     S        1.4        176.0     3.48   210.0     516.0   96.10   \n",
              "3     S        1.8        244.0     2.54    64.0    6121.8   60.63   \n",
              "4     N        3.4        279.0     3.53   143.0     671.0  113.15   \n",
              "\n",
              "   Tryglicerides  Platelets  Prothrombin  Stage  \n",
              "0          172.0      190.0         12.2    4.0  \n",
              "1           88.0      221.0         10.6    3.0  \n",
              "2           55.0      151.0         12.0    4.0  \n",
              "3           92.0      183.0         10.3    4.0  \n",
              "4           72.0      136.0         10.9    3.0  "
            ],
            "text/html": [
              "\n",
              "  <div id=\"df-777d0f3f-c554-4c14-b16c-ec08b87ba653\">\n",
              "    <div class=\"colab-df-container\">\n",
              "      <div>\n",
              "<style scoped>\n",
              "    .dataframe tbody tr th:only-of-type {\n",
              "        vertical-align: middle;\n",
              "    }\n",
              "\n",
              "    .dataframe tbody tr th {\n",
              "        vertical-align: top;\n",
              "    }\n",
              "\n",
              "    .dataframe thead th {\n",
              "        text-align: right;\n",
              "    }\n",
              "</style>\n",
              "<table border=\"1\" class=\"dataframe\">\n",
              "  <thead>\n",
              "    <tr style=\"text-align: right;\">\n",
              "      <th></th>\n",
              "      <th>ID</th>\n",
              "      <th>N_Days</th>\n",
              "      <th>Status</th>\n",
              "      <th>Drug</th>\n",
              "      <th>Age</th>\n",
              "      <th>Sex</th>\n",
              "      <th>Ascites</th>\n",
              "      <th>Hepatomegaly</th>\n",
              "      <th>Spiders</th>\n",
              "      <th>Edema</th>\n",
              "      <th>Bilirubin</th>\n",
              "      <th>Cholesterol</th>\n",
              "      <th>Albumin</th>\n",
              "      <th>Copper</th>\n",
              "      <th>Alk_Phos</th>\n",
              "      <th>SGOT</th>\n",
              "      <th>Tryglicerides</th>\n",
              "      <th>Platelets</th>\n",
              "      <th>Prothrombin</th>\n",
              "      <th>Stage</th>\n",
              "    </tr>\n",
              "  </thead>\n",
              "  <tbody>\n",
              "    <tr>\n",
              "      <th>0</th>\n",
              "      <td>1</td>\n",
              "      <td>400</td>\n",
              "      <td>D</td>\n",
              "      <td>D-penicillamine</td>\n",
              "      <td>21464</td>\n",
              "      <td>F</td>\n",
              "      <td>Y</td>\n",
              "      <td>Y</td>\n",
              "      <td>Y</td>\n",
              "      <td>Y</td>\n",
              "      <td>14.5</td>\n",
              "      <td>261.0</td>\n",
              "      <td>2.60</td>\n",
              "      <td>156.0</td>\n",
              "      <td>1718.0</td>\n",
              "      <td>137.95</td>\n",
              "      <td>172.0</td>\n",
              "      <td>190.0</td>\n",
              "      <td>12.2</td>\n",
              "      <td>4.0</td>\n",
              "    </tr>\n",
              "    <tr>\n",
              "      <th>1</th>\n",
              "      <td>2</td>\n",
              "      <td>4500</td>\n",
              "      <td>C</td>\n",
              "      <td>D-penicillamine</td>\n",
              "      <td>20617</td>\n",
              "      <td>F</td>\n",
              "      <td>N</td>\n",
              "      <td>Y</td>\n",
              "      <td>Y</td>\n",
              "      <td>N</td>\n",
              "      <td>1.1</td>\n",
              "      <td>302.0</td>\n",
              "      <td>4.14</td>\n",
              "      <td>54.0</td>\n",
              "      <td>7394.8</td>\n",
              "      <td>113.52</td>\n",
              "      <td>88.0</td>\n",
              "      <td>221.0</td>\n",
              "      <td>10.6</td>\n",
              "      <td>3.0</td>\n",
              "    </tr>\n",
              "    <tr>\n",
              "      <th>2</th>\n",
              "      <td>3</td>\n",
              "      <td>1012</td>\n",
              "      <td>D</td>\n",
              "      <td>D-penicillamine</td>\n",
              "      <td>25594</td>\n",
              "      <td>M</td>\n",
              "      <td>N</td>\n",
              "      <td>N</td>\n",
              "      <td>N</td>\n",
              "      <td>S</td>\n",
              "      <td>1.4</td>\n",
              "      <td>176.0</td>\n",
              "      <td>3.48</td>\n",
              "      <td>210.0</td>\n",
              "      <td>516.0</td>\n",
              "      <td>96.10</td>\n",
              "      <td>55.0</td>\n",
              "      <td>151.0</td>\n",
              "      <td>12.0</td>\n",
              "      <td>4.0</td>\n",
              "    </tr>\n",
              "    <tr>\n",
              "      <th>3</th>\n",
              "      <td>4</td>\n",
              "      <td>1925</td>\n",
              "      <td>D</td>\n",
              "      <td>D-penicillamine</td>\n",
              "      <td>19994</td>\n",
              "      <td>F</td>\n",
              "      <td>N</td>\n",
              "      <td>Y</td>\n",
              "      <td>Y</td>\n",
              "      <td>S</td>\n",
              "      <td>1.8</td>\n",
              "      <td>244.0</td>\n",
              "      <td>2.54</td>\n",
              "      <td>64.0</td>\n",
              "      <td>6121.8</td>\n",
              "      <td>60.63</td>\n",
              "      <td>92.0</td>\n",
              "      <td>183.0</td>\n",
              "      <td>10.3</td>\n",
              "      <td>4.0</td>\n",
              "    </tr>\n",
              "    <tr>\n",
              "      <th>4</th>\n",
              "      <td>5</td>\n",
              "      <td>1504</td>\n",
              "      <td>CL</td>\n",
              "      <td>Placebo</td>\n",
              "      <td>13918</td>\n",
              "      <td>F</td>\n",
              "      <td>N</td>\n",
              "      <td>Y</td>\n",
              "      <td>Y</td>\n",
              "      <td>N</td>\n",
              "      <td>3.4</td>\n",
              "      <td>279.0</td>\n",
              "      <td>3.53</td>\n",
              "      <td>143.0</td>\n",
              "      <td>671.0</td>\n",
              "      <td>113.15</td>\n",
              "      <td>72.0</td>\n",
              "      <td>136.0</td>\n",
              "      <td>10.9</td>\n",
              "      <td>3.0</td>\n",
              "    </tr>\n",
              "  </tbody>\n",
              "</table>\n",
              "</div>\n",
              "      <button class=\"colab-df-convert\" onclick=\"convertToInteractive('df-777d0f3f-c554-4c14-b16c-ec08b87ba653')\"\n",
              "              title=\"Convert this dataframe to an interactive table.\"\n",
              "              style=\"display:none;\">\n",
              "        \n",
              "  <svg xmlns=\"http://www.w3.org/2000/svg\" height=\"24px\"viewBox=\"0 0 24 24\"\n",
              "       width=\"24px\">\n",
              "    <path d=\"M0 0h24v24H0V0z\" fill=\"none\"/>\n",
              "    <path d=\"M18.56 5.44l.94 2.06.94-2.06 2.06-.94-2.06-.94-.94-2.06-.94 2.06-2.06.94zm-11 1L8.5 8.5l.94-2.06 2.06-.94-2.06-.94L8.5 2.5l-.94 2.06-2.06.94zm10 10l.94 2.06.94-2.06 2.06-.94-2.06-.94-.94-2.06-.94 2.06-2.06.94z\"/><path d=\"M17.41 7.96l-1.37-1.37c-.4-.4-.92-.59-1.43-.59-.52 0-1.04.2-1.43.59L10.3 9.45l-7.72 7.72c-.78.78-.78 2.05 0 2.83L4 21.41c.39.39.9.59 1.41.59.51 0 1.02-.2 1.41-.59l7.78-7.78 2.81-2.81c.8-.78.8-2.07 0-2.86zM5.41 20L4 18.59l7.72-7.72 1.47 1.35L5.41 20z\"/>\n",
              "  </svg>\n",
              "      </button>\n",
              "      \n",
              "  <style>\n",
              "    .colab-df-container {\n",
              "      display:flex;\n",
              "      flex-wrap:wrap;\n",
              "      gap: 12px;\n",
              "    }\n",
              "\n",
              "    .colab-df-convert {\n",
              "      background-color: #E8F0FE;\n",
              "      border: none;\n",
              "      border-radius: 50%;\n",
              "      cursor: pointer;\n",
              "      display: none;\n",
              "      fill: #1967D2;\n",
              "      height: 32px;\n",
              "      padding: 0 0 0 0;\n",
              "      width: 32px;\n",
              "    }\n",
              "\n",
              "    .colab-df-convert:hover {\n",
              "      background-color: #E2EBFA;\n",
              "      box-shadow: 0px 1px 2px rgba(60, 64, 67, 0.3), 0px 1px 3px 1px rgba(60, 64, 67, 0.15);\n",
              "      fill: #174EA6;\n",
              "    }\n",
              "\n",
              "    [theme=dark] .colab-df-convert {\n",
              "      background-color: #3B4455;\n",
              "      fill: #D2E3FC;\n",
              "    }\n",
              "\n",
              "    [theme=dark] .colab-df-convert:hover {\n",
              "      background-color: #434B5C;\n",
              "      box-shadow: 0px 1px 3px 1px rgba(0, 0, 0, 0.15);\n",
              "      filter: drop-shadow(0px 1px 2px rgba(0, 0, 0, 0.3));\n",
              "      fill: #FFFFFF;\n",
              "    }\n",
              "  </style>\n",
              "\n",
              "      <script>\n",
              "        const buttonEl =\n",
              "          document.querySelector('#df-777d0f3f-c554-4c14-b16c-ec08b87ba653 button.colab-df-convert');\n",
              "        buttonEl.style.display =\n",
              "          google.colab.kernel.accessAllowed ? 'block' : 'none';\n",
              "\n",
              "        async function convertToInteractive(key) {\n",
              "          const element = document.querySelector('#df-777d0f3f-c554-4c14-b16c-ec08b87ba653');\n",
              "          const dataTable =\n",
              "            await google.colab.kernel.invokeFunction('convertToInteractive',\n",
              "                                                     [key], {});\n",
              "          if (!dataTable) return;\n",
              "\n",
              "          const docLinkHtml = 'Like what you see? Visit the ' +\n",
              "            '<a target=\"_blank\" href=https://colab.research.google.com/notebooks/data_table.ipynb>data table notebook</a>'\n",
              "            + ' to learn more about interactive tables.';\n",
              "          element.innerHTML = '';\n",
              "          dataTable['output_type'] = 'display_data';\n",
              "          await google.colab.output.renderOutput(dataTable, element);\n",
              "          const docLink = document.createElement('div');\n",
              "          docLink.innerHTML = docLinkHtml;\n",
              "          element.appendChild(docLink);\n",
              "        }\n",
              "      </script>\n",
              "    </div>\n",
              "  </div>\n",
              "  "
            ]
          },
          "metadata": {},
          "execution_count": 6
        }
      ]
    },
    {
      "cell_type": "code",
      "source": [
        "# There are some modifications tha we need to make to our data set, so let's work with a copy\n",
        "c_df = df.copy()"
      ],
      "metadata": {
        "id": "2ywp3QNx1Iw4"
      },
      "execution_count": null,
      "outputs": []
    },
    {
      "cell_type": "code",
      "source": [
        "# We can drop the ID rown, because it wont provide any useful information\n",
        "  # We will still have the index column for row location, etc\n",
        "c_df.drop(columns = 'ID', inplace = True)"
      ],
      "metadata": {
        "id": "IuMzhBSJ1zGn"
      },
      "execution_count": null,
      "outputs": []
    },
    {
      "cell_type": "code",
      "source": [
        "# Take a general look at our data set\n",
        "c_df.info()\n",
        "  # We have a mix of object and numeric columns"
      ],
      "metadata": {
        "colab": {
          "base_uri": "https://localhost:8080/"
        },
        "id": "_Q4oadUte_Qa",
        "outputId": "425dba91-83c0-4e8c-a6d9-53cb583107e4"
      },
      "execution_count": null,
      "outputs": [
        {
          "output_type": "stream",
          "name": "stdout",
          "text": [
            "<class 'pandas.core.frame.DataFrame'>\n",
            "RangeIndex: 418 entries, 0 to 417\n",
            "Data columns (total 19 columns):\n",
            " #   Column         Non-Null Count  Dtype  \n",
            "---  ------         --------------  -----  \n",
            " 0   N_Days         418 non-null    int64  \n",
            " 1   Status         418 non-null    object \n",
            " 2   Drug           312 non-null    object \n",
            " 3   Age            418 non-null    int64  \n",
            " 4   Sex            418 non-null    object \n",
            " 5   Ascites        312 non-null    object \n",
            " 6   Hepatomegaly   312 non-null    object \n",
            " 7   Spiders        312 non-null    object \n",
            " 8   Edema          418 non-null    object \n",
            " 9   Bilirubin      418 non-null    float64\n",
            " 10  Cholesterol    284 non-null    float64\n",
            " 11  Albumin        418 non-null    float64\n",
            " 12  Copper         310 non-null    float64\n",
            " 13  Alk_Phos       312 non-null    float64\n",
            " 14  SGOT           312 non-null    float64\n",
            " 15  Tryglicerides  282 non-null    float64\n",
            " 16  Platelets      407 non-null    float64\n",
            " 17  Prothrombin    416 non-null    float64\n",
            " 18  Stage          412 non-null    float64\n",
            "dtypes: float64(10), int64(2), object(7)\n",
            "memory usage: 62.2+ KB\n"
          ]
        }
      ]
    },
    {
      "cell_type": "code",
      "source": [
        "# We will have a lot of imputing to do\n",
        "c_df.isna().sum().sum()"
      ],
      "metadata": {
        "colab": {
          "base_uri": "https://localhost:8080/"
        },
        "id": "DiFqiT9leIaJ",
        "outputId": "78d66af1-d587-4ee8-f0ed-3c1dce3f1316"
      },
      "execution_count": null,
      "outputs": [
        {
          "output_type": "execute_result",
          "data": {
            "text/plain": [
              "1033"
            ]
          },
          "metadata": {},
          "execution_count": 10
        }
      ]
    },
    {
      "cell_type": "code",
      "source": [
        "# No duplicates\n",
        "c_df.duplicated().sum()"
      ],
      "metadata": {
        "colab": {
          "base_uri": "https://localhost:8080/"
        },
        "id": "XOP9fBIztZ8L",
        "outputId": "ca259544-e537-42fd-a06e-b6a0f8bcfcfb"
      },
      "execution_count": null,
      "outputs": [
        {
          "output_type": "execute_result",
          "data": {
            "text/plain": [
              "0"
            ]
          },
          "metadata": {},
          "execution_count": 11
        }
      ]
    },
    {
      "cell_type": "code",
      "source": [
        "# Take a look at outlier and gather more information\n",
        "c_df.describe()"
      ],
      "metadata": {
        "colab": {
          "base_uri": "https://localhost:8080/",
          "height": 297
        },
        "id": "dq7qIER20fOA",
        "outputId": "1708c01e-d022-4c56-f7c6-2b21218db947"
      },
      "execution_count": null,
      "outputs": [
        {
          "output_type": "execute_result",
          "data": {
            "text/plain": [
              "            N_Days           Age   Bilirubin  Cholesterol     Albumin  \\\n",
              "count   418.000000    418.000000  418.000000   284.000000  418.000000   \n",
              "mean   1917.782297  18533.351675    3.220813   369.510563    3.497440   \n",
              "std    1104.672992   3815.845055    4.407506   231.944545    0.424972   \n",
              "min      41.000000   9598.000000    0.300000   120.000000    1.960000   \n",
              "25%    1092.750000  15644.500000    0.800000   249.500000    3.242500   \n",
              "50%    1730.000000  18628.000000    1.400000   309.500000    3.530000   \n",
              "75%    2613.500000  21272.500000    3.400000   400.000000    3.770000   \n",
              "max    4795.000000  28650.000000   28.000000  1775.000000    4.640000   \n",
              "\n",
              "           Copper      Alk_Phos        SGOT  Tryglicerides   Platelets  \\\n",
              "count  310.000000    312.000000  312.000000     282.000000  407.000000   \n",
              "mean    97.648387   1982.655769  122.556346     124.702128  257.024570   \n",
              "std     85.613920   2140.388824   56.699525      65.148639   98.325585   \n",
              "min      4.000000    289.000000   26.350000      33.000000   62.000000   \n",
              "25%     41.250000    871.500000   80.600000      84.250000  188.500000   \n",
              "50%     73.000000   1259.000000  114.700000     108.000000  251.000000   \n",
              "75%    123.000000   1980.000000  151.900000     151.000000  318.000000   \n",
              "max    588.000000  13862.400000  457.250000     598.000000  721.000000   \n",
              "\n",
              "       Prothrombin       Stage  \n",
              "count   416.000000  412.000000  \n",
              "mean     10.731731    3.024272  \n",
              "std       1.022000    0.882042  \n",
              "min       9.000000    1.000000  \n",
              "25%      10.000000    2.000000  \n",
              "50%      10.600000    3.000000  \n",
              "75%      11.100000    4.000000  \n",
              "max      18.000000    4.000000  "
            ],
            "text/html": [
              "\n",
              "  <div id=\"df-eaf780b7-ce12-48c6-b4be-c1277a32e9a8\">\n",
              "    <div class=\"colab-df-container\">\n",
              "      <div>\n",
              "<style scoped>\n",
              "    .dataframe tbody tr th:only-of-type {\n",
              "        vertical-align: middle;\n",
              "    }\n",
              "\n",
              "    .dataframe tbody tr th {\n",
              "        vertical-align: top;\n",
              "    }\n",
              "\n",
              "    .dataframe thead th {\n",
              "        text-align: right;\n",
              "    }\n",
              "</style>\n",
              "<table border=\"1\" class=\"dataframe\">\n",
              "  <thead>\n",
              "    <tr style=\"text-align: right;\">\n",
              "      <th></th>\n",
              "      <th>N_Days</th>\n",
              "      <th>Age</th>\n",
              "      <th>Bilirubin</th>\n",
              "      <th>Cholesterol</th>\n",
              "      <th>Albumin</th>\n",
              "      <th>Copper</th>\n",
              "      <th>Alk_Phos</th>\n",
              "      <th>SGOT</th>\n",
              "      <th>Tryglicerides</th>\n",
              "      <th>Platelets</th>\n",
              "      <th>Prothrombin</th>\n",
              "      <th>Stage</th>\n",
              "    </tr>\n",
              "  </thead>\n",
              "  <tbody>\n",
              "    <tr>\n",
              "      <th>count</th>\n",
              "      <td>418.000000</td>\n",
              "      <td>418.000000</td>\n",
              "      <td>418.000000</td>\n",
              "      <td>284.000000</td>\n",
              "      <td>418.000000</td>\n",
              "      <td>310.000000</td>\n",
              "      <td>312.000000</td>\n",
              "      <td>312.000000</td>\n",
              "      <td>282.000000</td>\n",
              "      <td>407.000000</td>\n",
              "      <td>416.000000</td>\n",
              "      <td>412.000000</td>\n",
              "    </tr>\n",
              "    <tr>\n",
              "      <th>mean</th>\n",
              "      <td>1917.782297</td>\n",
              "      <td>18533.351675</td>\n",
              "      <td>3.220813</td>\n",
              "      <td>369.510563</td>\n",
              "      <td>3.497440</td>\n",
              "      <td>97.648387</td>\n",
              "      <td>1982.655769</td>\n",
              "      <td>122.556346</td>\n",
              "      <td>124.702128</td>\n",
              "      <td>257.024570</td>\n",
              "      <td>10.731731</td>\n",
              "      <td>3.024272</td>\n",
              "    </tr>\n",
              "    <tr>\n",
              "      <th>std</th>\n",
              "      <td>1104.672992</td>\n",
              "      <td>3815.845055</td>\n",
              "      <td>4.407506</td>\n",
              "      <td>231.944545</td>\n",
              "      <td>0.424972</td>\n",
              "      <td>85.613920</td>\n",
              "      <td>2140.388824</td>\n",
              "      <td>56.699525</td>\n",
              "      <td>65.148639</td>\n",
              "      <td>98.325585</td>\n",
              "      <td>1.022000</td>\n",
              "      <td>0.882042</td>\n",
              "    </tr>\n",
              "    <tr>\n",
              "      <th>min</th>\n",
              "      <td>41.000000</td>\n",
              "      <td>9598.000000</td>\n",
              "      <td>0.300000</td>\n",
              "      <td>120.000000</td>\n",
              "      <td>1.960000</td>\n",
              "      <td>4.000000</td>\n",
              "      <td>289.000000</td>\n",
              "      <td>26.350000</td>\n",
              "      <td>33.000000</td>\n",
              "      <td>62.000000</td>\n",
              "      <td>9.000000</td>\n",
              "      <td>1.000000</td>\n",
              "    </tr>\n",
              "    <tr>\n",
              "      <th>25%</th>\n",
              "      <td>1092.750000</td>\n",
              "      <td>15644.500000</td>\n",
              "      <td>0.800000</td>\n",
              "      <td>249.500000</td>\n",
              "      <td>3.242500</td>\n",
              "      <td>41.250000</td>\n",
              "      <td>871.500000</td>\n",
              "      <td>80.600000</td>\n",
              "      <td>84.250000</td>\n",
              "      <td>188.500000</td>\n",
              "      <td>10.000000</td>\n",
              "      <td>2.000000</td>\n",
              "    </tr>\n",
              "    <tr>\n",
              "      <th>50%</th>\n",
              "      <td>1730.000000</td>\n",
              "      <td>18628.000000</td>\n",
              "      <td>1.400000</td>\n",
              "      <td>309.500000</td>\n",
              "      <td>3.530000</td>\n",
              "      <td>73.000000</td>\n",
              "      <td>1259.000000</td>\n",
              "      <td>114.700000</td>\n",
              "      <td>108.000000</td>\n",
              "      <td>251.000000</td>\n",
              "      <td>10.600000</td>\n",
              "      <td>3.000000</td>\n",
              "    </tr>\n",
              "    <tr>\n",
              "      <th>75%</th>\n",
              "      <td>2613.500000</td>\n",
              "      <td>21272.500000</td>\n",
              "      <td>3.400000</td>\n",
              "      <td>400.000000</td>\n",
              "      <td>3.770000</td>\n",
              "      <td>123.000000</td>\n",
              "      <td>1980.000000</td>\n",
              "      <td>151.900000</td>\n",
              "      <td>151.000000</td>\n",
              "      <td>318.000000</td>\n",
              "      <td>11.100000</td>\n",
              "      <td>4.000000</td>\n",
              "    </tr>\n",
              "    <tr>\n",
              "      <th>max</th>\n",
              "      <td>4795.000000</td>\n",
              "      <td>28650.000000</td>\n",
              "      <td>28.000000</td>\n",
              "      <td>1775.000000</td>\n",
              "      <td>4.640000</td>\n",
              "      <td>588.000000</td>\n",
              "      <td>13862.400000</td>\n",
              "      <td>457.250000</td>\n",
              "      <td>598.000000</td>\n",
              "      <td>721.000000</td>\n",
              "      <td>18.000000</td>\n",
              "      <td>4.000000</td>\n",
              "    </tr>\n",
              "  </tbody>\n",
              "</table>\n",
              "</div>\n",
              "      <button class=\"colab-df-convert\" onclick=\"convertToInteractive('df-eaf780b7-ce12-48c6-b4be-c1277a32e9a8')\"\n",
              "              title=\"Convert this dataframe to an interactive table.\"\n",
              "              style=\"display:none;\">\n",
              "        \n",
              "  <svg xmlns=\"http://www.w3.org/2000/svg\" height=\"24px\"viewBox=\"0 0 24 24\"\n",
              "       width=\"24px\">\n",
              "    <path d=\"M0 0h24v24H0V0z\" fill=\"none\"/>\n",
              "    <path d=\"M18.56 5.44l.94 2.06.94-2.06 2.06-.94-2.06-.94-.94-2.06-.94 2.06-2.06.94zm-11 1L8.5 8.5l.94-2.06 2.06-.94-2.06-.94L8.5 2.5l-.94 2.06-2.06.94zm10 10l.94 2.06.94-2.06 2.06-.94-2.06-.94-.94-2.06-.94 2.06-2.06.94z\"/><path d=\"M17.41 7.96l-1.37-1.37c-.4-.4-.92-.59-1.43-.59-.52 0-1.04.2-1.43.59L10.3 9.45l-7.72 7.72c-.78.78-.78 2.05 0 2.83L4 21.41c.39.39.9.59 1.41.59.51 0 1.02-.2 1.41-.59l7.78-7.78 2.81-2.81c.8-.78.8-2.07 0-2.86zM5.41 20L4 18.59l7.72-7.72 1.47 1.35L5.41 20z\"/>\n",
              "  </svg>\n",
              "      </button>\n",
              "      \n",
              "  <style>\n",
              "    .colab-df-container {\n",
              "      display:flex;\n",
              "      flex-wrap:wrap;\n",
              "      gap: 12px;\n",
              "    }\n",
              "\n",
              "    .colab-df-convert {\n",
              "      background-color: #E8F0FE;\n",
              "      border: none;\n",
              "      border-radius: 50%;\n",
              "      cursor: pointer;\n",
              "      display: none;\n",
              "      fill: #1967D2;\n",
              "      height: 32px;\n",
              "      padding: 0 0 0 0;\n",
              "      width: 32px;\n",
              "    }\n",
              "\n",
              "    .colab-df-convert:hover {\n",
              "      background-color: #E2EBFA;\n",
              "      box-shadow: 0px 1px 2px rgba(60, 64, 67, 0.3), 0px 1px 3px 1px rgba(60, 64, 67, 0.15);\n",
              "      fill: #174EA6;\n",
              "    }\n",
              "\n",
              "    [theme=dark] .colab-df-convert {\n",
              "      background-color: #3B4455;\n",
              "      fill: #D2E3FC;\n",
              "    }\n",
              "\n",
              "    [theme=dark] .colab-df-convert:hover {\n",
              "      background-color: #434B5C;\n",
              "      box-shadow: 0px 1px 3px 1px rgba(0, 0, 0, 0.15);\n",
              "      filter: drop-shadow(0px 1px 2px rgba(0, 0, 0, 0.3));\n",
              "      fill: #FFFFFF;\n",
              "    }\n",
              "  </style>\n",
              "\n",
              "      <script>\n",
              "        const buttonEl =\n",
              "          document.querySelector('#df-eaf780b7-ce12-48c6-b4be-c1277a32e9a8 button.colab-df-convert');\n",
              "        buttonEl.style.display =\n",
              "          google.colab.kernel.accessAllowed ? 'block' : 'none';\n",
              "\n",
              "        async function convertToInteractive(key) {\n",
              "          const element = document.querySelector('#df-eaf780b7-ce12-48c6-b4be-c1277a32e9a8');\n",
              "          const dataTable =\n",
              "            await google.colab.kernel.invokeFunction('convertToInteractive',\n",
              "                                                     [key], {});\n",
              "          if (!dataTable) return;\n",
              "\n",
              "          const docLinkHtml = 'Like what you see? Visit the ' +\n",
              "            '<a target=\"_blank\" href=https://colab.research.google.com/notebooks/data_table.ipynb>data table notebook</a>'\n",
              "            + ' to learn more about interactive tables.';\n",
              "          element.innerHTML = '';\n",
              "          dataTable['output_type'] = 'display_data';\n",
              "          await google.colab.output.renderOutput(dataTable, element);\n",
              "          const docLink = document.createElement('div');\n",
              "          docLink.innerHTML = docLinkHtml;\n",
              "          element.appendChild(docLink);\n",
              "        }\n",
              "      </script>\n",
              "    </div>\n",
              "  </div>\n",
              "  "
            ]
          },
          "metadata": {},
          "execution_count": 12
        }
      ]
    },
    {
      "cell_type": "code",
      "source": [
        "# Age is listed as \"Days\", making our oldest patient 78 years old. This is normal\n",
        "   # Get info on our object columns\n",
        "c_df.dtypes "
      ],
      "metadata": {
        "colab": {
          "base_uri": "https://localhost:8080/"
        },
        "id": "_4Mh7CbnHai_",
        "outputId": "fbca3187-562f-453f-f036-fcffedc28bf3"
      },
      "execution_count": null,
      "outputs": [
        {
          "output_type": "execute_result",
          "data": {
            "text/plain": [
              "N_Days             int64\n",
              "Status            object\n",
              "Drug              object\n",
              "Age                int64\n",
              "Sex               object\n",
              "Ascites           object\n",
              "Hepatomegaly      object\n",
              "Spiders           object\n",
              "Edema             object\n",
              "Bilirubin        float64\n",
              "Cholesterol      float64\n",
              "Albumin          float64\n",
              "Copper           float64\n",
              "Alk_Phos         float64\n",
              "SGOT             float64\n",
              "Tryglicerides    float64\n",
              "Platelets        float64\n",
              "Prothrombin      float64\n",
              "Stage            float64\n",
              "dtype: object"
            ]
          },
          "metadata": {},
          "execution_count": 13
        }
      ]
    },
    {
      "cell_type": "code",
      "source": [
        "c_df['Stage'].value_counts()\n",
        "# All values are appropriate"
      ],
      "metadata": {
        "colab": {
          "base_uri": "https://localhost:8080/"
        },
        "id": "RgFr2lWFFzlK",
        "outputId": "ec7ef486-169d-427d-cf81-a99c045e1698"
      },
      "execution_count": null,
      "outputs": [
        {
          "output_type": "execute_result",
          "data": {
            "text/plain": [
              "3.0    155\n",
              "4.0    144\n",
              "2.0     92\n",
              "1.0     21\n",
              "Name: Stage, dtype: int64"
            ]
          },
          "metadata": {},
          "execution_count": 14
        }
      ]
    },
    {
      "cell_type": "code",
      "source": [
        "# No strange values here\n",
        "c_df['Sex'].value_counts()"
      ],
      "metadata": {
        "colab": {
          "base_uri": "https://localhost:8080/"
        },
        "id": "k036Wdb0GSvy",
        "outputId": "19fbafa0-5a49-4ef6-bc58-c49b0e6f7b48"
      },
      "execution_count": null,
      "outputs": [
        {
          "output_type": "execute_result",
          "data": {
            "text/plain": [
              "F    374\n",
              "M     44\n",
              "Name: Sex, dtype: int64"
            ]
          },
          "metadata": {},
          "execution_count": 15
        }
      ]
    },
    {
      "cell_type": "code",
      "source": [
        "# All values are appropriate\n",
        "c_df['Status'].value_counts()"
      ],
      "metadata": {
        "colab": {
          "base_uri": "https://localhost:8080/"
        },
        "id": "1Hfu2UMkG6id",
        "outputId": "8bf572f7-4a4b-47c7-ce1f-b369c1a83545"
      },
      "execution_count": null,
      "outputs": [
        {
          "output_type": "execute_result",
          "data": {
            "text/plain": [
              "C     232\n",
              "D     161\n",
              "CL     25\n",
              "Name: Status, dtype: int64"
            ]
          },
          "metadata": {},
          "execution_count": 16
        }
      ]
    },
    {
      "cell_type": "code",
      "source": [
        "# All values are appropriate\n",
        "c_df['Drug'].value_counts()"
      ],
      "metadata": {
        "colab": {
          "base_uri": "https://localhost:8080/"
        },
        "id": "lX9NZvNhHMYa",
        "outputId": "206d40d9-f32f-457f-d2e3-94ff785c6a90"
      },
      "execution_count": null,
      "outputs": [
        {
          "output_type": "execute_result",
          "data": {
            "text/plain": [
              "D-penicillamine    158\n",
              "Placebo            154\n",
              "Name: Drug, dtype: int64"
            ]
          },
          "metadata": {},
          "execution_count": 17
        }
      ]
    },
    {
      "cell_type": "code",
      "source": [
        "# All values are appropriate\n",
        "c_df['Ascites'].value_counts()"
      ],
      "metadata": {
        "colab": {
          "base_uri": "https://localhost:8080/"
        },
        "id": "Mwtq9VIbHS9u",
        "outputId": "7dac4dc4-f1ff-478a-c570-9dc0d6a62fe1"
      },
      "execution_count": null,
      "outputs": [
        {
          "output_type": "execute_result",
          "data": {
            "text/plain": [
              "N    288\n",
              "Y     24\n",
              "Name: Ascites, dtype: int64"
            ]
          },
          "metadata": {},
          "execution_count": 18
        }
      ]
    },
    {
      "cell_type": "code",
      "source": [
        "# All values are appropriate\n",
        "c_df['Hepatomegaly'].value_counts()"
      ],
      "metadata": {
        "colab": {
          "base_uri": "https://localhost:8080/"
        },
        "id": "i23fpGovHw7U",
        "outputId": "1502b868-2e98-4f45-99ee-bf76fce8907f"
      },
      "execution_count": null,
      "outputs": [
        {
          "output_type": "execute_result",
          "data": {
            "text/plain": [
              "Y    160\n",
              "N    152\n",
              "Name: Hepatomegaly, dtype: int64"
            ]
          },
          "metadata": {},
          "execution_count": 19
        }
      ]
    },
    {
      "cell_type": "code",
      "source": [
        "# All values are appropriate\n",
        "c_df['Spiders'].value_counts()"
      ],
      "metadata": {
        "colab": {
          "base_uri": "https://localhost:8080/"
        },
        "id": "QvgulxmJH44L",
        "outputId": "81200005-9a8f-498e-d397-0e41f02833db"
      },
      "execution_count": null,
      "outputs": [
        {
          "output_type": "execute_result",
          "data": {
            "text/plain": [
              "N    222\n",
              "Y     90\n",
              "Name: Spiders, dtype: int64"
            ]
          },
          "metadata": {},
          "execution_count": 20
        }
      ]
    },
    {
      "cell_type": "code",
      "source": [
        "# All values are appropriate\n",
        "c_df['Edema'].value_counts()"
      ],
      "metadata": {
        "colab": {
          "base_uri": "https://localhost:8080/"
        },
        "id": "WZL1RkMDH9Vq",
        "outputId": "cb3b8b09-fa2e-41f7-ede6-187588512b65"
      },
      "execution_count": null,
      "outputs": [
        {
          "output_type": "execute_result",
          "data": {
            "text/plain": [
              "N    354\n",
              "S     44\n",
              "Y     20\n",
              "Name: Edema, dtype: int64"
            ]
          },
          "metadata": {},
          "execution_count": 21
        }
      ]
    },
    {
      "cell_type": "markdown",
      "source": [
        "## All of our missing values can be handled in a preprocessor using imputers"
      ],
      "metadata": {
        "id": "xwTKsEoHJFTh"
      }
    },
    {
      "cell_type": "markdown",
      "source": [
        "# Below, we will explore our data with visualizations\n",
        "\n",
        "### Here is a key explaning our Columns\n",
        "\n",
        "1) ID: unique identifier - (*We dropped this column*)\n",
        "\n",
        "2) N_Days: number of days between registration and the earlier of death, transplantation, or study analysis time in July 1986\n",
        "\n",
        "3) Status: status of the patient C (censored), CL (censored due to liver tx), or D (death)\n",
        "\n",
        "4) Drug: type of drug D-penicillamine or placebo\n",
        "\n",
        "5) Age: age in [days]\n",
        "\n",
        "6) Sex: M (male) or F (female)\n",
        "\n",
        "7) Ascites: presence of ascites N (No) or Y (Yes)\n",
        "\n",
        "8) Hepatomegaly: presence of hepatomegaly N (No) or Y (Yes)\n",
        "\n",
        "9) Spiders: presence of spiders N (No) or Y (Yes)\n",
        "\n",
        "10) Edema: presence of edema N (no edema and no diuretic therapy for edema), S (edema present without diuretics, or edema resolved by diuretics), or Y (edema despite diuretic therapy)\n",
        "\n",
        "11) Bilirubin: serum bilirubin in [mg/dl]\n",
        "\n",
        "12) Cholesterol: serum cholesterol in [mg/dl]\n",
        "\n",
        "13) Albumin: albumin in [gm/dl]\n",
        "\n",
        "14) Copper: urine copper in [ug/day]\n",
        "\n",
        "15) Alk_Phos: alkaline phosphatase in [U/liter]\n",
        "\n",
        "16) SGOT: SGOT in [U/ml]\n",
        "\n",
        "17) Triglycerides: triglicerides in [mg/dl]\n",
        "\n",
        "18) Platelets: platelets per cubic [ml/1000]\n",
        "\n",
        "19) Prothrombin: prothrombin time in seconds [s]\n",
        "\n",
        "20) Stage: histologic stage of disease (1, 2, 3, or 4)"
      ],
      "metadata": {
        "id": "1PvZ32FRRqqX"
      }
    },
    {
      "cell_type": "code",
      "source": [
        "# Lest's visualize some our data to gather more understanding \n",
        "c_df[\"Stage\"].hist();\n",
        "  # We can see here, that of the patients recorded, we primarily see stage 3\n",
        "  # This shows some imbalance in our target (very small number of stage 1), which may need to be addressed later"
      ],
      "metadata": {
        "colab": {
          "base_uri": "https://localhost:8080/",
          "height": 266
        },
        "id": "tVHwFM6zICH-",
        "outputId": "02a7d3c7-2fa6-4a97-8c11-aad6883953e5"
      },
      "execution_count": null,
      "outputs": [
        {
          "output_type": "display_data",
          "data": {
            "text/plain": [
              "<Figure size 432x288 with 1 Axes>"
            ],
            "image/png": "[encoded data removed]"
          },
          "metadata": {
            "needs_background": "light"
          }
        }
      ]
    },
    {
      "cell_type": "code",
      "source": [
        "# Let's explore the distribution of our cholesterol levels\n",
        "\n",
        "sns.boxplot(x = df[\"Cholesterol\"], notch = True);\n",
        "  # Our cholesterol levels are mostly between ~ 225 - 400"
      ],
      "metadata": {
        "colab": {
          "base_uri": "https://localhost:8080/",
          "height": 279
        },
        "id": "Rj925IDgHQdW",
        "outputId": "ca1e074f-2bf1-4a7c-d567-ae71c200e6e6"
      },
      "execution_count": null,
      "outputs": [
        {
          "output_type": "display_data",
          "data": {
            "text/plain": [
              "<Figure size 432x288 with 1 Axes>"
            ],
            "image/png": "[encoded data removed]"
          },
          "metadata": {
            "needs_background": "light"
          }
        }
      ]
    },
    {
      "cell_type": "code",
      "source": [
        "# And a histogram of our age (in days)\n",
        "c_df[\"Age\"].hist();\n",
        "  # The age of our patients lies mostly between 15,000 - 22,500 days (41-61 years old)"
      ],
      "metadata": {
        "colab": {
          "base_uri": "https://localhost:8080/",
          "height": 267
        },
        "id": "ZZuVmo5xO4Qv",
        "outputId": "f0745768-ecd7-422e-a6d9-fcac55d710f5"
      },
      "execution_count": null,
      "outputs": [
        {
          "output_type": "display_data",
          "data": {
            "text/plain": [
              "<Figure size 432x288 with 1 Axes>"
            ],
            "image/png": "[encoded data removed]"
          },
          "metadata": {
            "needs_background": "light"
          }
        }
      ]
    },
    {
      "cell_type": "markdown",
      "source": [
        "### I want to add a couple multivariate visuals, because we can!"
      ],
      "metadata": {
        "id": "l9CsaIFOQhqs"
      }
    },
    {
      "cell_type": "code",
      "source": [
        "# Look at Sex and Tryglicerides\n",
        "sns.boxplot(x = 'Sex', y = 'Tryglicerides', data = c_df);\n",
        "  # This shows tha Males have higher median Trygliceride levels\n",
        "  # Females have higher Trygliceride outliers "
      ],
      "metadata": {
        "colab": {
          "base_uri": "https://localhost:8080/",
          "height": 279
        },
        "id": "eXeQgYCOQFeV",
        "outputId": "366a0a55-2be6-4c0c-ea6d-f4c6d0c2253e"
      },
      "execution_count": null,
      "outputs": [
        {
          "output_type": "display_data",
          "data": {
            "text/plain": [
              "<Figure size 432x288 with 1 Axes>"
            ],
            "image/png": "[encoded data removed]"
          },
          "metadata": {
            "needs_background": "light"
          }
        }
      ]
    },
    {
      "cell_type": "code",
      "source": [
        "# Lastly, I am interested in seeing a relationship between Edema and Albumin\n",
        "sns.boxplot(x = 'Edema', y = 'Albumin', data = c_df);\n",
        "  # We can see that Albumin Levels are highest (Overall + highest Median) in patients with No Edema\n",
        "  # We can see that Albumin is lowest overall in patients who have Edema dispite diuretic therapy"
      ],
      "metadata": {
        "colab": {
          "base_uri": "https://localhost:8080/",
          "height": 279
        },
        "id": "UC7udXzXRbht",
        "outputId": "467994f0-f169-467f-fc67-d2578fe735d6"
      },
      "execution_count": null,
      "outputs": [
        {
          "output_type": "display_data",
          "data": {
            "text/plain": [
              "<Figure size 432x288 with 1 Axes>"
            ],
            "image/png": "[encoded data removed]"
          },
          "metadata": {
            "needs_background": "light"
          }
        }
      ]
    },
    {
      "cell_type": "code",
      "source": [
        "# Lastly, a heatmap, because they can be helpful\n",
        "corr = c_df.corr()\n",
        "fig, ax = plt.subplots(figsize=(20,11))\n",
        "sns.heatmap(corr, cmap = \"Blues\", annot = True);\n",
        "  # We do not see any strong correlations with our numerical data\n",
        "  # In fact, there is not a single correlation >= 0.5"
      ],
      "metadata": {
        "colab": {
          "base_uri": "https://localhost:8080/",
          "height": 651
        },
        "id": "c_aSAkzAS57o",
        "outputId": "77dea7dc-3d80-47ac-92c8-84e9ba96e9e8"
      },
      "execution_count": null,
      "outputs": [
        {
          "output_type": "display_data",
          "data": {
            "text/plain": [
              "<Figure size 1440x792 with 2 Axes>"
            ],
            "image/png": "[encoded data removed]"
          },
          "metadata": {
            "needs_background": "light"
          }
        }
      ]
    },
    {
      "cell_type": "markdown",
      "source": [
        "##We don't have any strong standout correlations, but we will be looking at the strongest correlations we have\n",
        "###Let's continue our analysis and explore what correlations we do see\n",
        "\n",
        "Here are our top 5 most correlated (positive and negative) values with our target (Stage)\n",
        "  - N_Days (-0.37)\n",
        "  - Albumin (-0.31)\n",
        "  - Copper (0.27)\n",
        "  - Platelets (-0.25)\n",
        "  - Prothrombin (0.21)\n",
        "\n",
        "### This is a good example of requiring many differnt data points to make useful predictions. Since no single piece of data is strongly correlated with our target, we will need all points together to help us build a decent model"
      ],
      "metadata": {
        "id": "Sk8lN8hiUOd_"
      }
    },
    {
      "cell_type": "code",
      "source": [
        "# Let's further visualize a couple correlated data points\n",
        "sns.boxplot(x = 'Stage', y = 'N_Days', data = c_df);"
      ],
      "metadata": {
        "colab": {
          "base_uri": "https://localhost:8080/",
          "height": 282
        },
        "id": "O9A8qkmuiC44",
        "outputId": "bcef783c-f392-47cf-9ef9-c3438cdee8d0"
      },
      "execution_count": null,
      "outputs": [
        {
          "output_type": "display_data",
          "data": {
            "text/plain": [
              "<Figure size 432x288 with 1 Axes>"
            ],
            "image/png": "[encoded data removed]"
          },
          "metadata": {
            "needs_background": "light"
          }
        }
      ]
    },
    {
      "cell_type": "markdown",
      "source": [
        "As the Stage (aka severity) of cirrhosis increases, the N_Days decreases. This is probably do to expediting care for those with a more sever condition, (transplant, etc) or, due to death of the more ill patients. Although the correlation is NEGATIVE, that does not mean it doesn't have a trend"
      ],
      "metadata": {
        "id": "7agbySS7i36X"
      }
    },
    {
      "cell_type": "code",
      "source": [
        "# Let's now view a positive correlation (although it isn't the strongest), just for comparison\n",
        "sns.barplot(data = c_df, x = \"Stage\", y = \"Copper\");\n",
        "plt.ylabel(\"Stage of Cirrhosis\")\n",
        "plt.xlabel(\"Urin Copper [ug/day]\");"
      ],
      "metadata": {
        "colab": {
          "base_uri": "https://localhost:8080/",
          "height": 279
        },
        "id": "8uEAlopOgHZE",
        "outputId": "095fd093-626c-4cdc-c226-45bae340b123"
      },
      "execution_count": null,
      "outputs": [
        {
          "output_type": "display_data",
          "data": {
            "text/plain": [
              "<Figure size 432x288 with 1 Axes>"
            ],
            "image/png": "[encoded data removed]"
          },
          "metadata": {
            "needs_background": "light"
          }
        }
      ]
    },
    {
      "cell_type": "markdown",
      "source": [
        "We can see that as the severity of cirrhosis increases, so does the amount of copper in patient's urine. Note: a POSITIVE correlation such as this, is NOT inherently beter than a negative correlation such as the one shown above\n",
        "\n",
        "## We will now demonstrate a couple of key finding form our data"
      ],
      "metadata": {
        "id": "KMa4tGgEk3sn"
      }
    },
    {
      "cell_type": "code",
      "source": [
        "fig, ax = plt.subplots(figsize = (12,8))\n",
        "sns.regplot(data = df, x = \"Albumin\", y = \"N_Days\",line_kws = {'color': 'black', 'ls': '-'})\n",
        "plt.ylabel('Number of days from diagnosis to treatment/death')\n",
        "plt.xlabel('Albumin concentration [gm/dl]');"
      ],
      "metadata": {
        "colab": {
          "base_uri": "https://localhost:8080/",
          "height": 497
        },
        "id": "1K344EQ6ky2m",
        "outputId": "dee904ea-3ea9-47a8-dcaf-63f056375bb4"
      },
      "execution_count": null,
      "outputs": [
        {
          "output_type": "display_data",
          "data": {
            "text/plain": [
              "<Figure size 864x576 with 1 Axes>"
            ],
            "image/png": "[encoded data removed]"
          },
          "metadata": {
            "needs_background": "light"
          }
        }
      ]
    },
    {
      "cell_type": "markdown",
      "source": [
        "This shows how how Albumin concentrations increase as the number of days to treatment or death increases, with the black line showing our overall trend. Now, why is this interesting? Due to the correlation of these two data points, and the correlation of N_Days to Stage, we can see that early detection of decreased Albumin could be helpful in determining a need for other tests that are indicitive of cirrhosis. Low albumin levels could clue provisers in to running other tests. This could detect cirrhosis sooner, potentially saving patints from developing worsened cirrhosis."
      ],
      "metadata": {
        "id": "ze_Tn8DVqCLw"
      }
    },
    {
      "cell_type": "code",
      "source": [
        "fig, ax = plt.subplots(figsize=(12,8))\n",
        "sns.barplot(x = 'Stage',y = 'Copper', data = c_df,\n",
        "            hue = 'Sex')\n",
        "plt.xlabel('Stage of Cirrhosis')\n",
        "plt.ylabel('Urine Copper [ug/day]')\n",
        "plt.show()"
      ],
      "metadata": {
        "colab": {
          "base_uri": "https://localhost:8080/",
          "height": 497
        },
        "id": "35ClwjpFncOB",
        "outputId": "7fde7e1e-0330-4c31-b7e3-e9241ab58dca"
      },
      "execution_count": null,
      "outputs": [
        {
          "output_type": "display_data",
          "data": {
            "text/plain": [
              "<Figure size 864x576 with 1 Axes>"
            ],
            "image/png": "[encoded data removed]"
          },
          "metadata": {
            "needs_background": "light"
          }
        }
      ]
    },
    {
      "cell_type": "markdown",
      "source": [
        "Above, we see how urine copper concentrations increase as the severity of Cirrhosis increases. This means that detecting elevated copper in patients early could helpm with cirrosis detection. Here, we can see the differnce between male an female patients, with ma,les having consistently higher levels of urinary copper. This could lead us to determine that either a. men show more excreated copper when cirrhotic and can be flagged as ill more easily, or, b. The baseline comparison of urinary copper can be set higher to avoid false negatives. This determination would require further investigation. Ultimately, iuncreased urinary copper concentrations can help medical providers detect cirrosis, and potentially seveity of cirrhosis, untimately leading to earlier treatment of patients saving time, money, and heartache on both sides (the Medical Providers and Patient/Family)"
      ],
      "metadata": {
        "id": "Sla_c7NZsAxI"
      }
    }
  ]
}